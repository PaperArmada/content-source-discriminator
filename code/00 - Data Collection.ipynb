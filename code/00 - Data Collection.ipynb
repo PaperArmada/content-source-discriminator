{
 "cells": [
  {
   "cell_type": "markdown",
   "id": "d7a7f959",
   "metadata": {},
   "source": [
    "# Project 3: Web APIs & NLP\n",
    "## Matt Reed\n",
    "### Data Collection"
   ]
  },
  {
   "cell_type": "code",
   "execution_count": 2,
   "id": "0ddd5600",
   "metadata": {},
   "outputs": [],
   "source": [
    "import pandas as pd\n",
    "import requests\n",
    "import time"
   ]
  },
  {
   "cell_type": "markdown",
   "id": "e898df93",
   "metadata": {},
   "source": [
    "#### Testing out accessing data through the API"
   ]
  },
  {
   "cell_type": "code",
   "execution_count": 3,
   "id": "ad103aab",
   "metadata": {},
   "outputs": [],
   "source": [
    "url = 'https://api.pushshift.io/reddit/search/submission'"
   ]
  },
  {
   "cell_type": "code",
   "execution_count": 44,
   "id": "09a15ea2",
   "metadata": {},
   "outputs": [],
   "source": [
    "params = {\n",
    "    'subreddit': 'talesfromtechsupport',\n",
    "    'size': 10,\n",
    "#     'before': before,\n",
    "    'score': '>600',\n",
    "    'fields': ['author', 'title', 'selftext', 'created_utc', 'score', 'subreddit'],\n",
    "    'over_18': False,\n",
    "    'is_video': False,\n",
    "    'locked': False,\n",
    "    'stickied': False,\n",
    "}"
   ]
  },
  {
   "cell_type": "code",
   "execution_count": 45,
   "id": "681a1b8d",
   "metadata": {},
   "outputs": [],
   "source": [
    "subreddits = ['talesfromtechsupport', 'talesfromretail']"
   ]
  },
  {
   "cell_type": "code",
   "execution_count": 46,
   "id": "2ff03862",
   "metadata": {},
   "outputs": [],
   "source": [
    "res = requests.get(url, params)"
   ]
  },
  {
   "cell_type": "code",
   "execution_count": 47,
   "id": "c09f4acf",
   "metadata": {},
   "outputs": [
    {
     "data": {
      "text/plain": [
       "200"
      ]
     },
     "execution_count": 47,
     "metadata": {},
     "output_type": "execute_result"
    }
   ],
   "source": [
    "res.status_code"
   ]
  },
  {
   "cell_type": "code",
   "execution_count": 48,
   "id": "8887106c",
   "metadata": {},
   "outputs": [],
   "source": [
    "data = res.json()"
   ]
  },
  {
   "cell_type": "code",
   "execution_count": 49,
   "id": "aebbf0a6",
   "metadata": {},
   "outputs": [],
   "source": [
    "posts = data['data']"
   ]
  },
  {
   "cell_type": "code",
   "execution_count": 50,
   "id": "bdd0c5cc",
   "metadata": {},
   "outputs": [
    {
     "data": {
      "text/plain": [
       "10"
      ]
     },
     "execution_count": 50,
     "metadata": {},
     "output_type": "execute_result"
    }
   ],
   "source": [
    "len(posts)"
   ]
  },
  {
   "cell_type": "code",
   "execution_count": 51,
   "id": "a77b72d2",
   "metadata": {},
   "outputs": [],
   "source": [
    "df = pd.DataFrame(posts)"
   ]
  },
  {
   "cell_type": "code",
   "execution_count": 52,
   "id": "92b62869",
   "metadata": {},
   "outputs": [
    {
     "data": {
      "text/plain": [
       "0    1183\n",
       "1    1634\n",
       "2     870\n",
       "3     935\n",
       "4     682\n",
       "5     944\n",
       "6     904\n",
       "7     696\n",
       "8    2323\n",
       "9     608\n",
       "Name: score, dtype: int64"
      ]
     },
     "execution_count": 52,
     "metadata": {},
     "output_type": "execute_result"
    }
   ],
   "source": [
    "df['score']"
   ]
  },
  {
   "cell_type": "code",
   "execution_count": 53,
   "id": "e0e67316",
   "metadata": {},
   "outputs": [
    {
     "data": {
      "text/plain": [
       "Index(['author', 'created_utc', 'score', 'selftext', 'subreddit', 'title'], dtype='object')"
      ]
     },
     "execution_count": 53,
     "metadata": {},
     "output_type": "execute_result"
    }
   ],
   "source": [
    "df.columns"
   ]
  },
  {
   "cell_type": "code",
   "execution_count": 54,
   "id": "2f5ddfbb",
   "metadata": {},
   "outputs": [
    {
     "data": {
      "text/plain": [
       "array(['\"Where is the router?\"', 'With users like this...',\n",
       "       'Math...what a concept',\n",
       "       \"I'll have you know I've been working on computers for 10 years ....\",\n",
       "       'We need you to tell us our current password. No not reset tell us. We must have that exact password.',\n",
       "       'User needs help not having to do her job?',\n",
       "       \"You have cancer and almost passed out waiting? Then you shouldn't be here at all.\",\n",
       "       'The joys of the bowling desk', 'Worst user ever...',\n",
       "       'Try troubleshooting a little further before you call us next time'],\n",
       "      dtype=object)"
      ]
     },
     "execution_count": 54,
     "metadata": {},
     "output_type": "execute_result"
    }
   ],
   "source": [
    "# df[df['author'] == '[deleted]']\n",
    "df['title'].unique()"
   ]
  },
  {
   "cell_type": "code",
   "execution_count": 55,
   "id": "3a730ef7",
   "metadata": {},
   "outputs": [
    {
     "data": {
      "text/plain": [
       "10"
      ]
     },
     "execution_count": 55,
     "metadata": {},
     "output_type": "execute_result"
    }
   ],
   "source": [
    "len(df)"
   ]
  },
  {
   "cell_type": "code",
   "execution_count": 56,
   "id": "4a2610ad",
   "metadata": {},
   "outputs": [],
   "source": [
    "before = int(time.time())"
   ]
  },
  {
   "cell_type": "code",
   "execution_count": 57,
   "id": "7a604a72",
   "metadata": {},
   "outputs": [],
   "source": [
    "params = {\n",
    "    'subreddit': 'talesfromtechsupport',\n",
    "    'size': 10,\n",
    "    'before': before,\n",
    "    'score': '>600',\n",
    "    'fields': ['author', 'title', 'selftext', 'created_utc', 'score', 'subreddit'],\n",
    "    'over_18': False,\n",
    "    'is_video': False,\n",
    "    'locked': False,\n",
    "    'stickied': False,\n",
    "}\n",
    "\n",
    "# use the requests to get the response\n",
    "res = requests.get(url, params)"
   ]
  },
  {
   "cell_type": "code",
   "execution_count": 58,
   "id": "3d777397",
   "metadata": {},
   "outputs": [
    {
     "data": {
      "text/plain": [
       "{'data': [{'author': 'SonDontPlay',\n",
       "   'created_utc': 1638946522,\n",
       "   'score': 1183,\n",
       "   'selftext': 'A General Officer calls in for urgent tech support, he has a conference call with other senior leaders in 45 minutes and he\\'s unable to connect to the internet. Initial attempts are made at diagnosing the problem remotely, however he insists a technician be sent over right away. Since he\\'s got stars he gets what he wants a technician is dispatched.\\n\\nTech arrives at residence, immediately notices there is no connection to the computer. Tech asks the General where the router is, General is a bit confused, Tech explains the router is the the box that connects to the internet. General says \"Ah its in the living room\"\\n\\nTech and General go into living room, the router is not where its supposed to be. Tech asks the General where is the router. The General is unsure, says maybe his wife knows. He has to call the wife as she\\'s not present. \\n\\nGeneral is calling the wife, wife answers \"Honey, did you move the box the internet comes in?\" the wife responds, the Generals thanks his wife for the information, opens up a drawer and pulls out the router. \\n\\nThe wife unplugged the router because the blinking light was disturbing her TV watching experience earlier in the day. The tech plugged in the router and the General had internet connection and was able to join his call on time. The tech thinking ahead, taped over the lights and told the General he covered the lights with tape, but if he ever has an issue remember to take off the tape so they can help diagnose the problem.',\n",
       "   'subreddit': 'talesfromtechsupport',\n",
       "   'title': '\"Where is the router?\"'},\n",
       "  {'author': 'talbourne',\n",
       "   'created_utc': 1638904166,\n",
       "   'score': 1634,\n",
       "   'selftext': \"I'll be staying at this company for a long time..\\n\\nUser called in last week about an issue with outlook, so per usual i offered to remote in to see if there were errors, maybe enable logging to see what's up. When i connected i noticed her connection was very slow, we did a speed test, she was getting 4Mbps down.. \\\\*shudder\\\\*. I suggested she swap her computer to 5ghz bandwidth and let her other devices stay on the 2.4 band..\\n\\nShe messages me today:\\n\\n&gt;G'day to you! Just wanted to say **thank you** for saying something about my connection speed last week. Made some tweaks to our linksys wifi extenders and this is what my work laptop looks like today: 128Mbps Down, 6Mbps Up  \\n&gt;  \\n&gt;And for all this time I thought that \\\\~5mpbs speed was just the way it was. Woof. \\n\\nPeople like this is one of the big things that separates this employer from places I've been before, people here show appreciation for support staff!\",\n",
       "   'subreddit': 'talesfromtechsupport',\n",
       "   'title': 'With users like this...'},\n",
       "  {'author': 'edhands',\n",
       "   'created_utc': 1629488107,\n",
       "   'score': 870,\n",
       "   'selftext': 'Back in 2009, our company purchased a horribly mismanaged company mostly for their technical ability and their customers.  I was asked to come to the President’s office and meet one of the “crown jewels” of this acquisition was a guy we will call “Fred.”\\n\\nFor background, our IT Department falls under the accounting department and headed by the CFO/Treasurer.  I do not work for or report to the President in any way, but professional courtesy he usually gets what he wants (for the most part.)\\n\\nFred seemed nice enough.  We exchanged pleasantries and the president mentioned that he would be needing a new, beefy, top-of-the-line PCs for this new venture.  I told him “No problem!  Just let me know the specs and I’ll get it done.” and I went on my merry way.\\n\\nLater that day the president asked me to stop back by his office for “a little chat.”\\n\\nTowards the end of the day, I swung by his office. \\n\\nThe president wanted to let me know that Fred and his teams were “really smart” guys and that they would “probably be the IT team” for the company “someday in the future.”  It would be best to really do a good job on this as this guy would likely be my boss at some point in the future.\\n\\nSo I was already kind of bristling at this because, as it stood, I was in charge of IT (even if it was only me and one other guy) and I didn’t like the idea of a demotion.\\n\\nThen he handed me a piece of paper with the specs that Fred wanted and needed “to be able to work properly.”  \\n\\nIt read (going from memory) as follows:\\n\\nHP or Dell Laptop\\nMust have Intel i7-720QM\\nWindows 7 32 Bit\\n32 GB of RAM\\n500 GB HD\\nATI or NVidia graphic card\\n\\nI kind of snickered.  I said “can we call him?”  \\n\\nWe got Fred on the phone.\\n\\n“Fred, did you mean to specify Windows 7 64 Bit?”\\n\\n“No,” says Fred “It has to be 32 bit.  64 Bit won’t work with the applications I use.”\\n\\n“Okay.  So then we’ll drop the memory down to 4 GB.”\\n\\n“No!” says Fred “I need 32 GB or I won’t be able to work efficiently.”\\n\\nSo I tell the “really smart” guy that 32 GB won’t work in a 32 bit system.  \\n\\nHe insists it will, he knows what he needs and what he is doing, and just order it the way he specified.  He can configure it to work just fine.\\n\\nI tell him that I would love to see this (as it basically breaks math.) \\n\\nLong story short, I order it and, Lo and Behold, a 32-bit system can only use 4 GB of memory.  \\n\\nHe tells the president that I must have done something wrong with the set up or something on the network was preventing it from using all 32 GB.\\n\\n*Facepalm*\\n\\nLater in the week my CFO/Boss wants to have a meeting with me to discuss why we cannot configure it the way he wants and what we can do to solve this issue.  So I go to the meeting and my boss asks me “what is preventing you from configuring this the way he wants.”\\n\\n“Math.”\\n\\n“Math?”\\n\\n“Yes, Math.  You see what 32 bit and 64 bit means is how many address registers a computer can access in memory.  32 bit means it can access 2^32 address registers or a little over 4 billion ones and zeros, or 4 gigabites.  That’s it.  It’s not up for debate.  I can stick a hundred sicks of memory in there and it will still only use 4 GB.  It cannot be changed because you cannot change the math.”\\n\\n“Did you explain it to him?”\\n\\n“No, I did not.  Because he said he wanted it that way and he could configure it to work.”\\n\\n“But,” said the CFO, “You said it couldn’t work.  What can he do to make it work?”\\n\\n“Nothing.  Again…math.”\\n\\n\\nIn the end Fred said he would “Just deal with it.”  He lasted about eight months and was asked to leave after he spent $7500 at a Vegas strip club with “clients” one night.\\n\\nApparently, math was never a strong suit of his.',\n",
       "   'subreddit': 'talesfromtechsupport',\n",
       "   'title': 'Math...what a concept'},\n",
       "  {'author': '12altoids34',\n",
       "   'created_utc': 1623803260,\n",
       "   'score': 935,\n",
       "   'selftext': 'Thats how the call started. \\n\\nThen she went on to tell me how she wasn\\'t going to be talked to like some child.\\n\\n\\'This is gonna go great \\' I moaned internally.\\n\\nHer computer was running slow. We ran through a few things and I asked her to shut down her pc and let me know when it was off.\\n\\nAbout 4 seconds later she tells me \\'okay its off \\'\\n\\nImpossible . \\n\\nI ask her to turn it on again and let me know when we get back to the desktop.\\n\\n3 seconds later \\'okay its back up.\\'\\n\\n\\'Ma\\'am can you tell me exactly how your shutting down your computer ?\\'\\n\\nHere it comes... she launches into a tirade about how she works on a computer every day at work and blah blah blah for about 5 minutes.\\n\\n\\' I understand ma\\'am and I\\'m simply asking the steps to verify you are taking the proper procedure for THIS computer\\'\\n\\n\\n\\'Of course I am.i push the button on the computer.\\'\\n\\n\\'Is that the computer where you see the images or under your desk ?\\'\\n\\n\\'What do you mean ? Thats a stupid question.  The computer where the information  comes up\\n\\nI take a deep breath.\\n\\n\\'Ma\\'am thats not the computer. That\\'s your monitor.\\'\\n\\n\\'What ? Your not making sense. Thats how we all shut down our computers at work.\\'\\n\\nI explain that at work she doesn\\'t have a computer, but a workstation on a network. I explain that turning off the monitor does not affect the pc at all. Then I walk her through proper shutdown procedures and we reboot her pc.\\n\\nWhen it reboots it installs several updates including multiple driver updates. \\n\\n\\'Hey ! You fixed the colors \\'\\n\\nShe never mentioned video issues \\n\\n\\'And its running smoother again!\"\\n\\n\\n\\nI',\n",
       "   'subreddit': 'talesfromtechsupport',\n",
       "   'title': \"I'll have you know I've been working on computers for 10 years ....\"},\n",
       "  {'author': 'Gingrpenguin',\n",
       "   'created_utc': 1623769022,\n",
       "   'score': 682,\n",
       "   'selftext': 'For backstory i worked for a small tech company. Our largest client was a national franchise so effectively a group of small businesses. Each site was its own franchise but some sites were in their own groups.\\n\\nA few years prior HO had a very basic software and alot of franchises had their own. When we came on the scene these systems were intergrated into ours by the franchises, mostly using our apis, often badly.\\n\\nWhen we first rolled out we were fairly immature company and lacked alot of best pratice guidelines, including how passwords are assigned. (new passwords were all the same (think \"changeme\") and users should change this but at that time we didnt have any enforcement of that.\\n\\nOne unassuming Tuesday our tech support team receives a request to retrive a password. We explain they can reset it automatically but thats not what they want. They want us to tell them their password. Our tech guy explains why we cant do this and ends the call.\\n\\nWe get another call from the same user 20 minutes later asking the same thing. Unfortunately for them we are a small team so it goes to the same tech and he reiterates what he said before and the call ends.\\n\\n10 minutes later we get a call from the users manager, turns out they use the account for lots of users, not all present and that it had previously been saved on all their browsers. We explain that whilst that sucks, theres f all we can do and besides, each user should have their own account.\\n\\nThe convo got a bit heated but the call ends and thats that, or so we think. Around lunchtime we get a call from one of the senior guys at HO, who asks us the exact same thing.\\n\\nWere obviously annoyed that they keep on trying to pull rank and that noone seems to care about security but we listen and he drops a bombshell on us.\\n\\nThey dont actually use our software but a series of their own, both developed in house and bought and stitched together. Their only use for us is to transfer data from HO into their own systems and vice versa. The users with access only use it for more manual tasks and one specifc customer query. \\n\\nThe account in question is used by 8 different applications and its details are hardcoded into the calls. Their only developer is off on a 5 week gaunt in the aussie outback and is completely unreachable. \\n\\nChanging this password would send their business back to the 80s, effectively killing these sites completely. Even lending a dev wouldnt help as their gallivanting dev is the only one with access. \\n\\nAlot of back and forth goes on and we get a senior dev onto the call to explain how we cant access these passwords etc and more talking in the office about it. Dev gets annoyed at me and shows me the database. Thats the passwords all encrypted looking. \\n\\nAs he scrolls we notice something. Alot of the entries look identical (we werent salting them?) including the account in question. \\n\\nThats when it dawns on us. \\n\\nThey never changed the password from the default. A quick login attempt validates this and we give our conclusion to the client and to HO. HO also gets an (absolutely deserved) earful about security and ensuring their sites follow policies from our ceo who is not happy half his company has been dealing with this bullshit for the best part of the day. \\n\\nIn some ways its an utter miracle noone got into their systems. That same password had been sent to tens of thousands of users on our first rollout before we changed the process (randomly generated single use password) \\n\\nYou only needed the email address to get in and that was literally sitename@companyname.com\\n\\nHow that lasted 2 years i shall never know...',\n",
       "   'subreddit': 'talesfromtechsupport',\n",
       "   'title': 'We need you to tell us our current password. No not reset tell us. We must have that exact password.'},\n",
       "  {'author': 'nerdfury83',\n",
       "   'created_utc': 1623764142,\n",
       "   'score': 944,\n",
       "   'selftext': 'I get a call from a user telling me that she\\'s got an issue with her computer locking her out every 15 minutes. She\\'s your average non-IT savvy user so I\\'m going through the usual open and closed ended questions trying to work out if I\\'m checking her active directory account, her VIP access credentials, or if her citrix desktop is timing out sooner than the usual 30 minute idle time.\\n\\nTurns out it\\'s none of them - she means her auto PC lock.\\n\\nI ask her why she wants to change that, and turns out she\\'s working for the evening in some capacity that requires her to monitor a queue, but it\\'s at night and she - in her own words - \"don\\'t want to have to press a button every 10-15 minutes to stop the computer locking.\"\\n\\nSo I ask her why she would need to do that - just working would prevent that from being needed? She\\'d just need to unlock the PC after breaks, surely? She says no, she just wants to be able to go into the other room and watch TV and just check on it on occasion.\\n\\nNow, without telling a user to suck it up and just do what they\\'re paid to do, how to you communicate that sentiment?\\n\\nI politely tell her that we really can\\'t change the setting because it\\'s set by corporate policy. I explain it\\'s a security measure that provides a first line of defense against unauthorised access if her laptop gets stolen. I ask if she has other work to do between that time and 8pm to keep her PC unlocked - she claims there\\'s not.\\n\\nI suggest \"Usually when we\\'re bored on weekends, we find work to occupy ourselves or ask the boss what needs doing over the weekend since we\\'re being paid to work.\"\\n\\n(truth is, we watch a LOT of YouTube on the weekends!)\\n\\nShe didn\\'t leave happy with my suggestion.',\n",
       "   'subreddit': 'talesfromtechsupport',\n",
       "   'title': 'User needs help not having to do her job?'},\n",
       "  {'author': 'passerine_crypt',\n",
       "   'created_utc': 1623627604,\n",
       "   'score': 904,\n",
       "   'selftext': 'I recently started working at my local electronics store, and one day whilst I was doing resets of returned computers there was an elderly man sitting on one of the waiting chairs and asked me if I could queue him in for tech support (It was me and like 3 others, we\\'re very short-staffed). I asked him if he had an appointment and he said no, he just told me about how he \"had cancer\" and \"almost passed out waiting for us.\" I hadn\\'t been properly trained just yet and so asked one of my higher-ups to take care of him.\\n\\nI overheard the conversation that ensued, and the man said again that he had cancer and almost passed out waiting, but my higher-up saw through him and said that if he\\'s prone to passing out simply sitting and waiting, then that\\'s an urgent medical issue and he should see a doctor, as a tech store is the last place he wants to be if he does pass out.\\n\\nThe guy just left. But man was it satisfying to witness.',\n",
       "   'subreddit': 'talesfromtechsupport',\n",
       "   'title': \"You have cancer and almost passed out waiting? Then you shouldn't be here at all.\"},\n",
       "  {'author': 'Austistic-man',\n",
       "   'created_utc': 1623603070,\n",
       "   'score': 696,\n",
       "   'selftext': 'So I have worked in bowling alleys for years but recently got hired in a new place with a shiny new setup for the computer side of things. To my surprise all of the terminals are running windows ten. Fast forward a few well and I come into work on a Saturday night. The first thing I notice is that there is no one bowling on a Saturday night in a he spring (for the people that don’t know Saturdays are usually the busiest day of the week for bowling alleys). So I walk up to my manager and say, “hey p, it’s pretty dead isn’t it.” He responds to me explaining that he has had to turn customers away all day because the computers have been acting up. So because I would like to think I’m somewhat tech savvy I ask what the problem was. He says, “the computer has been on a blue screen all day, I immediately assume our system is dead until I check the main terminal’s screen, it turns out that my manager decided that the best time to do a massive backlog of windows updates was in the middle of the day on a Saturday. So in short that’s how we lost hundreds of dollars in revenue because my older manager decided it was update time.',\n",
       "   'subreddit': 'talesfromtechsupport',\n",
       "   'title': 'The joys of the bowling desk'},\n",
       "  {'author': 'MAlloc-1024',\n",
       "   'created_utc': 1614899231,\n",
       "   'score': 2323,\n",
       "   'selftext': \"::phone rings::\\n\\n$me: Hello this is $me, what can I help you with today?\\n\\n$user: Hi, this is $user. I can't get to my email. It says I need a password all of a sudden.\\n\\n$me: Ok, I'm showing we migrated you to Exchange online this morning. (editors note: after copious notifications) Are you having this problem on a company laptop or phone?\\n\\n$user: Phone. I don't have a company computer.\\n\\n$me: ok, please delete the account from your phone and then we can re-add it.\\n\\n$user: Ok, I've deleted my account, but when I go to re-add it it still asking me for a password.\\n\\n$me: do you not remember your password?\\n\\n$user: that's my problem...\\n\\n$me: OK, I have reset your password to ChangeThis1. The C and the T are capitalized, so the first letter of each word, and it is a number one at the end.\\n\\n$user: says my password is incorrect...\\n\\n$me: can you tell me exactly what you put for the password?\\n\\n$user: Capital C, Capital T...  \\n$me: No, the password is two words, Change This one and the first letter of each word is capitalized\\n\\n$user: oh ok, so capital C, capital H\\n\\n$me: nope, lowercase H.\\n\\n$user: I thought you just said it started with a C?\\n\\n$me: yes, capital C, lowercase H, lowercase A, N, G, E, Capital T, Lowercase h, i, s followed by the number 1, not spelled out\\n\\n$user: it's not working...\\n\\n$me: is there a computer I can remote into and demonstrate for you on the website, and we can change your password?\\n\\n$user: yeah my boss has a computer. Let me go get it...\\n\\n::time passes::\\n\\n$user: ok I got his computer but I can't open it\\n\\n$me: It's not logged in?\\n\\n$user: no, I can't open it\\n\\n$me: I don't know what you mean...\\n\\n$user: I can't open it to get to the keyboard.\\n\\n$me: Oh, is there a latch or something on the front, then the screen should open up.\\n\\n$user: well the screen's closed on the keyboard but I can see the screen like it's on backward.\\n\\n$user's boss: $user... it's a tablet...\\n\\n$me ::mutes myself:: OMFG... ::unmute::\\n\\n$user: how do y'all log into this if it doesn't have a caps lock key?\\n\\n$me: is there a shift key?...\\n\\n&amp;#x200B;\\n\\nEpilogue: I was able to show the user how to login and successfully change their password. They now have email on their phone again, but my faith in humanity is diminished...\",\n",
       "   'subreddit': 'talesfromtechsupport',\n",
       "   'title': 'Worst user ever...'},\n",
       "  {'author': 'kxavier14',\n",
       "   'created_utc': 1614868836,\n",
       "   'score': 608,\n",
       "   'selftext': 'I work tech support in a school. This particular school has an in-house help desk, so I am in the school all day on call for whatever might go wrong (which is a lot).\\n\\nOne day a teacher sends in a ticket saying the projector is displaying blurry in one of the classrooms. I let her know I\\'m on it and pop in to take a look since the room is free. Turn it on, project all sorts of things, looks perfectly fine to me. I\\'ll give her the benefit of the doubt, though, since I have perfect vision. I pay around and can only get it marginally sharper. Conclude nothing is wrong and go back to my desk.\\n\\nI email the teacher and let them know I played around a bit and to let me know how it looks when they teach in there next. Get an \"Ok I will!\" response. Don\\'t hear anything for two days. Weekend comes and goes. On Monday I still don\\'t hear anything. On Tuesday as I am about to email her I see her walk past the help desk. I yell out into the hallway and ask how the projector is doing. She says she hasn\\'t used it in teaching for a couple days and will let me know.\\n\\nLater that day she sends another ticket to the help desk that just says \"Can someone come look at the projector\". We have a general rule about not going out to look at things in classrooms without some information on the issue first. We want to be able to bring the right equipment with us and since we are a small department supporting about 1,000 users, if you don\\'t tell us what is going on we aren\\'t going to prioritize you. I respond asking a couple questions to try and determine the issue. Don\\'t hear anything back.\\n\\nAt the end of the school day she responds to my message saying the blurry was still an issue. As I\\'m thinking about what could be happening and developing some more troubleshooting steps to try, she sends me another message. She says it\\'s no rush to get it worked on. In fact, it might not even be an issue at all. It\\'s much better **when** **I put my glasses on.**\\n\\nI stared at my screen for a good two minutes trying to process that statement. I respond saying that might help and to let me know if she has any issues.\\n\\nMark ticket as user error. Close ticket. Wish for a handle of something hard to magically appear on my desk.\\n\\nI wish I could say this sort of thing is rare at this school, but I\\'d be very wrong. Maybe that\\'s why they have an in-house help desk.',\n",
       "   'subreddit': 'talesfromtechsupport',\n",
       "   'title': 'Try troubleshooting a little further before you call us next time'}]}"
      ]
     },
     "execution_count": 58,
     "metadata": {},
     "output_type": "execute_result"
    }
   ],
   "source": [
    "res.json()"
   ]
  },
  {
   "cell_type": "code",
   "execution_count": 59,
   "id": "e0a2ccf7",
   "metadata": {},
   "outputs": [],
   "source": [
    "# turn the response into JSON\n",
    "data = res.json()\n",
    "\n",
    "# turn the JSON into a DataFrame\n",
    "df = pd.DataFrame(data['data'])"
   ]
  },
  {
   "cell_type": "code",
   "execution_count": 62,
   "id": "81183322",
   "metadata": {},
   "outputs": [],
   "source": [
    "# Structure from API lesson\n",
    "\n",
    "def get_subreddit_data(url, subreddit, upvote_thresh, min_n_data=200, n_size=50):\n",
    "    \n",
    "    dfs = pd.DataFrame()\n",
    "\n",
    "    # set before to be current time\n",
    "    before = int(time.time())\n",
    "\n",
    "    # initialize counter\n",
    "    counter = 0\n",
    "\n",
    "    while len(dfs) < min_n_data:\n",
    "        print(subreddit, counter, len(dfs))\n",
    "\n",
    "        # create params: before, subreddit, size\n",
    "        params = {\n",
    "            'subreddit': subreddit,\n",
    "            'size': n_size,\n",
    "            'before': before,\n",
    "            'score': f'>{upvote_thresh}',\n",
    "            'fields': ['author', 'title', 'selftext', 'created_utc', 'score', 'subreddit'],\n",
    "            'over_18': False,\n",
    "            'is_video': False,\n",
    "            'locked': False,\n",
    "            'stickied': False,\n",
    "        }\n",
    "\n",
    "        # use the requests to get the response\n",
    "        status = False\n",
    "        status_counter = 0\n",
    "        while status == False:\n",
    "            status_counter += 1\n",
    "            try: \n",
    "                res = requests.get(url, params)\n",
    "                status = True\n",
    "            except:\n",
    "                print(f'Request attempt {status_counter} failed.')\n",
    "                time.sleep(3)\n",
    "\n",
    "        # turn the response into JSON\n",
    "        data = res.json()\n",
    "\n",
    "        # turn the JSON into a DataFrame\n",
    "        df = pd.DataFrame(data['data'])[['author', 'title', 'selftext', 'subreddit', 'created_utc']]\n",
    "\n",
    "        # remove any deleted posts\n",
    "        df = df.drop(df[df['author'] == '[deleted]'].index)\n",
    "        \n",
    "        \n",
    "        # add posts DataFrame to dfs\n",
    "        dfs = pd.concat([dfs, df], ignore_index=True)\n",
    "\n",
    "        # set before to be the timestamp of the last post\n",
    "        before = df['created_utc'].values[-1]\n",
    "        \n",
    "        print(f'{len(dfs)} records collected')\n",
    "        counter += 1\n",
    "        time.sleep(3)\n",
    "\n",
    "    return dfs"
   ]
  },
  {
   "cell_type": "code",
   "execution_count": 64,
   "id": "4adbc4d4",
   "metadata": {},
   "outputs": [
    {
     "name": "stdout",
     "output_type": "stream",
     "text": [
      "talesfromtechsupport 0 0\n",
      "99 records collected\n",
      "talesfromtechsupport 1 99\n",
      "199 records collected\n",
      "talesfromtechsupport 2 199\n",
      "299 records collected\n",
      "talesfromtechsupport 3 299\n",
      "399 records collected\n",
      "talesfromtechsupport 4 399\n",
      "495 records collected\n",
      "talesfromtechsupport 5 495\n",
      "593 records collected\n",
      "talesfromtechsupport 6 593\n",
      "693 records collected\n",
      "talesfromtechsupport 7 693\n",
      "793 records collected\n",
      "talesfromtechsupport 8 793\n",
      "893 records collected\n",
      "talesfromtechsupport 9 893\n",
      "993 records collected\n",
      "talesfromtechsupport 10 993\n",
      "1093 records collected\n"
     ]
    }
   ],
   "source": [
    "dfs = get_subreddit_data(url, subreddits[0], upvote_thresh=600, min_n_data=1000, n_size=100)"
   ]
  },
  {
   "cell_type": "code",
   "execution_count": 71,
   "id": "00d90781",
   "metadata": {},
   "outputs": [],
   "source": [
    "df_tfts = dfs.copy()"
   ]
  },
  {
   "cell_type": "code",
   "execution_count": 76,
   "id": "913fa452",
   "metadata": {},
   "outputs": [
    {
     "data": {
      "text/plain": [
       "(1093, 5)"
      ]
     },
     "execution_count": 76,
     "metadata": {},
     "output_type": "execute_result"
    }
   ],
   "source": [
    "df_tfts.shape"
   ]
  },
  {
   "cell_type": "code",
   "execution_count": 72,
   "id": "e68fdae7",
   "metadata": {},
   "outputs": [
    {
     "data": {
      "text/html": [
       "<div>\n",
       "<style scoped>\n",
       "    .dataframe tbody tr th:only-of-type {\n",
       "        vertical-align: middle;\n",
       "    }\n",
       "\n",
       "    .dataframe tbody tr th {\n",
       "        vertical-align: top;\n",
       "    }\n",
       "\n",
       "    .dataframe thead th {\n",
       "        text-align: right;\n",
       "    }\n",
       "</style>\n",
       "<table border=\"1\" class=\"dataframe\">\n",
       "  <thead>\n",
       "    <tr style=\"text-align: right;\">\n",
       "      <th></th>\n",
       "      <th>author</th>\n",
       "      <th>title</th>\n",
       "      <th>selftext</th>\n",
       "      <th>subreddit</th>\n",
       "      <th>created_utc</th>\n",
       "    </tr>\n",
       "  </thead>\n",
       "  <tbody>\n",
       "    <tr>\n",
       "      <th>0</th>\n",
       "      <td>SonDontPlay</td>\n",
       "      <td>\"Where is the router?\"</td>\n",
       "      <td>A General Officer calls in for urgent tech sup...</td>\n",
       "      <td>talesfromtechsupport</td>\n",
       "      <td>1638946522</td>\n",
       "    </tr>\n",
       "    <tr>\n",
       "      <th>1</th>\n",
       "      <td>talbourne</td>\n",
       "      <td>With users like this...</td>\n",
       "      <td>I'll be staying at this company for a long tim...</td>\n",
       "      <td>talesfromtechsupport</td>\n",
       "      <td>1638904166</td>\n",
       "    </tr>\n",
       "    <tr>\n",
       "      <th>2</th>\n",
       "      <td>edhands</td>\n",
       "      <td>Math...what a concept</td>\n",
       "      <td>Back in 2009, our company purchased a horribly...</td>\n",
       "      <td>talesfromtechsupport</td>\n",
       "      <td>1629488107</td>\n",
       "    </tr>\n",
       "    <tr>\n",
       "      <th>3</th>\n",
       "      <td>12altoids34</td>\n",
       "      <td>I'll have you know I've been working on comput...</td>\n",
       "      <td>Thats how the call started. \\n\\nThen she went ...</td>\n",
       "      <td>talesfromtechsupport</td>\n",
       "      <td>1623803260</td>\n",
       "    </tr>\n",
       "    <tr>\n",
       "      <th>4</th>\n",
       "      <td>Gingrpenguin</td>\n",
       "      <td>We need you to tell us our current password. N...</td>\n",
       "      <td>For backstory i worked for a small tech compan...</td>\n",
       "      <td>talesfromtechsupport</td>\n",
       "      <td>1623769022</td>\n",
       "    </tr>\n",
       "  </tbody>\n",
       "</table>\n",
       "</div>"
      ],
      "text/plain": [
       "         author                                              title  \\\n",
       "0   SonDontPlay                             \"Where is the router?\"   \n",
       "1     talbourne                            With users like this...   \n",
       "2       edhands                              Math...what a concept   \n",
       "3   12altoids34  I'll have you know I've been working on comput...   \n",
       "4  Gingrpenguin  We need you to tell us our current password. N...   \n",
       "\n",
       "                                            selftext             subreddit  \\\n",
       "0  A General Officer calls in for urgent tech sup...  talesfromtechsupport   \n",
       "1  I'll be staying at this company for a long tim...  talesfromtechsupport   \n",
       "2  Back in 2009, our company purchased a horribly...  talesfromtechsupport   \n",
       "3  Thats how the call started. \\n\\nThen she went ...  talesfromtechsupport   \n",
       "4  For backstory i worked for a small tech compan...  talesfromtechsupport   \n",
       "\n",
       "   created_utc  \n",
       "0   1638946522  \n",
       "1   1638904166  \n",
       "2   1629488107  \n",
       "3   1623803260  \n",
       "4   1623769022  "
      ]
     },
     "execution_count": 72,
     "metadata": {},
     "output_type": "execute_result"
    }
   ],
   "source": [
    "df_tfts.head()"
   ]
  },
  {
   "cell_type": "code",
   "execution_count": 73,
   "id": "8ee0a42e",
   "metadata": {},
   "outputs": [
    {
     "name": "stdout",
     "output_type": "stream",
     "text": [
      "talesfromretail 0 0\n",
      "99 records collected\n",
      "talesfromretail 1 99\n",
      "199 records collected\n",
      "talesfromretail 2 199\n",
      "299 records collected\n",
      "talesfromretail 3 299\n",
      "399 records collected\n",
      "talesfromretail 4 399\n",
      "499 records collected\n",
      "talesfromretail 5 499\n",
      "598 records collected\n",
      "talesfromretail 6 598\n",
      "698 records collected\n",
      "talesfromretail 7 698\n",
      "798 records collected\n",
      "talesfromretail 8 798\n",
      "897 records collected\n",
      "talesfromretail 9 897\n",
      "997 records collected\n",
      "talesfromretail 10 997\n",
      "1097 records collected\n"
     ]
    }
   ],
   "source": [
    "df_tfr = get_subreddit_data(url, subreddits[1], upvote_thresh=600, min_n_data=1000, n_size=100)"
   ]
  },
  {
   "cell_type": "code",
   "execution_count": 75,
   "id": "80b2cd38",
   "metadata": {},
   "outputs": [
    {
     "data": {
      "text/plain": [
       "(1097, 5)"
      ]
     },
     "execution_count": 75,
     "metadata": {},
     "output_type": "execute_result"
    }
   ],
   "source": [
    "df_tfr.shape"
   ]
  },
  {
   "cell_type": "code",
   "execution_count": 74,
   "id": "62fa1be5",
   "metadata": {},
   "outputs": [
    {
     "data": {
      "text/html": [
       "<div>\n",
       "<style scoped>\n",
       "    .dataframe tbody tr th:only-of-type {\n",
       "        vertical-align: middle;\n",
       "    }\n",
       "\n",
       "    .dataframe tbody tr th {\n",
       "        vertical-align: top;\n",
       "    }\n",
       "\n",
       "    .dataframe thead th {\n",
       "        text-align: right;\n",
       "    }\n",
       "</style>\n",
       "<table border=\"1\" class=\"dataframe\">\n",
       "  <thead>\n",
       "    <tr style=\"text-align: right;\">\n",
       "      <th></th>\n",
       "      <th>author</th>\n",
       "      <th>title</th>\n",
       "      <th>selftext</th>\n",
       "      <th>subreddit</th>\n",
       "      <th>created_utc</th>\n",
       "    </tr>\n",
       "  </thead>\n",
       "  <tbody>\n",
       "    <tr>\n",
       "      <th>0</th>\n",
       "      <td>MattyDGames</td>\n",
       "      <td>Your know card doesn’t work? Let’s grab all th...</td>\n",
       "      <td>Ok ok, today I had a customer come in with a c...</td>\n",
       "      <td>TalesFromRetail</td>\n",
       "      <td>1638923563</td>\n",
       "    </tr>\n",
       "    <tr>\n",
       "      <th>1</th>\n",
       "      <td>MissMissieFatCat</td>\n",
       "      <td>Woman proves herself wrong and storms out of s...</td>\n",
       "      <td>I work in a family owned pet food/supply store...</td>\n",
       "      <td>TalesFromRetail</td>\n",
       "      <td>1623770945</td>\n",
       "    </tr>\n",
       "    <tr>\n",
       "      <th>2</th>\n",
       "      <td>Knever</td>\n",
       "      <td>Coworkers try to steal $200 worth of groceries...</td>\n",
       "      <td>I worked at a grocery store with a guy who, on...</td>\n",
       "      <td>TalesFromRetail</td>\n",
       "      <td>1623707257</td>\n",
       "    </tr>\n",
       "    <tr>\n",
       "      <th>3</th>\n",
       "      <td>Mr_jon3s</td>\n",
       "      <td>Moves parking cone gets mad that I yelled at h...</td>\n",
       "      <td>Having some work done on the parking lot so we...</td>\n",
       "      <td>TalesFromRetail</td>\n",
       "      <td>1623594705</td>\n",
       "    </tr>\n",
       "    <tr>\n",
       "      <th>4</th>\n",
       "      <td>pessimist_kitty</td>\n",
       "      <td>Getting real tired of people thinking we're ma...</td>\n",
       "      <td>This just happened this morning and I had to s...</td>\n",
       "      <td>TalesFromRetail</td>\n",
       "      <td>1614891256</td>\n",
       "    </tr>\n",
       "  </tbody>\n",
       "</table>\n",
       "</div>"
      ],
      "text/plain": [
       "             author                                              title  \\\n",
       "0       MattyDGames  Your know card doesn’t work? Let’s grab all th...   \n",
       "1  MissMissieFatCat  Woman proves herself wrong and storms out of s...   \n",
       "2            Knever  Coworkers try to steal $200 worth of groceries...   \n",
       "3          Mr_jon3s  Moves parking cone gets mad that I yelled at h...   \n",
       "4   pessimist_kitty  Getting real tired of people thinking we're ma...   \n",
       "\n",
       "                                            selftext        subreddit  \\\n",
       "0  Ok ok, today I had a customer come in with a c...  TalesFromRetail   \n",
       "1  I work in a family owned pet food/supply store...  TalesFromRetail   \n",
       "2  I worked at a grocery store with a guy who, on...  TalesFromRetail   \n",
       "3  Having some work done on the parking lot so we...  TalesFromRetail   \n",
       "4  This just happened this morning and I had to s...  TalesFromRetail   \n",
       "\n",
       "   created_utc  \n",
       "0   1638923563  \n",
       "1   1623770945  \n",
       "2   1623707257  \n",
       "3   1623594705  \n",
       "4   1614891256  "
      ]
     },
     "execution_count": 74,
     "metadata": {},
     "output_type": "execute_result"
    }
   ],
   "source": [
    "df_tfr.head()"
   ]
  },
  {
   "cell_type": "code",
   "execution_count": 77,
   "id": "56d39d4d",
   "metadata": {},
   "outputs": [],
   "source": [
    "df_tfts.to_csv(f'../data/{int(time.time())}_TalesFromTechSupport.csv', index=False)"
   ]
  },
  {
   "cell_type": "code",
   "execution_count": 78,
   "id": "1e0963df",
   "metadata": {},
   "outputs": [],
   "source": [
    "df_tfr.to_csv(f'../data/{int(time.time())}_TalesFromRetail.csv', index=False)"
   ]
  }
 ],
 "metadata": {
  "kernelspec": {
   "display_name": "Python 3 (ipykernel)",
   "language": "python",
   "name": "python3"
  },
  "language_info": {
   "codemirror_mode": {
    "name": "ipython",
    "version": 3
   },
   "file_extension": ".py",
   "mimetype": "text/x-python",
   "name": "python",
   "nbconvert_exporter": "python",
   "pygments_lexer": "ipython3",
   "version": "3.7.11"
  }
 },
 "nbformat": 4,
 "nbformat_minor": 5
}
