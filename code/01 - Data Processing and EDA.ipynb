{
 "cells": [
  {
   "cell_type": "code",
   "execution_count": 174,
   "id": "358e6191",
   "metadata": {},
   "outputs": [],
   "source": [
    "import pandas as pd\n",
    "import numpy as np\n",
    "import matplotlib.pyplot as plt\n",
    "import time\n",
    "\n",
    "from bs4 import BeautifulSoup\n",
    "\n",
    "from sklearn.linear_model import LogisticRegression\n",
    "from sklearn.model_selection import train_test_split, GridSearchCV, cross_val_score\n",
    "from sklearn.feature_extraction.text import CountVectorizer\n",
    "from sklearn.pipeline import Pipeline\n",
    "from sklearn.metrics import ConfusionMatrixDisplay, classification_report\n",
    "\n",
    "from nltk.stem import WordNetLemmatizer, PorterStemmer\n",
    "from nltk.corpus import stopwords\n",
    "from nltk.tokenize import sent_tokenize, word_tokenize, RegexpTokenizer"
   ]
  },
  {
   "cell_type": "markdown",
   "id": "ed5c84d8",
   "metadata": {},
   "source": [
    "### Pull in Data"
   ]
  },
  {
   "cell_type": "code",
   "execution_count": 23,
   "id": "e91baf79",
   "metadata": {},
   "outputs": [
    {
     "data": {
      "text/plain": [
       "((1093, 5), (1097, 5))"
      ]
     },
     "execution_count": 23,
     "metadata": {},
     "output_type": "execute_result"
    }
   ],
   "source": [
    "tech_support = pd.read_csv('../data/1646083584_TalesFromTechSupport.csv')\n",
    "retail = pd.read_csv('../data/1646083610_TalesFromRetail.csv')\n",
    "tech_support.shape, retail.shape"
   ]
  },
  {
   "cell_type": "markdown",
   "id": "29e5a95f",
   "metadata": {},
   "source": [
    "### Check Data"
   ]
  },
  {
   "cell_type": "code",
   "execution_count": 24,
   "id": "4287000e",
   "metadata": {},
   "outputs": [
    {
     "data": {
      "text/html": [
       "<div>\n",
       "<style scoped>\n",
       "    .dataframe tbody tr th:only-of-type {\n",
       "        vertical-align: middle;\n",
       "    }\n",
       "\n",
       "    .dataframe tbody tr th {\n",
       "        vertical-align: top;\n",
       "    }\n",
       "\n",
       "    .dataframe thead th {\n",
       "        text-align: right;\n",
       "    }\n",
       "</style>\n",
       "<table border=\"1\" class=\"dataframe\">\n",
       "  <thead>\n",
       "    <tr style=\"text-align: right;\">\n",
       "      <th></th>\n",
       "      <th>author</th>\n",
       "      <th>title</th>\n",
       "      <th>selftext</th>\n",
       "      <th>subreddit</th>\n",
       "      <th>created_utc</th>\n",
       "    </tr>\n",
       "  </thead>\n",
       "  <tbody>\n",
       "    <tr>\n",
       "      <th>0</th>\n",
       "      <td>SonDontPlay</td>\n",
       "      <td>\"Where is the router?\"</td>\n",
       "      <td>A General Officer calls in for urgent tech sup...</td>\n",
       "      <td>talesfromtechsupport</td>\n",
       "      <td>1638946522</td>\n",
       "    </tr>\n",
       "    <tr>\n",
       "      <th>1</th>\n",
       "      <td>talbourne</td>\n",
       "      <td>With users like this...</td>\n",
       "      <td>I'll be staying at this company for a long tim...</td>\n",
       "      <td>talesfromtechsupport</td>\n",
       "      <td>1638904166</td>\n",
       "    </tr>\n",
       "    <tr>\n",
       "      <th>2</th>\n",
       "      <td>edhands</td>\n",
       "      <td>Math...what a concept</td>\n",
       "      <td>Back in 2009, our company purchased a horribly...</td>\n",
       "      <td>talesfromtechsupport</td>\n",
       "      <td>1629488107</td>\n",
       "    </tr>\n",
       "    <tr>\n",
       "      <th>3</th>\n",
       "      <td>12altoids34</td>\n",
       "      <td>I'll have you know I've been working on comput...</td>\n",
       "      <td>Thats how the call started. \\n\\nThen she went ...</td>\n",
       "      <td>talesfromtechsupport</td>\n",
       "      <td>1623803260</td>\n",
       "    </tr>\n",
       "    <tr>\n",
       "      <th>4</th>\n",
       "      <td>Gingrpenguin</td>\n",
       "      <td>We need you to tell us our current password. N...</td>\n",
       "      <td>For backstory i worked for a small tech compan...</td>\n",
       "      <td>talesfromtechsupport</td>\n",
       "      <td>1623769022</td>\n",
       "    </tr>\n",
       "  </tbody>\n",
       "</table>\n",
       "</div>"
      ],
      "text/plain": [
       "         author                                              title  \\\n",
       "0   SonDontPlay                             \"Where is the router?\"   \n",
       "1     talbourne                            With users like this...   \n",
       "2       edhands                              Math...what a concept   \n",
       "3   12altoids34  I'll have you know I've been working on comput...   \n",
       "4  Gingrpenguin  We need you to tell us our current password. N...   \n",
       "\n",
       "                                            selftext             subreddit  \\\n",
       "0  A General Officer calls in for urgent tech sup...  talesfromtechsupport   \n",
       "1  I'll be staying at this company for a long tim...  talesfromtechsupport   \n",
       "2  Back in 2009, our company purchased a horribly...  talesfromtechsupport   \n",
       "3  Thats how the call started. \\n\\nThen she went ...  talesfromtechsupport   \n",
       "4  For backstory i worked for a small tech compan...  talesfromtechsupport   \n",
       "\n",
       "   created_utc  \n",
       "0   1638946522  \n",
       "1   1638904166  \n",
       "2   1629488107  \n",
       "3   1623803260  \n",
       "4   1623769022  "
      ]
     },
     "execution_count": 24,
     "metadata": {},
     "output_type": "execute_result"
    }
   ],
   "source": [
    "tech_support.head()"
   ]
  },
  {
   "cell_type": "code",
   "execution_count": 25,
   "id": "f2d94399",
   "metadata": {},
   "outputs": [
    {
     "data": {
      "text/plain": [
       "author         0\n",
       "title          0\n",
       "selftext       0\n",
       "subreddit      0\n",
       "created_utc    0\n",
       "dtype: int64"
      ]
     },
     "execution_count": 25,
     "metadata": {},
     "output_type": "execute_result"
    }
   ],
   "source": [
    "tech_support.isnull().sum()"
   ]
  },
  {
   "cell_type": "code",
   "execution_count": 26,
   "id": "e0495004",
   "metadata": {},
   "outputs": [
    {
     "data": {
      "text/html": [
       "<div>\n",
       "<style scoped>\n",
       "    .dataframe tbody tr th:only-of-type {\n",
       "        vertical-align: middle;\n",
       "    }\n",
       "\n",
       "    .dataframe tbody tr th {\n",
       "        vertical-align: top;\n",
       "    }\n",
       "\n",
       "    .dataframe thead th {\n",
       "        text-align: right;\n",
       "    }\n",
       "</style>\n",
       "<table border=\"1\" class=\"dataframe\">\n",
       "  <thead>\n",
       "    <tr style=\"text-align: right;\">\n",
       "      <th></th>\n",
       "      <th>author</th>\n",
       "      <th>title</th>\n",
       "      <th>selftext</th>\n",
       "      <th>subreddit</th>\n",
       "      <th>created_utc</th>\n",
       "    </tr>\n",
       "  </thead>\n",
       "  <tbody>\n",
       "    <tr>\n",
       "      <th>0</th>\n",
       "      <td>MattyDGames</td>\n",
       "      <td>Your know card doesn’t work? Let’s grab all th...</td>\n",
       "      <td>Ok ok, today I had a customer come in with a c...</td>\n",
       "      <td>TalesFromRetail</td>\n",
       "      <td>1638923563</td>\n",
       "    </tr>\n",
       "    <tr>\n",
       "      <th>1</th>\n",
       "      <td>MissMissieFatCat</td>\n",
       "      <td>Woman proves herself wrong and storms out of s...</td>\n",
       "      <td>I work in a family owned pet food/supply store...</td>\n",
       "      <td>TalesFromRetail</td>\n",
       "      <td>1623770945</td>\n",
       "    </tr>\n",
       "    <tr>\n",
       "      <th>2</th>\n",
       "      <td>Knever</td>\n",
       "      <td>Coworkers try to steal $200 worth of groceries...</td>\n",
       "      <td>I worked at a grocery store with a guy who, on...</td>\n",
       "      <td>TalesFromRetail</td>\n",
       "      <td>1623707257</td>\n",
       "    </tr>\n",
       "    <tr>\n",
       "      <th>3</th>\n",
       "      <td>Mr_jon3s</td>\n",
       "      <td>Moves parking cone gets mad that I yelled at h...</td>\n",
       "      <td>Having some work done on the parking lot so we...</td>\n",
       "      <td>TalesFromRetail</td>\n",
       "      <td>1623594705</td>\n",
       "    </tr>\n",
       "    <tr>\n",
       "      <th>4</th>\n",
       "      <td>pessimist_kitty</td>\n",
       "      <td>Getting real tired of people thinking we're ma...</td>\n",
       "      <td>This just happened this morning and I had to s...</td>\n",
       "      <td>TalesFromRetail</td>\n",
       "      <td>1614891256</td>\n",
       "    </tr>\n",
       "  </tbody>\n",
       "</table>\n",
       "</div>"
      ],
      "text/plain": [
       "             author                                              title  \\\n",
       "0       MattyDGames  Your know card doesn’t work? Let’s grab all th...   \n",
       "1  MissMissieFatCat  Woman proves herself wrong and storms out of s...   \n",
       "2            Knever  Coworkers try to steal $200 worth of groceries...   \n",
       "3          Mr_jon3s  Moves parking cone gets mad that I yelled at h...   \n",
       "4   pessimist_kitty  Getting real tired of people thinking we're ma...   \n",
       "\n",
       "                                            selftext        subreddit  \\\n",
       "0  Ok ok, today I had a customer come in with a c...  TalesFromRetail   \n",
       "1  I work in a family owned pet food/supply store...  TalesFromRetail   \n",
       "2  I worked at a grocery store with a guy who, on...  TalesFromRetail   \n",
       "3  Having some work done on the parking lot so we...  TalesFromRetail   \n",
       "4  This just happened this morning and I had to s...  TalesFromRetail   \n",
       "\n",
       "   created_utc  \n",
       "0   1638923563  \n",
       "1   1623770945  \n",
       "2   1623707257  \n",
       "3   1623594705  \n",
       "4   1614891256  "
      ]
     },
     "execution_count": 26,
     "metadata": {},
     "output_type": "execute_result"
    }
   ],
   "source": [
    "retail.head()"
   ]
  },
  {
   "cell_type": "code",
   "execution_count": 27,
   "id": "64accf87",
   "metadata": {},
   "outputs": [
    {
     "data": {
      "text/plain": [
       "author         0\n",
       "title          0\n",
       "selftext       0\n",
       "subreddit      0\n",
       "created_utc    0\n",
       "dtype: int64"
      ]
     },
     "execution_count": 27,
     "metadata": {},
     "output_type": "execute_result"
    }
   ],
   "source": [
    "retail.isnull().sum()"
   ]
  },
  {
   "cell_type": "code",
   "execution_count": 28,
   "id": "57908e6d",
   "metadata": {},
   "outputs": [
    {
     "data": {
      "text/plain": [
       "(2190, 5)"
      ]
     },
     "execution_count": 28,
     "metadata": {},
     "output_type": "execute_result"
    }
   ],
   "source": [
    "df = tech_support.append(retail, ignore_index=True)\n",
    "df.shape"
   ]
  },
  {
   "cell_type": "markdown",
   "id": "dedbe32d",
   "metadata": {},
   "source": [
    "### Select Positive Class\n",
    "\n",
    "TalesFromTechSupport will be my positive class for these models"
   ]
  },
  {
   "cell_type": "code",
   "execution_count": 29,
   "id": "28aed63f",
   "metadata": {},
   "outputs": [
    {
     "data": {
      "text/html": [
       "<div>\n",
       "<style scoped>\n",
       "    .dataframe tbody tr th:only-of-type {\n",
       "        vertical-align: middle;\n",
       "    }\n",
       "\n",
       "    .dataframe tbody tr th {\n",
       "        vertical-align: top;\n",
       "    }\n",
       "\n",
       "    .dataframe thead th {\n",
       "        text-align: right;\n",
       "    }\n",
       "</style>\n",
       "<table border=\"1\" class=\"dataframe\">\n",
       "  <thead>\n",
       "    <tr style=\"text-align: right;\">\n",
       "      <th></th>\n",
       "      <th>author</th>\n",
       "      <th>title</th>\n",
       "      <th>selftext</th>\n",
       "      <th>subreddit</th>\n",
       "      <th>created_utc</th>\n",
       "    </tr>\n",
       "  </thead>\n",
       "  <tbody>\n",
       "    <tr>\n",
       "      <th>0</th>\n",
       "      <td>SonDontPlay</td>\n",
       "      <td>\"Where is the router?\"</td>\n",
       "      <td>A General Officer calls in for urgent tech sup...</td>\n",
       "      <td>1</td>\n",
       "      <td>1638946522</td>\n",
       "    </tr>\n",
       "    <tr>\n",
       "      <th>1</th>\n",
       "      <td>talbourne</td>\n",
       "      <td>With users like this...</td>\n",
       "      <td>I'll be staying at this company for a long tim...</td>\n",
       "      <td>1</td>\n",
       "      <td>1638904166</td>\n",
       "    </tr>\n",
       "    <tr>\n",
       "      <th>2</th>\n",
       "      <td>edhands</td>\n",
       "      <td>Math...what a concept</td>\n",
       "      <td>Back in 2009, our company purchased a horribly...</td>\n",
       "      <td>1</td>\n",
       "      <td>1629488107</td>\n",
       "    </tr>\n",
       "    <tr>\n",
       "      <th>3</th>\n",
       "      <td>12altoids34</td>\n",
       "      <td>I'll have you know I've been working on comput...</td>\n",
       "      <td>Thats how the call started. \\n\\nThen she went ...</td>\n",
       "      <td>1</td>\n",
       "      <td>1623803260</td>\n",
       "    </tr>\n",
       "    <tr>\n",
       "      <th>4</th>\n",
       "      <td>Gingrpenguin</td>\n",
       "      <td>We need you to tell us our current password. N...</td>\n",
       "      <td>For backstory i worked for a small tech compan...</td>\n",
       "      <td>1</td>\n",
       "      <td>1623769022</td>\n",
       "    </tr>\n",
       "  </tbody>\n",
       "</table>\n",
       "</div>"
      ],
      "text/plain": [
       "         author                                              title  \\\n",
       "0   SonDontPlay                             \"Where is the router?\"   \n",
       "1     talbourne                            With users like this...   \n",
       "2       edhands                              Math...what a concept   \n",
       "3   12altoids34  I'll have you know I've been working on comput...   \n",
       "4  Gingrpenguin  We need you to tell us our current password. N...   \n",
       "\n",
       "                                            selftext  subreddit  created_utc  \n",
       "0  A General Officer calls in for urgent tech sup...          1   1638946522  \n",
       "1  I'll be staying at this company for a long tim...          1   1638904166  \n",
       "2  Back in 2009, our company purchased a horribly...          1   1629488107  \n",
       "3  Thats how the call started. \\n\\nThen she went ...          1   1623803260  \n",
       "4  For backstory i worked for a small tech compan...          1   1623769022  "
      ]
     },
     "execution_count": 29,
     "metadata": {},
     "output_type": "execute_result"
    }
   ],
   "source": [
    "df['subreddit'] = df['subreddit'].replace({'TalesFromRetail': 0, 'talesfromtechsupport': 1})\n",
    "df.head()"
   ]
  },
  {
   "cell_type": "code",
   "execution_count": 30,
   "id": "8475403c",
   "metadata": {},
   "outputs": [
    {
     "data": {
      "text/plain": [
       "0    0.500913\n",
       "1    0.499087\n",
       "Name: subreddit, dtype: float64"
      ]
     },
     "execution_count": 30,
     "metadata": {},
     "output_type": "execute_result"
    }
   ],
   "source": [
    "df['subreddit'].value_counts(normalize=True)"
   ]
  },
  {
   "cell_type": "markdown",
   "id": "d41257bb",
   "metadata": {},
   "source": [
    "Nice even split of data, providing good grounds for evaluation of the models."
   ]
  },
  {
   "cell_type": "markdown",
   "id": "d5cf909d",
   "metadata": {},
   "source": [
    "### Clean Data"
   ]
  },
  {
   "cell_type": "code",
   "execution_count": 31,
   "id": "eed5f933",
   "metadata": {},
   "outputs": [],
   "source": [
    "# From Breakfast Hour lecture https://git.generalassemb.ly/DSIR-0124/Breakfast-Hour/blob/master/06-week/MON%20-%20S%20-%20NLP%20Practice.ipynb\n",
    "\n",
    "def remove_html(content):\n",
    "    '''function to remove html and lowercase all text'''\n",
    "    \n",
    "    no_html = BeautifulSoup(content).text\n",
    "    # removes html\n",
    "    \n",
    "    lower_case = no_html.lower()\n",
    "    # lowercase all text\n",
    "    \n",
    "    return lower_case"
   ]
  },
  {
   "cell_type": "code",
   "execution_count": 32,
   "id": "705ca60e",
   "metadata": {},
   "outputs": [
    {
     "data": {
      "text/html": [
       "<div>\n",
       "<style scoped>\n",
       "    .dataframe tbody tr th:only-of-type {\n",
       "        vertical-align: middle;\n",
       "    }\n",
       "\n",
       "    .dataframe tbody tr th {\n",
       "        vertical-align: top;\n",
       "    }\n",
       "\n",
       "    .dataframe thead th {\n",
       "        text-align: right;\n",
       "    }\n",
       "</style>\n",
       "<table border=\"1\" class=\"dataframe\">\n",
       "  <thead>\n",
       "    <tr style=\"text-align: right;\">\n",
       "      <th></th>\n",
       "      <th>author</th>\n",
       "      <th>title</th>\n",
       "      <th>selftext</th>\n",
       "      <th>subreddit</th>\n",
       "      <th>created_utc</th>\n",
       "      <th>clean_title</th>\n",
       "      <th>clean_selftext</th>\n",
       "    </tr>\n",
       "  </thead>\n",
       "  <tbody>\n",
       "    <tr>\n",
       "      <th>0</th>\n",
       "      <td>SonDontPlay</td>\n",
       "      <td>\"Where is the router?\"</td>\n",
       "      <td>A General Officer calls in for urgent tech sup...</td>\n",
       "      <td>1</td>\n",
       "      <td>1638946522</td>\n",
       "      <td>\"where is the router?\"</td>\n",
       "      <td>a general officer calls in for urgent tech sup...</td>\n",
       "    </tr>\n",
       "    <tr>\n",
       "      <th>1</th>\n",
       "      <td>talbourne</td>\n",
       "      <td>With users like this...</td>\n",
       "      <td>I'll be staying at this company for a long tim...</td>\n",
       "      <td>1</td>\n",
       "      <td>1638904166</td>\n",
       "      <td>with users like this...</td>\n",
       "      <td>i'll be staying at this company for a long tim...</td>\n",
       "    </tr>\n",
       "    <tr>\n",
       "      <th>2</th>\n",
       "      <td>edhands</td>\n",
       "      <td>Math...what a concept</td>\n",
       "      <td>Back in 2009, our company purchased a horribly...</td>\n",
       "      <td>1</td>\n",
       "      <td>1629488107</td>\n",
       "      <td>math...what a concept</td>\n",
       "      <td>back in 2009, our company purchased a horribly...</td>\n",
       "    </tr>\n",
       "    <tr>\n",
       "      <th>3</th>\n",
       "      <td>12altoids34</td>\n",
       "      <td>I'll have you know I've been working on comput...</td>\n",
       "      <td>Thats how the call started. \\n\\nThen she went ...</td>\n",
       "      <td>1</td>\n",
       "      <td>1623803260</td>\n",
       "      <td>i'll have you know i've been working on comput...</td>\n",
       "      <td>thats how the call started. \\n\\nthen she went ...</td>\n",
       "    </tr>\n",
       "    <tr>\n",
       "      <th>4</th>\n",
       "      <td>Gingrpenguin</td>\n",
       "      <td>We need you to tell us our current password. N...</td>\n",
       "      <td>For backstory i worked for a small tech compan...</td>\n",
       "      <td>1</td>\n",
       "      <td>1623769022</td>\n",
       "      <td>we need you to tell us our current password. n...</td>\n",
       "      <td>for backstory i worked for a small tech compan...</td>\n",
       "    </tr>\n",
       "  </tbody>\n",
       "</table>\n",
       "</div>"
      ],
      "text/plain": [
       "         author                                              title  \\\n",
       "0   SonDontPlay                             \"Where is the router?\"   \n",
       "1     talbourne                            With users like this...   \n",
       "2       edhands                              Math...what a concept   \n",
       "3   12altoids34  I'll have you know I've been working on comput...   \n",
       "4  Gingrpenguin  We need you to tell us our current password. N...   \n",
       "\n",
       "                                            selftext  subreddit  created_utc  \\\n",
       "0  A General Officer calls in for urgent tech sup...          1   1638946522   \n",
       "1  I'll be staying at this company for a long tim...          1   1638904166   \n",
       "2  Back in 2009, our company purchased a horribly...          1   1629488107   \n",
       "3  Thats how the call started. \\n\\nThen she went ...          1   1623803260   \n",
       "4  For backstory i worked for a small tech compan...          1   1623769022   \n",
       "\n",
       "                                         clean_title  \\\n",
       "0                             \"where is the router?\"   \n",
       "1                            with users like this...   \n",
       "2                              math...what a concept   \n",
       "3  i'll have you know i've been working on comput...   \n",
       "4  we need you to tell us our current password. n...   \n",
       "\n",
       "                                      clean_selftext  \n",
       "0  a general officer calls in for urgent tech sup...  \n",
       "1  i'll be staying at this company for a long tim...  \n",
       "2  back in 2009, our company purchased a horribly...  \n",
       "3  thats how the call started. \\n\\nthen she went ...  \n",
       "4  for backstory i worked for a small tech compan...  "
      ]
     },
     "execution_count": 32,
     "metadata": {},
     "output_type": "execute_result"
    }
   ],
   "source": [
    "df['clean_title'] = df['title'].apply(remove_html)\n",
    "df['clean_selftext'] = df['selftext'].apply(remove_html)\n",
    "df.head()"
   ]
  },
  {
   "cell_type": "markdown",
   "id": "9a292c6e",
   "metadata": {},
   "source": [
    "### Separate Train and Test Data"
   ]
  },
  {
   "cell_type": "code",
   "execution_count": 33,
   "id": "2d484297",
   "metadata": {},
   "outputs": [],
   "source": [
    "X_t = df['clean_title']\n",
    "X_st = df['clean_selftext']\n",
    "y = df['subreddit']"
   ]
  },
  {
   "cell_type": "code",
   "execution_count": 34,
   "id": "03d5de71",
   "metadata": {},
   "outputs": [],
   "source": [
    "X_train_t, X_test_t, y_train, y_test = train_test_split(X_t, y, random_state=42, stratify=y)\n",
    "# match up \n",
    "X_train_st = X_st[X_train_t.index]\n",
    "X_test_st = X_st[X_test_t.index]"
   ]
  },
  {
   "cell_type": "code",
   "execution_count": 35,
   "id": "bba3bab5",
   "metadata": {},
   "outputs": [
    {
     "data": {
      "text/plain": [
       "array([ True,  True,  True, ...,  True,  True,  True])"
      ]
     },
     "execution_count": 35,
     "metadata": {},
     "output_type": "execute_result"
    }
   ],
   "source": [
    "X_train_st.index == X_train_t.index"
   ]
  },
  {
   "cell_type": "markdown",
   "id": "8f3a12b8",
   "metadata": {},
   "source": [
    "### Preliminary Model"
   ]
  },
  {
   "cell_type": "code",
   "execution_count": 36,
   "id": "735258a0",
   "metadata": {},
   "outputs": [],
   "source": [
    "pipe = Pipeline([\n",
    "    ('cvec', CountVectorizer()),\n",
    "    ('logreg', LogisticRegression(max_iter=1000))\n",
    "])"
   ]
  },
  {
   "cell_type": "code",
   "execution_count": 38,
   "id": "c04c2d99",
   "metadata": {},
   "outputs": [
    {
     "data": {
      "text/plain": [
       "Pipeline(steps=[('cvec', CountVectorizer()),\n",
       "                ('logreg', LogisticRegression(max_iter=1000))])"
      ]
     },
     "execution_count": 38,
     "metadata": {},
     "output_type": "execute_result"
    }
   ],
   "source": [
    "# start with a model using the title and default parameters\n",
    "\n",
    "pipe.fit(X_train_t, y_train)"
   ]
  },
  {
   "cell_type": "code",
   "execution_count": 176,
   "id": "fcdfa0a0",
   "metadata": {},
   "outputs": [
    {
     "name": "stdout",
     "output_type": "stream",
     "text": [
      "Train Score: 0.702801461632156\n",
      "Test Score: 0.6952554744525548\n",
      "Cross-Val Score: 0.7442249240121581\n"
     ]
    }
   ],
   "source": [
    "print('Train Score:', pipe.score(X_train_t, y_train))\n",
    "print('Test Score:', pipe.score(X_test_t, y_test))\n",
    "print('Cross-Val Score:', cross_val_score(pipe, X_train_t, y_train).mean())"
   ]
  },
  {
   "cell_type": "code",
   "execution_count": 179,
   "id": "d22fdf0d",
   "metadata": {},
   "outputs": [],
   "source": [
    "cross_val = cross_val_score(pipe, X_train_t, y_train)"
   ]
  },
  {
   "cell_type": "code",
   "execution_count": 182,
   "id": "33b6b64d",
   "metadata": {},
   "outputs": [
    {
     "data": {
      "text/plain": [
       "0.06951966850402047"
      ]
     },
     "execution_count": 182,
     "metadata": {},
     "output_type": "execute_result"
    }
   ],
   "source": [
    "cross_val.std()*3"
   ]
  },
  {
   "cell_type": "markdown",
   "id": "a89ba520",
   "metadata": {},
   "source": [
    "Very high variance seen in the model, with training data accurately predicting the subreddit 96% of the time with training data, but only 74% of the time with unseen data."
   ]
  },
  {
   "cell_type": "code",
   "execution_count": 40,
   "id": "d6d54943",
   "metadata": {},
   "outputs": [
    {
     "data": {
      "text/plain": [
       "Pipeline(steps=[('cvec', CountVectorizer()),\n",
       "                ('logreg', LogisticRegression(max_iter=1000))])"
      ]
     },
     "execution_count": 40,
     "metadata": {},
     "output_type": "execute_result"
    }
   ],
   "source": [
    "# let's see how selftext does\n",
    "\n",
    "pipe.fit(X_train_st, y_train)"
   ]
  },
  {
   "cell_type": "code",
   "execution_count": 183,
   "id": "a6bc0955",
   "metadata": {},
   "outputs": [
    {
     "name": "stdout",
     "output_type": "stream",
     "text": [
      "Train Score: 0.9926918392204629\n",
      "Test Score: 0.9397810218978102\n",
      "Cross-Val Score: 0.957975016680258\n"
     ]
    }
   ],
   "source": [
    "print('Train Score:', pipe.score(X_train_st, y_train))\n",
    "print('Test Score:', pipe.score(X_test_st, y_test))\n",
    "cross_val = cross_val_score(pipe, X_train_st, y_train)\n",
    "print('Cross-Val Score:', cross_val.mean())"
   ]
  },
  {
   "cell_type": "code",
   "execution_count": 197,
   "id": "2e35a1d3",
   "metadata": {},
   "outputs": [
    {
     "name": "stdout",
     "output_type": "stream",
     "text": [
      "Cross-Val Standard Deviation: 0.0138\n",
      "Accuracy range between: 0.92 and 1.00\n"
     ]
    }
   ],
   "source": [
    "sig_3 = cross_val.std()*3\n",
    "print('Cross-Val Standard Deviation:', '{:.4f}'.format(cross_val.std()))\n",
    "print('Accuracy range between:', '{:.2f}'.format(cross_val.mean() - sig_3), 'and', '{:.2f}'.format(cross_val.mean() + sig_3))"
   ]
  },
  {
   "cell_type": "markdown",
   "id": "dcb2cece",
   "metadata": {},
   "source": [
    "Wow, much better. As expected, the volume of the text has a significant affect on performance. Still a bit of variance, but already the model is doing an excellent job predicting unseen data with 94% accuracy. We are overfitting a bit it seems, with 99% accuracy on the training data, so we may be able to squeeze some performance by stripping out some of the features (maybe with LASSO)."
   ]
  },
  {
   "cell_type": "code",
   "execution_count": 74,
   "id": "c3fe50a3",
   "metadata": {},
   "outputs": [
    {
     "data": {
      "text/plain": [
       "<sklearn.metrics._plot.confusion_matrix.ConfusionMatrixDisplay at 0x2ba95459188>"
      ]
     },
     "execution_count": 74,
     "metadata": {},
     "output_type": "execute_result"
    },
    {
     "data": {
      "image/png": "[encoded data removed]",
      "text/plain": [
       "<Figure size 432x288 with 2 Axes>"
      ]
     },
     "metadata": {
      "needs_background": "light"
     },
     "output_type": "display_data"
    }
   ],
   "source": [
    "# Plot Confusion Matrix\n",
    "ConfusionMatrixDisplay.from_estimator(pipe, X_test_st, y_test, cmap='hot', display_labels=('Not From Subreddit', 'From Subreddit'))"
   ]
  },
  {
   "cell_type": "code",
   "execution_count": 78,
   "id": "a9269c6d",
   "metadata": {},
   "outputs": [],
   "source": [
    "pred = pipe.predict(X_test_st)"
   ]
  },
  {
   "cell_type": "code",
   "execution_count": 80,
   "id": "bae44268",
   "metadata": {},
   "outputs": [
    {
     "name": "stdout",
     "output_type": "stream",
     "text": [
      "              precision    recall  f1-score   support\n",
      "\n",
      "           0       0.94      0.94      0.94       275\n",
      "           1       0.94      0.94      0.94       273\n",
      "\n",
      "    accuracy                           0.94       548\n",
      "   macro avg       0.94      0.94      0.94       548\n",
      "weighted avg       0.94      0.94      0.94       548\n",
      "\n"
     ]
    }
   ],
   "source": [
    "print(classification_report(y_test, pred))"
   ]
  },
  {
   "cell_type": "markdown",
   "id": "00ed5c74",
   "metadata": {},
   "source": [
    "This basic logistic regression model outperforms the baseline (50% accuracy when guessing all posts are not from the target subreddit) with 94% accuracy, and is balanced in its false positive/false negative rates with 94% precision and 94% recall rates. We already have a solid model for predicting post origin based on these results. "
   ]
  },
  {
   "cell_type": "markdown",
   "id": "55ceac60",
   "metadata": {},
   "source": [
    "### Tune Model"
   ]
  },
  {
   "cell_type": "markdown",
   "id": "12faf437",
   "metadata": {},
   "source": [
    "I'm going to start by taking a look at what the model's top features based on coefficient magnitude"
   ]
  },
  {
   "cell_type": "code",
   "execution_count": 96,
   "id": "e227b92c",
   "metadata": {},
   "outputs": [
    {
     "data": {
      "text/plain": [
       "array([ 7.91402767e-03, -6.83126089e-02, -2.37074410e-08, ...,\n",
       "       -8.46863996e-04, -1.55397906e-02, -8.46863996e-04])"
      ]
     },
     "execution_count": 96,
     "metadata": {},
     "output_type": "execute_result"
    }
   ],
   "source": [
    "# approach found at https://stackoverflow.com/questions/43856280/return-coefficients-from-pipeline-object-in-sklearn\n",
    "vectorizer = pipe.named_steps['cvec']\n",
    "classifier = pipe.named_steps['logreg']\n",
    "coefs_st = classifier.coef_[0]\n",
    "coefs_st"
   ]
  },
  {
   "cell_type": "code",
   "execution_count": 97,
   "id": "d8fe8497",
   "metadata": {},
   "outputs": [
    {
     "data": {
      "text/plain": [
       "(19713,)"
      ]
     },
     "execution_count": 97,
     "metadata": {},
     "output_type": "execute_result"
    }
   ],
   "source": [
    "coefs_st.shape"
   ]
  },
  {
   "cell_type": "code",
   "execution_count": 91,
   "id": "c035d9bc",
   "metadata": {},
   "outputs": [],
   "source": [
    "features_st = vectorizer.get_feature_names_out()\n",
    "features_st"
   ]
  },
  {
   "cell_type": "code",
   "execution_count": 98,
   "id": "cca00062",
   "metadata": {},
   "outputs": [
    {
     "data": {
      "text/plain": [
       "(19713,)"
      ]
     },
     "execution_count": 98,
     "metadata": {},
     "output_type": "execute_result"
    }
   ],
   "source": [
    "features_st.shape"
   ]
  },
  {
   "cell_type": "code",
   "execution_count": 107,
   "id": "da67a81a",
   "metadata": {},
   "outputs": [],
   "source": [
    "feature_coefs = pd.Series(index=features_st, data=coefs_st)\n",
    "sorted_features = feature_coefs.sort_values(ascending=False)"
   ]
  },
  {
   "cell_type": "code",
   "execution_count": 108,
   "id": "d18d1f64",
   "metadata": {},
   "outputs": [
    {
     "data": {
      "text/plain": [
       "tech         0.842383\n",
       "support      0.832082\n",
       "computer     0.750193\n",
       "user         0.555967\n",
       "call         0.498199\n",
       "laptop       0.484596\n",
       "power        0.475655\n",
       "email        0.469996\n",
       "calls        0.448273\n",
       "desk         0.423087\n",
       "computers    0.418817\n",
       "office       0.402232\n",
       "new          0.383437\n",
       "pc           0.369927\n",
       "removed      0.362786\n",
       "router       0.356202\n",
       "ticket       0.352710\n",
       "crosspost    0.349402\n",
       "again        0.347519\n",
       "from         0.345958\n",
       "dtype: float64"
      ]
     },
     "execution_count": 108,
     "metadata": {},
     "output_type": "execute_result"
    }
   ],
   "source": [
    "sorted_features.head(20)"
   ]
  },
  {
   "cell_type": "markdown",
   "id": "718b9ac4",
   "metadata": {},
   "source": [
    "Notably, \"computer\" and \"computers\" both make it onto the list (which makes sense as a dead giveaway...) as separate items; I'd be interested in seeing how a stemmer impacts performance. And then the words \"tech\" and \"support\" being the top words is certainly no surprise. I hadn't originally considered that \"office\" would be strongly tied to tech support, but obviously retail business is not typically conducted in an office, so I feel a little silly for not having identified that for myself beforehand. "
   ]
  },
  {
   "cell_type": "code",
   "execution_count": 109,
   "id": "5c2d67b1",
   "metadata": {},
   "outputs": [
    {
     "data": {
      "text/plain": [
       "were       -0.266657\n",
       "gift       -0.269113\n",
       "sir        -0.283790\n",
       "came       -0.284316\n",
       "come       -0.287723\n",
       "them       -0.294136\n",
       "customer   -0.296085\n",
       "sale       -0.298438\n",
       "then       -0.307782\n",
       "item       -0.320667\n",
       "items      -0.343231\n",
       "card       -0.349551\n",
       "bag        -0.371315\n",
       "woman      -0.371769\n",
       "register   -0.376236\n",
       "cashier    -0.381926\n",
       "counter    -0.397605\n",
       "retail     -0.413051\n",
       "order      -0.416084\n",
       "store      -1.187742\n",
       "dtype: float64"
      ]
     },
     "execution_count": 109,
     "metadata": {},
     "output_type": "execute_result"
    }
   ],
   "source": [
    "sorted_features.tail(20)"
   ]
  },
  {
   "cell_type": "markdown",
   "id": "61a8f521",
   "metadata": {},
   "source": [
    "The words shown here point away from the target subreddit, and towards our opposing subreddit, \"TalesFromRetail\". It appears here as well that applying a stemmer could be useful, but otherwise most of the words seem to make sense. Some interesting standouts in \"then\" and \"were\" being in this list; curious to me that those would be used more frequently in retail relative to tech support."
   ]
  },
  {
   "cell_type": "code",
   "execution_count": 37,
   "id": "aef3c716",
   "metadata": {},
   "outputs": [
    {
     "data": {
      "text/plain": [
       "{'memory': None,\n",
       " 'steps': [('cvec', CountVectorizer()),\n",
       "  ('logreg', LogisticRegression(max_iter=1000))],\n",
       " 'verbose': False,\n",
       " 'cvec': CountVectorizer(),\n",
       " 'logreg': LogisticRegression(max_iter=1000),\n",
       " 'cvec__analyzer': 'word',\n",
       " 'cvec__binary': False,\n",
       " 'cvec__decode_error': 'strict',\n",
       " 'cvec__dtype': numpy.int64,\n",
       " 'cvec__encoding': 'utf-8',\n",
       " 'cvec__input': 'content',\n",
       " 'cvec__lowercase': True,\n",
       " 'cvec__max_df': 1.0,\n",
       " 'cvec__max_features': None,\n",
       " 'cvec__min_df': 1,\n",
       " 'cvec__ngram_range': (1, 1),\n",
       " 'cvec__preprocessor': None,\n",
       " 'cvec__stop_words': None,\n",
       " 'cvec__strip_accents': None,\n",
       " 'cvec__token_pattern': '(?u)\\\\b\\\\w\\\\w+\\\\b',\n",
       " 'cvec__tokenizer': None,\n",
       " 'cvec__vocabulary': None,\n",
       " 'logreg__C': 1.0,\n",
       " 'logreg__class_weight': None,\n",
       " 'logreg__dual': False,\n",
       " 'logreg__fit_intercept': True,\n",
       " 'logreg__intercept_scaling': 1,\n",
       " 'logreg__l1_ratio': None,\n",
       " 'logreg__max_iter': 1000,\n",
       " 'logreg__multi_class': 'auto',\n",
       " 'logreg__n_jobs': None,\n",
       " 'logreg__penalty': 'l2',\n",
       " 'logreg__random_state': None,\n",
       " 'logreg__solver': 'lbfgs',\n",
       " 'logreg__tol': 0.0001,\n",
       " 'logreg__verbose': 0,\n",
       " 'logreg__warm_start': False}"
      ]
     },
     "execution_count": 37,
     "metadata": {},
     "output_type": "execute_result"
    }
   ],
   "source": [
    "pipe.get_params()"
   ]
  },
  {
   "cell_type": "markdown",
   "id": "1812611c",
   "metadata": {},
   "source": [
    "Okay, let's see how cutting down the number of words using a stemmer and dropping stop words in the vectorizer, and using LASSO with the logistic regression, affects things. "
   ]
  },
  {
   "cell_type": "code",
   "execution_count": 111,
   "id": "62249f81",
   "metadata": {},
   "outputs": [],
   "source": [
    "# approach from https://git.generalassemb.ly/DSIR-0124/Breakfast-Hour/blob/master/06-week/MON%20-%20S%20-%20NLP%20Practice.ipynb\n",
    "\n",
    "def stem_content(content):\n",
    "    p_stemmer = PorterStemmer()\n",
    "    split_content = content.split(' ')\n",
    "    return [p_stemmer.stem(word) for word in split_content]"
   ]
  },
  {
   "cell_type": "code",
   "execution_count": 171,
   "id": "affdb274",
   "metadata": {},
   "outputs": [
    {
     "name": "stderr",
     "output_type": "stream",
     "text": [
      "C:\\Users\\musou\\Anaconda3\\lib\\site-packages\\sklearn\\feature_extraction\\text.py:401: UserWarning: Your stop_words may be inconsistent with your preprocessing. Tokenizing the stop words generated tokens ['abov', 'afterward', 'alon', 'alreadi', 'alway', 'ani', 'anoth', 'anyon', 'anyth', 'anywher', 'becam', 'becaus', 'becom', 'befor', 'besid', 'cri', 'describ', 'dure', 'els', 'elsewher', 'empti', 'everi', 'everyon', 'everyth', 'everywher', 'fifti', 'formerli', 'forti', 'ha', 'henc', 'hereaft', 'herebi', 'hi', 'howev', 'hundr', 'inde', 'latterli', 'mani', 'meanwhil', 'moreov', 'mostli', 'nobodi', 'noon', 'noth', 'nowher', 'onc', 'onli', 'otherwis', 'ourselv', 'perhap', 'pleas', 'seriou', 'sever', 'sinc', 'sincer', 'sixti', 'someon', 'someth', 'sometim', 'somewher', 'themselv', 'thenc', 'thereaft', 'therebi', 'therefor', 'thi', 'thu', 'togeth', 'twelv', 'twenti', 'veri', 'wa', 'whatev', 'whenc', 'whenev', 'wherea', 'whereaft', 'wherebi', 'wherev', 'whi', 'yourselv'] not in stop_words.\n",
      "  % sorted(inconsistent)\n",
      "C:\\Users\\musou\\Anaconda3\\lib\\site-packages\\sklearn\\feature_extraction\\text.py:401: UserWarning: Your stop_words may be inconsistent with your preprocessing. Tokenizing the stop words generated tokens ['abov', 'afterward', 'alon', 'alreadi', 'alway', 'ani', 'anoth', 'anyon', 'anyth', 'anywher', 'becam', 'becaus', 'becom', 'befor', 'besid', 'cri', 'describ', 'dure', 'els', 'elsewher', 'empti', 'everi', 'everyon', 'everyth', 'everywher', 'fifti', 'formerli', 'forti', 'ha', 'henc', 'hereaft', 'herebi', 'hi', 'howev', 'hundr', 'inde', 'latterli', 'mani', 'meanwhil', 'moreov', 'mostli', 'nobodi', 'noon', 'noth', 'nowher', 'onc', 'onli', 'otherwis', 'ourselv', 'perhap', 'pleas', 'seriou', 'sever', 'sinc', 'sincer', 'sixti', 'someon', 'someth', 'sometim', 'somewher', 'themselv', 'thenc', 'thereaft', 'therebi', 'therefor', 'thi', 'thu', 'togeth', 'twelv', 'twenti', 'veri', 'wa', 'whatev', 'whenc', 'whenev', 'wherea', 'whereaft', 'wherebi', 'wherev', 'whi', 'yourselv'] not in stop_words.\n",
      "  % sorted(inconsistent)\n",
      "C:\\Users\\musou\\Anaconda3\\lib\\site-packages\\sklearn\\feature_extraction\\text.py:401: UserWarning: Your stop_words may be inconsistent with your preprocessing. Tokenizing the stop words generated tokens ['abov', 'afterward', 'alon', 'alreadi', 'alway', 'ani', 'anoth', 'anyon', 'anyth', 'anywher', 'becam', 'becaus', 'becom', 'befor', 'besid', 'cri', 'describ', 'dure', 'els', 'elsewher', 'empti', 'everi', 'everyon', 'everyth', 'everywher', 'fifti', 'formerli', 'forti', 'ha', 'henc', 'hereaft', 'herebi', 'hi', 'howev', 'hundr', 'inde', 'latterli', 'mani', 'meanwhil', 'moreov', 'mostli', 'nobodi', 'noon', 'noth', 'nowher', 'onc', 'onli', 'otherwis', 'ourselv', 'perhap', 'pleas', 'seriou', 'sever', 'sinc', 'sincer', 'sixti', 'someon', 'someth', 'sometim', 'somewher', 'themselv', 'thenc', 'thereaft', 'therebi', 'therefor', 'thi', 'thu', 'togeth', 'twelv', 'twenti', 'veri', 'wa', 'whatev', 'whenc', 'whenev', 'wherea', 'whereaft', 'wherebi', 'wherev', 'whi', 'yourselv'] not in stop_words.\n",
      "  % sorted(inconsistent)\n",
      "C:\\Users\\musou\\Anaconda3\\lib\\site-packages\\sklearn\\feature_extraction\\text.py:401: UserWarning: Your stop_words may be inconsistent with your preprocessing. Tokenizing the stop words generated tokens ['abov', 'afterward', 'alon', 'alreadi', 'alway', 'ani', 'anoth', 'anyon', 'anyth', 'anywher', 'becam', 'becaus', 'becom', 'befor', 'besid', 'cri', 'describ', 'dure', 'els', 'elsewher', 'empti', 'everi', 'everyon', 'everyth', 'everywher', 'fifti', 'formerli', 'forti', 'ha', 'henc', 'hereaft', 'herebi', 'hi', 'howev', 'hundr', 'inde', 'latterli', 'mani', 'meanwhil', 'moreov', 'mostli', 'nobodi', 'noon', 'noth', 'nowher', 'onc', 'onli', 'otherwis', 'ourselv', 'perhap', 'pleas', 'seriou', 'sever', 'sinc', 'sincer', 'sixti', 'someon', 'someth', 'sometim', 'somewher', 'themselv', 'thenc', 'thereaft', 'therebi', 'therefor', 'thi', 'thu', 'togeth', 'twelv', 'twenti', 'veri', 'wa', 'whatev', 'whenc', 'whenev', 'wherea', 'whereaft', 'wherebi', 'wherev', 'whi', 'yourselv'] not in stop_words.\n",
      "  % sorted(inconsistent)\n",
      "C:\\Users\\musou\\Anaconda3\\lib\\site-packages\\sklearn\\feature_extraction\\text.py:401: UserWarning: Your stop_words may be inconsistent with your preprocessing. Tokenizing the stop words generated tokens ['abov', 'afterward', 'alon', 'alreadi', 'alway', 'ani', 'anoth', 'anyon', 'anyth', 'anywher', 'becam', 'becaus', 'becom', 'befor', 'besid', 'cri', 'describ', 'dure', 'els', 'elsewher', 'empti', 'everi', 'everyon', 'everyth', 'everywher', 'fifti', 'formerli', 'forti', 'ha', 'henc', 'hereaft', 'herebi', 'hi', 'howev', 'hundr', 'inde', 'latterli', 'mani', 'meanwhil', 'moreov', 'mostli', 'nobodi', 'noon', 'noth', 'nowher', 'onc', 'onli', 'otherwis', 'ourselv', 'perhap', 'pleas', 'seriou', 'sever', 'sinc', 'sincer', 'sixti', 'someon', 'someth', 'sometim', 'somewher', 'themselv', 'thenc', 'thereaft', 'therebi', 'therefor', 'thi', 'thu', 'togeth', 'twelv', 'twenti', 'veri', 'wa', 'whatev', 'whenc', 'whenev', 'wherea', 'whereaft', 'wherebi', 'wherev', 'whi', 'yourselv'] not in stop_words.\n",
      "  % sorted(inconsistent)\n",
      "C:\\Users\\musou\\Anaconda3\\lib\\site-packages\\sklearn\\feature_extraction\\text.py:401: UserWarning: Your stop_words may be inconsistent with your preprocessing. Tokenizing the stop words generated tokens ['abov', 'afterward', 'alon', 'alreadi', 'alway', 'ani', 'anoth', 'anyon', 'anyth', 'anywher', 'becam', 'becaus', 'becom', 'befor', 'besid', 'cri', 'describ', 'dure', 'els', 'elsewher', 'empti', 'everi', 'everyon', 'everyth', 'everywher', 'fifti', 'formerli', 'forti', 'ha', 'henc', 'hereaft', 'herebi', 'hi', 'howev', 'hundr', 'inde', 'latterli', 'mani', 'meanwhil', 'moreov', 'mostli', 'nobodi', 'noon', 'noth', 'nowher', 'onc', 'onli', 'otherwis', 'ourselv', 'perhap', 'pleas', 'seriou', 'sever', 'sinc', 'sincer', 'sixti', 'someon', 'someth', 'sometim', 'somewher', 'themselv', 'thenc', 'thereaft', 'therebi', 'therefor', 'thi', 'thu', 'togeth', 'twelv', 'twenti', 'veri', 'wa', 'whatev', 'whenc', 'whenev', 'wherea', 'whereaft', 'wherebi', 'wherev', 'whi', 'yourselv'] not in stop_words.\n",
      "  % sorted(inconsistent)\n",
      "C:\\Users\\musou\\Anaconda3\\lib\\site-packages\\sklearn\\feature_extraction\\text.py:401: UserWarning: Your stop_words may be inconsistent with your preprocessing. Tokenizing the stop words generated tokens ['abov', 'afterward', 'alon', 'alreadi', 'alway', 'ani', 'anoth', 'anyon', 'anyth', 'anywher', 'becam', 'becaus', 'becom', 'befor', 'besid', 'cri', 'describ', 'dure', 'els', 'elsewher', 'empti', 'everi', 'everyon', 'everyth', 'everywher', 'fifti', 'formerli', 'forti', 'ha', 'henc', 'hereaft', 'herebi', 'hi', 'howev', 'hundr', 'inde', 'latterli', 'mani', 'meanwhil', 'moreov', 'mostli', 'nobodi', 'noon', 'noth', 'nowher', 'onc', 'onli', 'otherwis', 'ourselv', 'perhap', 'pleas', 'seriou', 'sever', 'sinc', 'sincer', 'sixti', 'someon', 'someth', 'sometim', 'somewher', 'themselv', 'thenc', 'thereaft', 'therebi', 'therefor', 'thi', 'thu', 'togeth', 'twelv', 'twenti', 'veri', 'wa', 'whatev', 'whenc', 'whenev', 'wherea', 'whereaft', 'wherebi', 'wherev', 'whi', 'yourselv'] not in stop_words.\n",
      "  % sorted(inconsistent)\n",
      "C:\\Users\\musou\\Anaconda3\\lib\\site-packages\\sklearn\\feature_extraction\\text.py:401: UserWarning: Your stop_words may be inconsistent with your preprocessing. Tokenizing the stop words generated tokens ['abov', 'afterward', 'alon', 'alreadi', 'alway', 'ani', 'anoth', 'anyon', 'anyth', 'anywher', 'becam', 'becaus', 'becom', 'befor', 'besid', 'cri', 'describ', 'dure', 'els', 'elsewher', 'empti', 'everi', 'everyon', 'everyth', 'everywher', 'fifti', 'formerli', 'forti', 'ha', 'henc', 'hereaft', 'herebi', 'hi', 'howev', 'hundr', 'inde', 'latterli', 'mani', 'meanwhil', 'moreov', 'mostli', 'nobodi', 'noon', 'noth', 'nowher', 'onc', 'onli', 'otherwis', 'ourselv', 'perhap', 'pleas', 'seriou', 'sever', 'sinc', 'sincer', 'sixti', 'someon', 'someth', 'sometim', 'somewher', 'themselv', 'thenc', 'thereaft', 'therebi', 'therefor', 'thi', 'thu', 'togeth', 'twelv', 'twenti', 'veri', 'wa', 'whatev', 'whenc', 'whenev', 'wherea', 'whereaft', 'wherebi', 'wherev', 'whi', 'yourselv'] not in stop_words.\n",
      "  % sorted(inconsistent)\n",
      "C:\\Users\\musou\\Anaconda3\\lib\\site-packages\\sklearn\\feature_extraction\\text.py:401: UserWarning: Your stop_words may be inconsistent with your preprocessing. Tokenizing the stop words generated tokens ['abov', 'afterward', 'alon', 'alreadi', 'alway', 'ani', 'anoth', 'anyon', 'anyth', 'anywher', 'becam', 'becaus', 'becom', 'befor', 'besid', 'cri', 'describ', 'dure', 'els', 'elsewher', 'empti', 'everi', 'everyon', 'everyth', 'everywher', 'fifti', 'formerli', 'forti', 'ha', 'henc', 'hereaft', 'herebi', 'hi', 'howev', 'hundr', 'inde', 'latterli', 'mani', 'meanwhil', 'moreov', 'mostli', 'nobodi', 'noon', 'noth', 'nowher', 'onc', 'onli', 'otherwis', 'ourselv', 'perhap', 'pleas', 'seriou', 'sever', 'sinc', 'sincer', 'sixti', 'someon', 'someth', 'sometim', 'somewher', 'themselv', 'thenc', 'thereaft', 'therebi', 'therefor', 'thi', 'thu', 'togeth', 'twelv', 'twenti', 'veri', 'wa', 'whatev', 'whenc', 'whenev', 'wherea', 'whereaft', 'wherebi', 'wherev', 'whi', 'yourselv'] not in stop_words.\n",
      "  % sorted(inconsistent)\n"
     ]
    },
    {
     "name": "stderr",
     "output_type": "stream",
     "text": [
      "C:\\Users\\musou\\Anaconda3\\lib\\site-packages\\sklearn\\feature_extraction\\text.py:401: UserWarning: Your stop_words may be inconsistent with your preprocessing. Tokenizing the stop words generated tokens ['abov', 'afterward', 'alon', 'alreadi', 'alway', 'ani', 'anoth', 'anyon', 'anyth', 'anywher', 'becam', 'becaus', 'becom', 'befor', 'besid', 'cri', 'describ', 'dure', 'els', 'elsewher', 'empti', 'everi', 'everyon', 'everyth', 'everywher', 'fifti', 'formerli', 'forti', 'ha', 'henc', 'hereaft', 'herebi', 'hi', 'howev', 'hundr', 'inde', 'latterli', 'mani', 'meanwhil', 'moreov', 'mostli', 'nobodi', 'noon', 'noth', 'nowher', 'onc', 'onli', 'otherwis', 'ourselv', 'perhap', 'pleas', 'seriou', 'sever', 'sinc', 'sincer', 'sixti', 'someon', 'someth', 'sometim', 'somewher', 'themselv', 'thenc', 'thereaft', 'therebi', 'therefor', 'thi', 'thu', 'togeth', 'twelv', 'twenti', 'veri', 'wa', 'whatev', 'whenc', 'whenev', 'wherea', 'whereaft', 'wherebi', 'wherev', 'whi', 'yourselv'] not in stop_words.\n",
      "  % sorted(inconsistent)\n",
      "C:\\Users\\musou\\Anaconda3\\lib\\site-packages\\sklearn\\feature_extraction\\text.py:401: UserWarning: Your stop_words may be inconsistent with your preprocessing. Tokenizing the stop words generated tokens ['abov', 'afterward', 'alon', 'alreadi', 'alway', 'ani', 'anoth', 'anyon', 'anyth', 'anywher', 'becam', 'becaus', 'becom', 'befor', 'besid', 'cri', 'describ', 'dure', 'els', 'elsewher', 'empti', 'everi', 'everyon', 'everyth', 'everywher', 'fifti', 'formerli', 'forti', 'ha', 'henc', 'hereaft', 'herebi', 'hi', 'howev', 'hundr', 'inde', 'latterli', 'mani', 'meanwhil', 'moreov', 'mostli', 'nobodi', 'noon', 'noth', 'nowher', 'onc', 'onli', 'otherwis', 'ourselv', 'perhap', 'pleas', 'seriou', 'sever', 'sinc', 'sincer', 'sixti', 'someon', 'someth', 'sometim', 'somewher', 'themselv', 'thenc', 'thereaft', 'therebi', 'therefor', 'thi', 'thu', 'togeth', 'twelv', 'twenti', 'veri', 'wa', 'whatev', 'whenc', 'whenev', 'wherea', 'whereaft', 'wherebi', 'wherev', 'whi', 'yourselv'] not in stop_words.\n",
      "  % sorted(inconsistent)\n",
      "C:\\Users\\musou\\Anaconda3\\lib\\site-packages\\sklearn\\feature_extraction\\text.py:401: UserWarning: Your stop_words may be inconsistent with your preprocessing. Tokenizing the stop words generated tokens ['abov', 'afterward', 'alon', 'alreadi', 'alway', 'ani', 'anoth', 'anyon', 'anyth', 'anywher', 'becam', 'becaus', 'becom', 'befor', 'besid', 'cri', 'describ', 'dure', 'els', 'elsewher', 'empti', 'everi', 'everyon', 'everyth', 'everywher', 'fifti', 'formerli', 'forti', 'ha', 'henc', 'hereaft', 'herebi', 'hi', 'howev', 'hundr', 'inde', 'latterli', 'mani', 'meanwhil', 'moreov', 'mostli', 'nobodi', 'noon', 'noth', 'nowher', 'onc', 'onli', 'otherwis', 'ourselv', 'perhap', 'pleas', 'seriou', 'sever', 'sinc', 'sincer', 'sixti', 'someon', 'someth', 'sometim', 'somewher', 'themselv', 'thenc', 'thereaft', 'therebi', 'therefor', 'thi', 'thu', 'togeth', 'twelv', 'twenti', 'veri', 'wa', 'whatev', 'whenc', 'whenev', 'wherea', 'whereaft', 'wherebi', 'wherev', 'whi', 'yourselv'] not in stop_words.\n",
      "  % sorted(inconsistent)\n",
      "C:\\Users\\musou\\Anaconda3\\lib\\site-packages\\sklearn\\feature_extraction\\text.py:401: UserWarning: Your stop_words may be inconsistent with your preprocessing. Tokenizing the stop words generated tokens ['abov', 'afterward', 'alon', 'alreadi', 'alway', 'ani', 'anoth', 'anyon', 'anyth', 'anywher', 'becam', 'becaus', 'becom', 'befor', 'besid', 'cri', 'describ', 'dure', 'els', 'elsewher', 'empti', 'everi', 'everyon', 'everyth', 'everywher', 'fifti', 'formerli', 'forti', 'ha', 'henc', 'hereaft', 'herebi', 'hi', 'howev', 'hundr', 'inde', 'latterli', 'mani', 'meanwhil', 'moreov', 'mostli', 'nobodi', 'noon', 'noth', 'nowher', 'onc', 'onli', 'otherwis', 'ourselv', 'perhap', 'pleas', 'seriou', 'sever', 'sinc', 'sincer', 'sixti', 'someon', 'someth', 'sometim', 'somewher', 'themselv', 'thenc', 'thereaft', 'therebi', 'therefor', 'thi', 'thu', 'togeth', 'twelv', 'twenti', 'veri', 'wa', 'whatev', 'whenc', 'whenev', 'wherea', 'whereaft', 'wherebi', 'wherev', 'whi', 'yourselv'] not in stop_words.\n",
      "  % sorted(inconsistent)\n",
      "C:\\Users\\musou\\Anaconda3\\lib\\site-packages\\sklearn\\feature_extraction\\text.py:401: UserWarning: Your stop_words may be inconsistent with your preprocessing. Tokenizing the stop words generated tokens ['abov', 'afterward', 'alon', 'alreadi', 'alway', 'ani', 'anoth', 'anyon', 'anyth', 'anywher', 'becam', 'becaus', 'becom', 'befor', 'besid', 'cri', 'describ', 'dure', 'els', 'elsewher', 'empti', 'everi', 'everyon', 'everyth', 'everywher', 'fifti', 'formerli', 'forti', 'ha', 'henc', 'hereaft', 'herebi', 'hi', 'howev', 'hundr', 'inde', 'latterli', 'mani', 'meanwhil', 'moreov', 'mostli', 'nobodi', 'noon', 'noth', 'nowher', 'onc', 'onli', 'otherwis', 'ourselv', 'perhap', 'pleas', 'seriou', 'sever', 'sinc', 'sincer', 'sixti', 'someon', 'someth', 'sometim', 'somewher', 'themselv', 'thenc', 'thereaft', 'therebi', 'therefor', 'thi', 'thu', 'togeth', 'twelv', 'twenti', 'veri', 'wa', 'whatev', 'whenc', 'whenev', 'wherea', 'whereaft', 'wherebi', 'wherev', 'whi', 'yourselv'] not in stop_words.\n",
      "  % sorted(inconsistent)\n",
      "C:\\Users\\musou\\Anaconda3\\lib\\site-packages\\sklearn\\feature_extraction\\text.py:401: UserWarning: Your stop_words may be inconsistent with your preprocessing. Tokenizing the stop words generated tokens ['abov', 'afterward', 'alon', 'alreadi', 'alway', 'ani', 'anoth', 'anyon', 'anyth', 'anywher', 'becam', 'becaus', 'becom', 'befor', 'besid', 'cri', 'describ', 'dure', 'els', 'elsewher', 'empti', 'everi', 'everyon', 'everyth', 'everywher', 'fifti', 'formerli', 'forti', 'ha', 'henc', 'hereaft', 'herebi', 'hi', 'howev', 'hundr', 'inde', 'latterli', 'mani', 'meanwhil', 'moreov', 'mostli', 'nobodi', 'noon', 'noth', 'nowher', 'onc', 'onli', 'otherwis', 'ourselv', 'perhap', 'pleas', 'seriou', 'sever', 'sinc', 'sincer', 'sixti', 'someon', 'someth', 'sometim', 'somewher', 'themselv', 'thenc', 'thereaft', 'therebi', 'therefor', 'thi', 'thu', 'togeth', 'twelv', 'twenti', 'veri', 'wa', 'whatev', 'whenc', 'whenev', 'wherea', 'whereaft', 'wherebi', 'wherev', 'whi', 'yourselv'] not in stop_words.\n",
      "  % sorted(inconsistent)\n"
     ]
    },
    {
     "name": "stdout",
     "output_type": "stream",
     "text": [
      "Time to complete: 9 min, 41 seconds\n",
      "0.9549280895544519\n",
      "{'cvec__stop_words': 'english', 'cvec__tokenizer': None, 'logreg__C': 0.7, 'logreg__penalty': 'l1', 'logreg__solver': 'liblinear'}\n"
     ]
    }
   ],
   "source": [
    "t_start = int(time.time())\n",
    "\n",
    "np.random.seed(42)\n",
    "params1 = {\n",
    "    'cvec__tokenizer': [None, stem_content],\n",
    "    'cvec__stop_words': [None, 'english'],\n",
    "    'logreg__penalty': ['l1'], # LASSO regularization\n",
    "    'logreg__solver': ['liblinear'], # solver that handles LASSO\n",
    "    'logreg__C': [1.0, .7, .4]\n",
    "}\n",
    "\n",
    "gs1 = GridSearchCV(pipe, params1)\n",
    "gs1.fit(X_train_st, y_train)\n",
    "\n",
    "t_finish = int(time.time())\n",
    "t_delta = t_finish - t_start\n",
    "\n",
    "print(f'Time to complete: {t_delta // 60} min, {t_delta % 60} seconds')\n",
    "print(gs1.best_score_)\n",
    "print(gs1.best_params_)"
   ]
  },
  {
   "cell_type": "code",
   "execution_count": 188,
   "id": "4daf9a94",
   "metadata": {},
   "outputs": [
    {
     "name": "stdout",
     "output_type": "stream",
     "text": [
      "Train Score: 0.9920828258221681\n",
      "Test Score: 0.9525547445255474\n",
      "Cross-Val Score: 0.9549280895544519\n"
     ]
    }
   ],
   "source": [
    "print('Train Score:', gs1.score(X_train_st, y_train))\n",
    "print('Test Score:', gs1.score(X_test_st, y_test))\n",
    "print('Cross-Val Score:', gs1.best_score_)"
   ]
  },
  {
   "cell_type": "code",
   "execution_count": 201,
   "id": "cb5be603",
   "metadata": {},
   "outputs": [
    {
     "data": {
      "text/plain": [
       "<sklearn.metrics._plot.confusion_matrix.ConfusionMatrixDisplay at 0x2ba9802dd08>"
      ]
     },
     "execution_count": 201,
     "metadata": {},
     "output_type": "execute_result"
    },
    {
     "data": {
      "image/png": "[encoded data removed]",
      "text/plain": [
       "<Figure size 432x288 with 2 Axes>"
      ]
     },
     "metadata": {
      "needs_background": "light"
     },
     "output_type": "display_data"
    }
   ],
   "source": [
    "ConfusionMatrixDisplay.from_estimator(gs1, X_test_st, y_test, cmap='hot', display_labels=('Not From Subreddit', 'From Subreddit'))"
   ]
  },
  {
   "cell_type": "code",
   "execution_count": 193,
   "id": "200c511a",
   "metadata": {},
   "outputs": [
    {
     "data": {
      "text/html": [
       "<div>\n",
       "<style scoped>\n",
       "    .dataframe tbody tr th:only-of-type {\n",
       "        vertical-align: middle;\n",
       "    }\n",
       "\n",
       "    .dataframe tbody tr th {\n",
       "        vertical-align: top;\n",
       "    }\n",
       "\n",
       "    .dataframe thead th {\n",
       "        text-align: right;\n",
       "    }\n",
       "</style>\n",
       "<table border=\"1\" class=\"dataframe\">\n",
       "  <thead>\n",
       "    <tr style=\"text-align: right;\">\n",
       "      <th></th>\n",
       "      <th>mean_fit_time</th>\n",
       "      <th>std_fit_time</th>\n",
       "      <th>mean_score_time</th>\n",
       "      <th>std_score_time</th>\n",
       "      <th>param_cvec__stop_words</th>\n",
       "      <th>param_cvec__tokenizer</th>\n",
       "      <th>param_logreg__C</th>\n",
       "      <th>param_logreg__penalty</th>\n",
       "      <th>param_logreg__solver</th>\n",
       "      <th>params</th>\n",
       "      <th>split0_test_score</th>\n",
       "      <th>split1_test_score</th>\n",
       "      <th>split2_test_score</th>\n",
       "      <th>split3_test_score</th>\n",
       "      <th>split4_test_score</th>\n",
       "      <th>mean_test_score</th>\n",
       "      <th>std_test_score</th>\n",
       "      <th>rank_test_score</th>\n",
       "    </tr>\n",
       "  </thead>\n",
       "  <tbody>\n",
       "    <tr>\n",
       "      <th>7</th>\n",
       "      <td>0.620963</td>\n",
       "      <td>0.011011</td>\n",
       "      <td>0.130335</td>\n",
       "      <td>0.003037</td>\n",
       "      <td>english</td>\n",
       "      <td>None</td>\n",
       "      <td>0.7</td>\n",
       "      <td>l1</td>\n",
       "      <td>liblinear</td>\n",
       "      <td>{'cvec__stop_words': 'english', 'cvec__tokeniz...</td>\n",
       "      <td>0.957447</td>\n",
       "      <td>0.960486</td>\n",
       "      <td>0.948171</td>\n",
       "      <td>0.960366</td>\n",
       "      <td>0.948171</td>\n",
       "      <td>0.954928</td>\n",
       "      <td>0.005624</td>\n",
       "      <td>1</td>\n",
       "    </tr>\n",
       "    <tr>\n",
       "      <th>8</th>\n",
       "      <td>0.616761</td>\n",
       "      <td>0.009547</td>\n",
       "      <td>0.129357</td>\n",
       "      <td>0.004140</td>\n",
       "      <td>english</td>\n",
       "      <td>None</td>\n",
       "      <td>0.4</td>\n",
       "      <td>l1</td>\n",
       "      <td>liblinear</td>\n",
       "      <td>{'cvec__stop_words': 'english', 'cvec__tokeniz...</td>\n",
       "      <td>0.954407</td>\n",
       "      <td>0.963526</td>\n",
       "      <td>0.945122</td>\n",
       "      <td>0.960366</td>\n",
       "      <td>0.951220</td>\n",
       "      <td>0.954928</td>\n",
       "      <td>0.006537</td>\n",
       "      <td>2</td>\n",
       "    </tr>\n",
       "    <tr>\n",
       "      <th>6</th>\n",
       "      <td>0.618787</td>\n",
       "      <td>0.019818</td>\n",
       "      <td>0.129939</td>\n",
       "      <td>0.004459</td>\n",
       "      <td>english</td>\n",
       "      <td>None</td>\n",
       "      <td>1.0</td>\n",
       "      <td>l1</td>\n",
       "      <td>liblinear</td>\n",
       "      <td>{'cvec__stop_words': 'english', 'cvec__tokeniz...</td>\n",
       "      <td>0.954407</td>\n",
       "      <td>0.960486</td>\n",
       "      <td>0.948171</td>\n",
       "      <td>0.957317</td>\n",
       "      <td>0.951220</td>\n",
       "      <td>0.954320</td>\n",
       "      <td>0.004346</td>\n",
       "      <td>3</td>\n",
       "    </tr>\n",
       "    <tr>\n",
       "      <th>0</th>\n",
       "      <td>0.703402</td>\n",
       "      <td>0.015770</td>\n",
       "      <td>0.143528</td>\n",
       "      <td>0.006482</td>\n",
       "      <td>None</td>\n",
       "      <td>None</td>\n",
       "      <td>1.0</td>\n",
       "      <td>l1</td>\n",
       "      <td>liblinear</td>\n",
       "      <td>{'cvec__stop_words': None, 'cvec__tokenizer': ...</td>\n",
       "      <td>0.942249</td>\n",
       "      <td>0.948328</td>\n",
       "      <td>0.935976</td>\n",
       "      <td>0.966463</td>\n",
       "      <td>0.954268</td>\n",
       "      <td>0.949457</td>\n",
       "      <td>0.010463</td>\n",
       "      <td>4</td>\n",
       "    </tr>\n",
       "    <tr>\n",
       "      <th>1</th>\n",
       "      <td>0.703039</td>\n",
       "      <td>0.012355</td>\n",
       "      <td>0.144097</td>\n",
       "      <td>0.008094</td>\n",
       "      <td>None</td>\n",
       "      <td>None</td>\n",
       "      <td>0.7</td>\n",
       "      <td>l1</td>\n",
       "      <td>liblinear</td>\n",
       "      <td>{'cvec__stop_words': None, 'cvec__tokenizer': ...</td>\n",
       "      <td>0.942249</td>\n",
       "      <td>0.948328</td>\n",
       "      <td>0.932927</td>\n",
       "      <td>0.969512</td>\n",
       "      <td>0.954268</td>\n",
       "      <td>0.949457</td>\n",
       "      <td>0.012262</td>\n",
       "      <td>4</td>\n",
       "    </tr>\n",
       "  </tbody>\n",
       "</table>\n",
       "</div>"
      ],
      "text/plain": [
       "   mean_fit_time  std_fit_time  mean_score_time  std_score_time  \\\n",
       "7       0.620963      0.011011         0.130335        0.003037   \n",
       "8       0.616761      0.009547         0.129357        0.004140   \n",
       "6       0.618787      0.019818         0.129939        0.004459   \n",
       "0       0.703402      0.015770         0.143528        0.006482   \n",
       "1       0.703039      0.012355         0.144097        0.008094   \n",
       "\n",
       "  param_cvec__stop_words param_cvec__tokenizer param_logreg__C  \\\n",
       "7                english                  None             0.7   \n",
       "8                english                  None             0.4   \n",
       "6                english                  None             1.0   \n",
       "0                   None                  None             1.0   \n",
       "1                   None                  None             0.7   \n",
       "\n",
       "  param_logreg__penalty param_logreg__solver  \\\n",
       "7                    l1            liblinear   \n",
       "8                    l1            liblinear   \n",
       "6                    l1            liblinear   \n",
       "0                    l1            liblinear   \n",
       "1                    l1            liblinear   \n",
       "\n",
       "                                              params  split0_test_score  \\\n",
       "7  {'cvec__stop_words': 'english', 'cvec__tokeniz...           0.957447   \n",
       "8  {'cvec__stop_words': 'english', 'cvec__tokeniz...           0.954407   \n",
       "6  {'cvec__stop_words': 'english', 'cvec__tokeniz...           0.954407   \n",
       "0  {'cvec__stop_words': None, 'cvec__tokenizer': ...           0.942249   \n",
       "1  {'cvec__stop_words': None, 'cvec__tokenizer': ...           0.942249   \n",
       "\n",
       "   split1_test_score  split2_test_score  split3_test_score  split4_test_score  \\\n",
       "7           0.960486           0.948171           0.960366           0.948171   \n",
       "8           0.963526           0.945122           0.960366           0.951220   \n",
       "6           0.960486           0.948171           0.957317           0.951220   \n",
       "0           0.948328           0.935976           0.966463           0.954268   \n",
       "1           0.948328           0.932927           0.969512           0.954268   \n",
       "\n",
       "   mean_test_score  std_test_score  rank_test_score  \n",
       "7         0.954928        0.005624                1  \n",
       "8         0.954928        0.006537                2  \n",
       "6         0.954320        0.004346                3  \n",
       "0         0.949457        0.010463                4  \n",
       "1         0.949457        0.012262                4  "
      ]
     },
     "execution_count": 193,
     "metadata": {},
     "output_type": "execute_result"
    }
   ],
   "source": [
    "# approach from https://git.generalassemb.ly/DSIR-0124/lesson-hyperparameters-gridsearch-and-pipelines/blob/master/starter-code.ipynb\n",
    "\n",
    "pd.DataFrame(gs1.cv_results_).sort_values('rank_test_score').head()"
   ]
  },
  {
   "cell_type": "markdown",
   "id": "fac17c03",
   "metadata": {},
   "source": [
    "Not much difference there, with the particular exception that english stop words significantly reduced the cross_val standard deviation. On our original model, we were seeing a standard deviation of around .014, and this new model more than halves that down to .006. This is great; the overall variance of our model is diminishing, even though we aren't yet seeing much affect on our train and test scores.\n",
    "\n",
    "Also of note, the Train score remains very close to perfect; I want to try and push that down away from overfitting and try to give some room to swap bias for variance (thinking that will bring the cross-val and test scores up along the way)"
   ]
  },
  {
   "cell_type": "code",
   "execution_count": 192,
   "id": "5d32de5e",
   "metadata": {},
   "outputs": [
    {
     "data": {
      "text/plain": [
       "CountVectorizer(stop_words='english')"
      ]
     },
     "execution_count": 192,
     "metadata": {},
     "output_type": "execute_result"
    }
   ],
   "source": [
    "gs1.best_estimator_[0]"
   ]
  },
  {
   "cell_type": "code",
   "execution_count": 191,
   "id": "2763c059",
   "metadata": {},
   "outputs": [
    {
     "data": {
      "text/plain": [
       "LogisticRegression(C=0.7, max_iter=1000, penalty='l1', solver='liblinear')"
      ]
     },
     "execution_count": 191,
     "metadata": {},
     "output_type": "execute_result"
    }
   ],
   "source": [
    "gs1.best_estimator_[1]"
   ]
  },
  {
   "cell_type": "markdown",
   "id": "18ff3d87",
   "metadata": {},
   "source": [
    "For our count vectorizor, stemming didn't appear to help much, but stop words certainly helped with variance. Next, I'd like to get a little better resolution on regularization strength values, and try to cut down features a bit more."
   ]
  },
  {
   "cell_type": "code",
   "execution_count": 198,
   "id": "afef40fa",
   "metadata": {},
   "outputs": [
    {
     "name": "stdout",
     "output_type": "stream",
     "text": [
      "Time to complete: 0 min, 33 seconds\n",
      "0.956145748387575\n",
      "{'cvec__stop_words': 'english', 'logreg__C': 0.6, 'logreg__penalty': 'l1', 'logreg__solver': 'liblinear'}\n"
     ]
    }
   ],
   "source": [
    "t_start = int(time.time())\n",
    "\n",
    "np.random.seed(42)\n",
    "params2 = {\n",
    "#     'cvec__tokenizer': [None, stem_content], # tokenizer didn't seem to help\n",
    "    'cvec__stop_words': ['english'], # english stop words bought down our standard deviation considerably\n",
    "    'logreg__penalty': ['l1'], # LASSO regularization\n",
    "    'logreg__solver': ['liblinear'], # solver that handles LASSO\n",
    "    'logreg__C': [.8, .7, .6, .5, .4, .3, .2, .1]\n",
    "}\n",
    "\n",
    "gs2 = GridSearchCV(pipe, params2)\n",
    "gs2.fit(X_train_st, y_train)\n",
    "\n",
    "t_finish = int(time.time())\n",
    "t_delta = t_finish - t_start\n",
    "\n",
    "print(f'Time to complete: {t_delta // 60} min, {t_delta % 60} seconds')\n",
    "print(gs2.best_score_)\n",
    "print(gs2.best_params_)"
   ]
  },
  {
   "cell_type": "code",
   "execution_count": 199,
   "id": "9802c108",
   "metadata": {},
   "outputs": [
    {
     "name": "stdout",
     "output_type": "stream",
     "text": [
      "Train Score: 0.9908647990255786\n",
      "Test Score: 0.9525547445255474\n",
      "Cross-Val Score: 0.956145748387575\n"
     ]
    }
   ],
   "source": [
    "print('Train Score:', gs2.score(X_train_st, y_train))\n",
    "print('Test Score:', gs2.score(X_test_st, y_test))\n",
    "print('Cross-Val Score:', gs2.best_score_)"
   ]
  },
  {
   "cell_type": "code",
   "execution_count": 202,
   "id": "1a503ec7",
   "metadata": {},
   "outputs": [
    {
     "data": {
      "text/plain": [
       "<sklearn.metrics._plot.confusion_matrix.ConfusionMatrixDisplay at 0x2ba96d23408>"
      ]
     },
     "execution_count": 202,
     "metadata": {},
     "output_type": "execute_result"
    },
    {
     "data": {
      "image/png": "[encoded data removed]",
      "text/plain": [
       "<Figure size 432x288 with 2 Axes>"
      ]
     },
     "metadata": {
      "needs_background": "light"
     },
     "output_type": "display_data"
    }
   ],
   "source": [
    "ConfusionMatrixDisplay.from_estimator(gs2, X_test_st, y_test, cmap='hot', display_labels=('Not From Subreddit', 'From Subreddit'))"
   ]
  },
  {
   "cell_type": "code",
   "execution_count": 200,
   "id": "897897dc",
   "metadata": {},
   "outputs": [
    {
     "data": {
      "text/html": [
       "<div>\n",
       "<style scoped>\n",
       "    .dataframe tbody tr th:only-of-type {\n",
       "        vertical-align: middle;\n",
       "    }\n",
       "\n",
       "    .dataframe tbody tr th {\n",
       "        vertical-align: top;\n",
       "    }\n",
       "\n",
       "    .dataframe thead th {\n",
       "        text-align: right;\n",
       "    }\n",
       "</style>\n",
       "<table border=\"1\" class=\"dataframe\">\n",
       "  <thead>\n",
       "    <tr style=\"text-align: right;\">\n",
       "      <th></th>\n",
       "      <th>mean_fit_time</th>\n",
       "      <th>std_fit_time</th>\n",
       "      <th>mean_score_time</th>\n",
       "      <th>std_score_time</th>\n",
       "      <th>param_cvec__stop_words</th>\n",
       "      <th>param_logreg__C</th>\n",
       "      <th>param_logreg__penalty</th>\n",
       "      <th>param_logreg__solver</th>\n",
       "      <th>params</th>\n",
       "      <th>split0_test_score</th>\n",
       "      <th>split1_test_score</th>\n",
       "      <th>split2_test_score</th>\n",
       "      <th>split3_test_score</th>\n",
       "      <th>split4_test_score</th>\n",
       "      <th>mean_test_score</th>\n",
       "      <th>std_test_score</th>\n",
       "      <th>rank_test_score</th>\n",
       "    </tr>\n",
       "  </thead>\n",
       "  <tbody>\n",
       "    <tr>\n",
       "      <th>2</th>\n",
       "      <td>0.662143</td>\n",
       "      <td>0.009502</td>\n",
       "      <td>0.141446</td>\n",
       "      <td>0.014434</td>\n",
       "      <td>english</td>\n",
       "      <td>0.6</td>\n",
       "      <td>l1</td>\n",
       "      <td>liblinear</td>\n",
       "      <td>{'cvec__stop_words': 'english', 'logreg__C': 0...</td>\n",
       "      <td>0.957447</td>\n",
       "      <td>0.963526</td>\n",
       "      <td>0.948171</td>\n",
       "      <td>0.960366</td>\n",
       "      <td>0.951220</td>\n",
       "      <td>0.956146</td>\n",
       "      <td>0.005689</td>\n",
       "      <td>1</td>\n",
       "    </tr>\n",
       "    <tr>\n",
       "      <th>3</th>\n",
       "      <td>0.660284</td>\n",
       "      <td>0.009097</td>\n",
       "      <td>0.142618</td>\n",
       "      <td>0.005246</td>\n",
       "      <td>english</td>\n",
       "      <td>0.5</td>\n",
       "      <td>l1</td>\n",
       "      <td>liblinear</td>\n",
       "      <td>{'cvec__stop_words': 'english', 'logreg__C': 0...</td>\n",
       "      <td>0.954407</td>\n",
       "      <td>0.960486</td>\n",
       "      <td>0.948171</td>\n",
       "      <td>0.960366</td>\n",
       "      <td>0.951220</td>\n",
       "      <td>0.954930</td>\n",
       "      <td>0.004902</td>\n",
       "      <td>2</td>\n",
       "    </tr>\n",
       "    <tr>\n",
       "      <th>1</th>\n",
       "      <td>0.671227</td>\n",
       "      <td>0.011355</td>\n",
       "      <td>0.144629</td>\n",
       "      <td>0.006419</td>\n",
       "      <td>english</td>\n",
       "      <td>0.7</td>\n",
       "      <td>l1</td>\n",
       "      <td>liblinear</td>\n",
       "      <td>{'cvec__stop_words': 'english', 'logreg__C': 0...</td>\n",
       "      <td>0.957447</td>\n",
       "      <td>0.960486</td>\n",
       "      <td>0.948171</td>\n",
       "      <td>0.960366</td>\n",
       "      <td>0.948171</td>\n",
       "      <td>0.954928</td>\n",
       "      <td>0.005624</td>\n",
       "      <td>3</td>\n",
       "    </tr>\n",
       "    <tr>\n",
       "      <th>4</th>\n",
       "      <td>0.664808</td>\n",
       "      <td>0.030719</td>\n",
       "      <td>0.145820</td>\n",
       "      <td>0.006421</td>\n",
       "      <td>english</td>\n",
       "      <td>0.4</td>\n",
       "      <td>l1</td>\n",
       "      <td>liblinear</td>\n",
       "      <td>{'cvec__stop_words': 'english', 'logreg__C': 0...</td>\n",
       "      <td>0.954407</td>\n",
       "      <td>0.960486</td>\n",
       "      <td>0.945122</td>\n",
       "      <td>0.960366</td>\n",
       "      <td>0.951220</td>\n",
       "      <td>0.954320</td>\n",
       "      <td>0.005810</td>\n",
       "      <td>4</td>\n",
       "    </tr>\n",
       "    <tr>\n",
       "      <th>0</th>\n",
       "      <td>0.661031</td>\n",
       "      <td>0.005593</td>\n",
       "      <td>0.141836</td>\n",
       "      <td>0.004064</td>\n",
       "      <td>english</td>\n",
       "      <td>0.8</td>\n",
       "      <td>l1</td>\n",
       "      <td>liblinear</td>\n",
       "      <td>{'cvec__stop_words': 'english', 'logreg__C': 0...</td>\n",
       "      <td>0.954407</td>\n",
       "      <td>0.960486</td>\n",
       "      <td>0.945122</td>\n",
       "      <td>0.960366</td>\n",
       "      <td>0.948171</td>\n",
       "      <td>0.953710</td>\n",
       "      <td>0.006247</td>\n",
       "      <td>5</td>\n",
       "    </tr>\n",
       "  </tbody>\n",
       "</table>\n",
       "</div>"
      ],
      "text/plain": [
       "   mean_fit_time  std_fit_time  mean_score_time  std_score_time  \\\n",
       "2       0.662143      0.009502         0.141446        0.014434   \n",
       "3       0.660284      0.009097         0.142618        0.005246   \n",
       "1       0.671227      0.011355         0.144629        0.006419   \n",
       "4       0.664808      0.030719         0.145820        0.006421   \n",
       "0       0.661031      0.005593         0.141836        0.004064   \n",
       "\n",
       "  param_cvec__stop_words param_logreg__C param_logreg__penalty  \\\n",
       "2                english             0.6                    l1   \n",
       "3                english             0.5                    l1   \n",
       "1                english             0.7                    l1   \n",
       "4                english             0.4                    l1   \n",
       "0                english             0.8                    l1   \n",
       "\n",
       "  param_logreg__solver                                             params  \\\n",
       "2            liblinear  {'cvec__stop_words': 'english', 'logreg__C': 0...   \n",
       "3            liblinear  {'cvec__stop_words': 'english', 'logreg__C': 0...   \n",
       "1            liblinear  {'cvec__stop_words': 'english', 'logreg__C': 0...   \n",
       "4            liblinear  {'cvec__stop_words': 'english', 'logreg__C': 0...   \n",
       "0            liblinear  {'cvec__stop_words': 'english', 'logreg__C': 0...   \n",
       "\n",
       "   split0_test_score  split1_test_score  split2_test_score  split3_test_score  \\\n",
       "2           0.957447           0.963526           0.948171           0.960366   \n",
       "3           0.954407           0.960486           0.948171           0.960366   \n",
       "1           0.957447           0.960486           0.948171           0.960366   \n",
       "4           0.954407           0.960486           0.945122           0.960366   \n",
       "0           0.954407           0.960486           0.945122           0.960366   \n",
       "\n",
       "   split4_test_score  mean_test_score  std_test_score  rank_test_score  \n",
       "2           0.951220         0.956146        0.005689                1  \n",
       "3           0.951220         0.954930        0.004902                2  \n",
       "1           0.948171         0.954928        0.005624                3  \n",
       "4           0.951220         0.954320        0.005810                4  \n",
       "0           0.948171         0.953710        0.006247                5  "
      ]
     },
     "execution_count": 200,
     "metadata": {},
     "output_type": "execute_result"
    }
   ],
   "source": [
    "pd.DataFrame(gs2.cv_results_).sort_values('rank_test_score').head()"
   ]
  },
  {
   "cell_type": "markdown",
   "id": "3099c62b",
   "metadata": {},
   "source": [
    "Okay, looks like we're starting to split hairs with the regularization strengths. Seeing solid performance with the top two grid searched models producing around 95.5% accuracy, with a standard deviation around .5%.  \n",
    "\n",
    "One last thing I'd like to try with this logistic regression model is to incorporate n-grams; I suspect that there are a number of word combinations that would be strong indicators for our subreddits. "
   ]
  },
  {
   "cell_type": "code",
   "execution_count": null,
   "id": "547f3a78",
   "metadata": {},
   "outputs": [],
   "source": [
    "t_start = int(time.time())\n",
    "\n",
    "np.random.seed(42)\n",
    "params3 = {\n",
    "    'cvec__stop_words': ['english'], # english stop words bought down our standard deviation considerably\n",
    "    'cvec__ngram_range': [(2,2), (1,2)] # explore two-word space\n",
    "    'logreg__penalty': ['l1'], # LASSO regularization\n",
    "    'logreg__solver': ['liblinear'], # solver that handles LASSO\n",
    "    'logreg__C': [.6, .55, .5] # exploring the space between the two previous best regularization strengths (assuming indepence from other params)\n",
    "}\n",
    "\n",
    "gs3 = GridSearchCV(pipe, params3)\n",
    "gs3.fit(X_train_st, y_train)\n",
    "\n",
    "t_finish = int(time.time())\n",
    "t_delta = t_finish - t_start\n",
    "\n",
    "print(f'Time to complete: {t_delta // 60} min, {t_delta % 60} seconds')\n",
    "print(gs3.best_score_)\n",
    "print(gs3.best_params_)"
   ]
  }
 ],
 "metadata": {
  "kernelspec": {
   "display_name": "Python 3 (ipykernel)",
   "language": "python",
   "name": "python3"
  },
  "language_info": {
   "codemirror_mode": {
    "name": "ipython",
    "version": 3
   },
   "file_extension": ".py",
   "mimetype": "text/x-python",
   "name": "python",
   "nbconvert_exporter": "python",
   "pygments_lexer": "ipython3",
   "version": "3.7.11"
  }
 },
 "nbformat": 4,
 "nbformat_minor": 5
}
