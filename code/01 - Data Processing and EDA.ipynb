{
 "cells": [
  {
   "cell_type": "code",
   "execution_count": 325,
   "id": "358e6191",
   "metadata": {},
   "outputs": [],
   "source": [
    "import pandas as pd\n",
    "import numpy as np\n",
    "import matplotlib.pyplot as plt\n",
    "import seaborn as sns\n",
    "import time\n",
    "\n",
    "from bs4 import BeautifulSoup\n",
    "\n",
    "from sklearn.linear_model import LogisticRegression\n",
    "from sklearn.model_selection import train_test_split, GridSearchCV, cross_val_score\n",
    "from sklearn.feature_extraction.text import CountVectorizer\n",
    "from sklearn.pipeline import Pipeline\n",
    "from sklearn.metrics import ConfusionMatrixDisplay, classification_report, RocCurveDisplay\n",
    "\n",
    "from nltk.stem import WordNetLemmatizer, PorterStemmer\n",
    "from nltk.corpus import stopwords\n",
    "from nltk.tokenize import sent_tokenize, word_tokenize, RegexpTokenizer"
   ]
  },
  {
   "cell_type": "markdown",
   "id": "df41fe77",
   "metadata": {},
   "source": [
    "### Pull in Data"
   ]
  },
  {
   "cell_type": "code",
   "execution_count": 326,
   "id": "e91baf79",
   "metadata": {},
   "outputs": [
    {
     "data": {
      "text/plain": [
       "((1066, 6), (1080, 6))"
      ]
     },
     "execution_count": 326,
     "metadata": {},
     "output_type": "execute_result"
    }
   ],
   "source": [
    "tech_support = pd.read_csv('../data/1646356302_TalesFromTechSupport.csv')\n",
    "retail = pd.read_csv('../data/1646356303_TalesFromRetail.csv')\n",
    "tech_support.shape, retail.shape"
   ]
  },
  {
   "cell_type": "markdown",
   "id": "d2b646de",
   "metadata": {},
   "source": [
    "### Check Data"
   ]
  },
  {
   "cell_type": "code",
   "execution_count": 327,
   "id": "4287000e",
   "metadata": {},
   "outputs": [
    {
     "data": {
      "text/html": [
       "<div>\n",
       "<style scoped>\n",
       "    .dataframe tbody tr th:only-of-type {\n",
       "        vertical-align: middle;\n",
       "    }\n",
       "\n",
       "    .dataframe tbody tr th {\n",
       "        vertical-align: top;\n",
       "    }\n",
       "\n",
       "    .dataframe thead th {\n",
       "        text-align: right;\n",
       "    }\n",
       "</style>\n",
       "<table border=\"1\" class=\"dataframe\">\n",
       "  <thead>\n",
       "    <tr style=\"text-align: right;\">\n",
       "      <th></th>\n",
       "      <th>author</th>\n",
       "      <th>title</th>\n",
       "      <th>selftext</th>\n",
       "      <th>subreddit</th>\n",
       "      <th>score</th>\n",
       "      <th>created_utc</th>\n",
       "    </tr>\n",
       "  </thead>\n",
       "  <tbody>\n",
       "    <tr>\n",
       "      <th>0</th>\n",
       "      <td>SonDontPlay</td>\n",
       "      <td>\"Where is the router?\"</td>\n",
       "      <td>A General Officer calls in for urgent tech sup...</td>\n",
       "      <td>talesfromtechsupport</td>\n",
       "      <td>1183</td>\n",
       "      <td>1638946522</td>\n",
       "    </tr>\n",
       "    <tr>\n",
       "      <th>1</th>\n",
       "      <td>talbourne</td>\n",
       "      <td>With users like this...</td>\n",
       "      <td>I'll be staying at this company for a long tim...</td>\n",
       "      <td>talesfromtechsupport</td>\n",
       "      <td>1634</td>\n",
       "      <td>1638904166</td>\n",
       "    </tr>\n",
       "    <tr>\n",
       "      <th>2</th>\n",
       "      <td>edhands</td>\n",
       "      <td>Math...what a concept</td>\n",
       "      <td>Back in 2009, our company purchased a horribly...</td>\n",
       "      <td>talesfromtechsupport</td>\n",
       "      <td>870</td>\n",
       "      <td>1629488107</td>\n",
       "    </tr>\n",
       "    <tr>\n",
       "      <th>3</th>\n",
       "      <td>12altoids34</td>\n",
       "      <td>I'll have you know I've been working on comput...</td>\n",
       "      <td>Thats how the call started. \\n\\nThen she went ...</td>\n",
       "      <td>talesfromtechsupport</td>\n",
       "      <td>935</td>\n",
       "      <td>1623803260</td>\n",
       "    </tr>\n",
       "    <tr>\n",
       "      <th>4</th>\n",
       "      <td>Gingrpenguin</td>\n",
       "      <td>We need you to tell us our current password. N...</td>\n",
       "      <td>For backstory i worked for a small tech compan...</td>\n",
       "      <td>talesfromtechsupport</td>\n",
       "      <td>682</td>\n",
       "      <td>1623769022</td>\n",
       "    </tr>\n",
       "  </tbody>\n",
       "</table>\n",
       "</div>"
      ],
      "text/plain": [
       "         author                                              title  \\\n",
       "0   SonDontPlay                             \"Where is the router?\"   \n",
       "1     talbourne                            With users like this...   \n",
       "2       edhands                              Math...what a concept   \n",
       "3   12altoids34  I'll have you know I've been working on comput...   \n",
       "4  Gingrpenguin  We need you to tell us our current password. N...   \n",
       "\n",
       "                                            selftext             subreddit  \\\n",
       "0  A General Officer calls in for urgent tech sup...  talesfromtechsupport   \n",
       "1  I'll be staying at this company for a long tim...  talesfromtechsupport   \n",
       "2  Back in 2009, our company purchased a horribly...  talesfromtechsupport   \n",
       "3  Thats how the call started. \\n\\nThen she went ...  talesfromtechsupport   \n",
       "4  For backstory i worked for a small tech compan...  talesfromtechsupport   \n",
       "\n",
       "   score  created_utc  \n",
       "0   1183   1638946522  \n",
       "1   1634   1638904166  \n",
       "2    870   1629488107  \n",
       "3    935   1623803260  \n",
       "4    682   1623769022  "
      ]
     },
     "execution_count": 327,
     "metadata": {},
     "output_type": "execute_result"
    }
   ],
   "source": [
    "tech_support.head()"
   ]
  },
  {
   "cell_type": "code",
   "execution_count": 328,
   "id": "f2d94399",
   "metadata": {},
   "outputs": [
    {
     "data": {
      "text/plain": [
       "author         0\n",
       "title          0\n",
       "selftext       0\n",
       "subreddit      0\n",
       "score          0\n",
       "created_utc    0\n",
       "dtype: int64"
      ]
     },
     "execution_count": 328,
     "metadata": {},
     "output_type": "execute_result"
    }
   ],
   "source": [
    "tech_support.isnull().sum()"
   ]
  },
  {
   "cell_type": "code",
   "execution_count": 329,
   "id": "a37075d1",
   "metadata": {},
   "outputs": [
    {
     "data": {
      "text/plain": [
       "author         object\n",
       "title          object\n",
       "selftext       object\n",
       "subreddit      object\n",
       "score           int64\n",
       "created_utc     int64\n",
       "dtype: object"
      ]
     },
     "execution_count": 329,
     "metadata": {},
     "output_type": "execute_result"
    }
   ],
   "source": [
    "tech_support.dtypes"
   ]
  },
  {
   "cell_type": "code",
   "execution_count": 519,
   "id": "6dadd7be",
   "metadata": {},
   "outputs": [
    {
     "data": {
      "text/plain": [
       "True"
      ]
     },
     "execution_count": 519,
     "metadata": {},
     "output_type": "execute_result"
    }
   ],
   "source": [
    "# All entries are unique\n",
    "tech_support['selftext'].value_counts().sum() == tech_support.shape[0]"
   ]
  },
  {
   "cell_type": "code",
   "execution_count": 330,
   "id": "e0495004",
   "metadata": {},
   "outputs": [
    {
     "data": {
      "text/html": [
       "<div>\n",
       "<style scoped>\n",
       "    .dataframe tbody tr th:only-of-type {\n",
       "        vertical-align: middle;\n",
       "    }\n",
       "\n",
       "    .dataframe tbody tr th {\n",
       "        vertical-align: top;\n",
       "    }\n",
       "\n",
       "    .dataframe thead th {\n",
       "        text-align: right;\n",
       "    }\n",
       "</style>\n",
       "<table border=\"1\" class=\"dataframe\">\n",
       "  <thead>\n",
       "    <tr style=\"text-align: right;\">\n",
       "      <th></th>\n",
       "      <th>author</th>\n",
       "      <th>title</th>\n",
       "      <th>selftext</th>\n",
       "      <th>subreddit</th>\n",
       "      <th>score</th>\n",
       "      <th>created_utc</th>\n",
       "    </tr>\n",
       "  </thead>\n",
       "  <tbody>\n",
       "    <tr>\n",
       "      <th>0</th>\n",
       "      <td>MattyDGames</td>\n",
       "      <td>Your know card doesn’t work? Let’s grab all th...</td>\n",
       "      <td>Ok ok, today I had a customer come in with a c...</td>\n",
       "      <td>TalesFromRetail</td>\n",
       "      <td>854</td>\n",
       "      <td>1638923563</td>\n",
       "    </tr>\n",
       "    <tr>\n",
       "      <th>1</th>\n",
       "      <td>MissMissieFatCat</td>\n",
       "      <td>Woman proves herself wrong and storms out of s...</td>\n",
       "      <td>I work in a family owned pet food/supply store...</td>\n",
       "      <td>TalesFromRetail</td>\n",
       "      <td>756</td>\n",
       "      <td>1623770945</td>\n",
       "    </tr>\n",
       "    <tr>\n",
       "      <th>2</th>\n",
       "      <td>Knever</td>\n",
       "      <td>Coworkers try to steal $200 worth of groceries...</td>\n",
       "      <td>I worked at a grocery store with a guy who, on...</td>\n",
       "      <td>TalesFromRetail</td>\n",
       "      <td>848</td>\n",
       "      <td>1623707257</td>\n",
       "    </tr>\n",
       "    <tr>\n",
       "      <th>3</th>\n",
       "      <td>Mr_jon3s</td>\n",
       "      <td>Moves parking cone gets mad that I yelled at h...</td>\n",
       "      <td>Having some work done on the parking lot so we...</td>\n",
       "      <td>TalesFromRetail</td>\n",
       "      <td>602</td>\n",
       "      <td>1623594705</td>\n",
       "    </tr>\n",
       "    <tr>\n",
       "      <th>4</th>\n",
       "      <td>pessimist_kitty</td>\n",
       "      <td>Getting real tired of people thinking we're ma...</td>\n",
       "      <td>This just happened this morning and I had to s...</td>\n",
       "      <td>TalesFromRetail</td>\n",
       "      <td>1227</td>\n",
       "      <td>1614891256</td>\n",
       "    </tr>\n",
       "  </tbody>\n",
       "</table>\n",
       "</div>"
      ],
      "text/plain": [
       "             author                                              title  \\\n",
       "0       MattyDGames  Your know card doesn’t work? Let’s grab all th...   \n",
       "1  MissMissieFatCat  Woman proves herself wrong and storms out of s...   \n",
       "2            Knever  Coworkers try to steal $200 worth of groceries...   \n",
       "3          Mr_jon3s  Moves parking cone gets mad that I yelled at h...   \n",
       "4   pessimist_kitty  Getting real tired of people thinking we're ma...   \n",
       "\n",
       "                                            selftext        subreddit  score  \\\n",
       "0  Ok ok, today I had a customer come in with a c...  TalesFromRetail    854   \n",
       "1  I work in a family owned pet food/supply store...  TalesFromRetail    756   \n",
       "2  I worked at a grocery store with a guy who, on...  TalesFromRetail    848   \n",
       "3  Having some work done on the parking lot so we...  TalesFromRetail    602   \n",
       "4  This just happened this morning and I had to s...  TalesFromRetail   1227   \n",
       "\n",
       "   created_utc  \n",
       "0   1638923563  \n",
       "1   1623770945  \n",
       "2   1623707257  \n",
       "3   1623594705  \n",
       "4   1614891256  "
      ]
     },
     "execution_count": 330,
     "metadata": {},
     "output_type": "execute_result"
    }
   ],
   "source": [
    "retail.head()"
   ]
  },
  {
   "cell_type": "code",
   "execution_count": 331,
   "id": "64accf87",
   "metadata": {},
   "outputs": [
    {
     "data": {
      "text/plain": [
       "author         0\n",
       "title          0\n",
       "selftext       0\n",
       "subreddit      0\n",
       "score          0\n",
       "created_utc    0\n",
       "dtype: int64"
      ]
     },
     "execution_count": 331,
     "metadata": {},
     "output_type": "execute_result"
    }
   ],
   "source": [
    "retail.isnull().sum()"
   ]
  },
  {
   "cell_type": "code",
   "execution_count": 332,
   "id": "b15f43cc",
   "metadata": {},
   "outputs": [
    {
     "data": {
      "text/plain": [
       "author         object\n",
       "title          object\n",
       "selftext       object\n",
       "subreddit      object\n",
       "score           int64\n",
       "created_utc     int64\n",
       "dtype: object"
      ]
     },
     "execution_count": 332,
     "metadata": {},
     "output_type": "execute_result"
    }
   ],
   "source": [
    "retail.dtypes"
   ]
  },
  {
   "cell_type": "code",
   "execution_count": 518,
   "id": "137b34e7",
   "metadata": {},
   "outputs": [
    {
     "data": {
      "text/plain": [
       "True"
      ]
     },
     "execution_count": 518,
     "metadata": {},
     "output_type": "execute_result"
    }
   ],
   "source": [
    "# All entries are unique\n",
    "retail['selftext'].value_counts().sum() == retail.shape[0]"
   ]
  },
  {
   "cell_type": "code",
   "execution_count": 333,
   "id": "57908e6d",
   "metadata": {},
   "outputs": [
    {
     "data": {
      "text/plain": [
       "(2146, 6)"
      ]
     },
     "execution_count": 333,
     "metadata": {},
     "output_type": "execute_result"
    }
   ],
   "source": [
    "df = tech_support.append(retail, ignore_index=True)\n",
    "df.shape"
   ]
  },
  {
   "cell_type": "markdown",
   "id": "dedbe32d",
   "metadata": {},
   "source": [
    "### Select Positive Class\n",
    "\n",
    "TalesFromTechSupport will be my positive class for these models"
   ]
  },
  {
   "cell_type": "code",
   "execution_count": 334,
   "id": "28aed63f",
   "metadata": {},
   "outputs": [
    {
     "data": {
      "text/html": [
       "<div>\n",
       "<style scoped>\n",
       "    .dataframe tbody tr th:only-of-type {\n",
       "        vertical-align: middle;\n",
       "    }\n",
       "\n",
       "    .dataframe tbody tr th {\n",
       "        vertical-align: top;\n",
       "    }\n",
       "\n",
       "    .dataframe thead th {\n",
       "        text-align: right;\n",
       "    }\n",
       "</style>\n",
       "<table border=\"1\" class=\"dataframe\">\n",
       "  <thead>\n",
       "    <tr style=\"text-align: right;\">\n",
       "      <th></th>\n",
       "      <th>author</th>\n",
       "      <th>title</th>\n",
       "      <th>selftext</th>\n",
       "      <th>subreddit</th>\n",
       "      <th>score</th>\n",
       "      <th>created_utc</th>\n",
       "    </tr>\n",
       "  </thead>\n",
       "  <tbody>\n",
       "    <tr>\n",
       "      <th>0</th>\n",
       "      <td>SonDontPlay</td>\n",
       "      <td>\"Where is the router?\"</td>\n",
       "      <td>A General Officer calls in for urgent tech sup...</td>\n",
       "      <td>1</td>\n",
       "      <td>1183</td>\n",
       "      <td>1638946522</td>\n",
       "    </tr>\n",
       "    <tr>\n",
       "      <th>1</th>\n",
       "      <td>talbourne</td>\n",
       "      <td>With users like this...</td>\n",
       "      <td>I'll be staying at this company for a long tim...</td>\n",
       "      <td>1</td>\n",
       "      <td>1634</td>\n",
       "      <td>1638904166</td>\n",
       "    </tr>\n",
       "    <tr>\n",
       "      <th>2</th>\n",
       "      <td>edhands</td>\n",
       "      <td>Math...what a concept</td>\n",
       "      <td>Back in 2009, our company purchased a horribly...</td>\n",
       "      <td>1</td>\n",
       "      <td>870</td>\n",
       "      <td>1629488107</td>\n",
       "    </tr>\n",
       "    <tr>\n",
       "      <th>3</th>\n",
       "      <td>12altoids34</td>\n",
       "      <td>I'll have you know I've been working on comput...</td>\n",
       "      <td>Thats how the call started. \\n\\nThen she went ...</td>\n",
       "      <td>1</td>\n",
       "      <td>935</td>\n",
       "      <td>1623803260</td>\n",
       "    </tr>\n",
       "    <tr>\n",
       "      <th>4</th>\n",
       "      <td>Gingrpenguin</td>\n",
       "      <td>We need you to tell us our current password. N...</td>\n",
       "      <td>For backstory i worked for a small tech compan...</td>\n",
       "      <td>1</td>\n",
       "      <td>682</td>\n",
       "      <td>1623769022</td>\n",
       "    </tr>\n",
       "  </tbody>\n",
       "</table>\n",
       "</div>"
      ],
      "text/plain": [
       "         author                                              title  \\\n",
       "0   SonDontPlay                             \"Where is the router?\"   \n",
       "1     talbourne                            With users like this...   \n",
       "2       edhands                              Math...what a concept   \n",
       "3   12altoids34  I'll have you know I've been working on comput...   \n",
       "4  Gingrpenguin  We need you to tell us our current password. N...   \n",
       "\n",
       "                                            selftext  subreddit  score  \\\n",
       "0  A General Officer calls in for urgent tech sup...          1   1183   \n",
       "1  I'll be staying at this company for a long tim...          1   1634   \n",
       "2  Back in 2009, our company purchased a horribly...          1    870   \n",
       "3  Thats how the call started. \\n\\nThen she went ...          1    935   \n",
       "4  For backstory i worked for a small tech compan...          1    682   \n",
       "\n",
       "   created_utc  \n",
       "0   1638946522  \n",
       "1   1638904166  \n",
       "2   1629488107  \n",
       "3   1623803260  \n",
       "4   1623769022  "
      ]
     },
     "execution_count": 334,
     "metadata": {},
     "output_type": "execute_result"
    }
   ],
   "source": [
    "df['subreddit'] = df['subreddit'].replace({'TalesFromRetail': 0, 'talesfromtechsupport': 1})\n",
    "df.head()"
   ]
  },
  {
   "cell_type": "code",
   "execution_count": 335,
   "id": "8475403c",
   "metadata": {},
   "outputs": [
    {
     "data": {
      "text/plain": [
       "0    0.503262\n",
       "1    0.496738\n",
       "Name: subreddit, dtype: float64"
      ]
     },
     "execution_count": 335,
     "metadata": {},
     "output_type": "execute_result"
    }
   ],
   "source": [
    "df['subreddit'].value_counts(normalize=True)"
   ]
  },
  {
   "cell_type": "markdown",
   "id": "d41257bb",
   "metadata": {},
   "source": [
    "Nice even split of data, providing good grounds for evaluation of the models."
   ]
  },
  {
   "cell_type": "markdown",
   "id": "96e142cf",
   "metadata": {},
   "source": [
    "### Clean Text Data"
   ]
  },
  {
   "cell_type": "code",
   "execution_count": 336,
   "id": "eed5f933",
   "metadata": {},
   "outputs": [],
   "source": [
    "# From Breakfast Hour lecture https://git.generalassemb.ly/DSIR-0124/Breakfast-Hour/blob/master/06-week/MON%20-%20S%20-%20NLP%20Practice.ipynb\n",
    "\n",
    "def remove_html(content):\n",
    "    '''function to remove html and lowercase all text'''\n",
    "    \n",
    "    no_html = BeautifulSoup(content).text\n",
    "    # removes html\n",
    "    \n",
    "    lower_case = no_html.lower()\n",
    "    # lowercase all text\n",
    "    \n",
    "    return lower_case"
   ]
  },
  {
   "cell_type": "code",
   "execution_count": 337,
   "id": "705ca60e",
   "metadata": {},
   "outputs": [
    {
     "data": {
      "text/html": [
       "<div>\n",
       "<style scoped>\n",
       "    .dataframe tbody tr th:only-of-type {\n",
       "        vertical-align: middle;\n",
       "    }\n",
       "\n",
       "    .dataframe tbody tr th {\n",
       "        vertical-align: top;\n",
       "    }\n",
       "\n",
       "    .dataframe thead th {\n",
       "        text-align: right;\n",
       "    }\n",
       "</style>\n",
       "<table border=\"1\" class=\"dataframe\">\n",
       "  <thead>\n",
       "    <tr style=\"text-align: right;\">\n",
       "      <th></th>\n",
       "      <th>author</th>\n",
       "      <th>title</th>\n",
       "      <th>selftext</th>\n",
       "      <th>subreddit</th>\n",
       "      <th>score</th>\n",
       "      <th>created_utc</th>\n",
       "      <th>clean_title</th>\n",
       "      <th>clean_selftext</th>\n",
       "    </tr>\n",
       "  </thead>\n",
       "  <tbody>\n",
       "    <tr>\n",
       "      <th>0</th>\n",
       "      <td>SonDontPlay</td>\n",
       "      <td>\"Where is the router?\"</td>\n",
       "      <td>A General Officer calls in for urgent tech sup...</td>\n",
       "      <td>1</td>\n",
       "      <td>1183</td>\n",
       "      <td>1638946522</td>\n",
       "      <td>\"where is the router?\"</td>\n",
       "      <td>a general officer calls in for urgent tech sup...</td>\n",
       "    </tr>\n",
       "    <tr>\n",
       "      <th>1</th>\n",
       "      <td>talbourne</td>\n",
       "      <td>With users like this...</td>\n",
       "      <td>I'll be staying at this company for a long tim...</td>\n",
       "      <td>1</td>\n",
       "      <td>1634</td>\n",
       "      <td>1638904166</td>\n",
       "      <td>with users like this...</td>\n",
       "      <td>i'll be staying at this company for a long tim...</td>\n",
       "    </tr>\n",
       "    <tr>\n",
       "      <th>2</th>\n",
       "      <td>edhands</td>\n",
       "      <td>Math...what a concept</td>\n",
       "      <td>Back in 2009, our company purchased a horribly...</td>\n",
       "      <td>1</td>\n",
       "      <td>870</td>\n",
       "      <td>1629488107</td>\n",
       "      <td>math...what a concept</td>\n",
       "      <td>back in 2009, our company purchased a horribly...</td>\n",
       "    </tr>\n",
       "    <tr>\n",
       "      <th>3</th>\n",
       "      <td>12altoids34</td>\n",
       "      <td>I'll have you know I've been working on comput...</td>\n",
       "      <td>Thats how the call started. \\n\\nThen she went ...</td>\n",
       "      <td>1</td>\n",
       "      <td>935</td>\n",
       "      <td>1623803260</td>\n",
       "      <td>i'll have you know i've been working on comput...</td>\n",
       "      <td>thats how the call started. \\n\\nthen she went ...</td>\n",
       "    </tr>\n",
       "    <tr>\n",
       "      <th>4</th>\n",
       "      <td>Gingrpenguin</td>\n",
       "      <td>We need you to tell us our current password. N...</td>\n",
       "      <td>For backstory i worked for a small tech compan...</td>\n",
       "      <td>1</td>\n",
       "      <td>682</td>\n",
       "      <td>1623769022</td>\n",
       "      <td>we need you to tell us our current password. n...</td>\n",
       "      <td>for backstory i worked for a small tech compan...</td>\n",
       "    </tr>\n",
       "  </tbody>\n",
       "</table>\n",
       "</div>"
      ],
      "text/plain": [
       "         author                                              title  \\\n",
       "0   SonDontPlay                             \"Where is the router?\"   \n",
       "1     talbourne                            With users like this...   \n",
       "2       edhands                              Math...what a concept   \n",
       "3   12altoids34  I'll have you know I've been working on comput...   \n",
       "4  Gingrpenguin  We need you to tell us our current password. N...   \n",
       "\n",
       "                                            selftext  subreddit  score  \\\n",
       "0  A General Officer calls in for urgent tech sup...          1   1183   \n",
       "1  I'll be staying at this company for a long tim...          1   1634   \n",
       "2  Back in 2009, our company purchased a horribly...          1    870   \n",
       "3  Thats how the call started. \\n\\nThen she went ...          1    935   \n",
       "4  For backstory i worked for a small tech compan...          1    682   \n",
       "\n",
       "   created_utc                                        clean_title  \\\n",
       "0   1638946522                             \"where is the router?\"   \n",
       "1   1638904166                            with users like this...   \n",
       "2   1629488107                              math...what a concept   \n",
       "3   1623803260  i'll have you know i've been working on comput...   \n",
       "4   1623769022  we need you to tell us our current password. n...   \n",
       "\n",
       "                                      clean_selftext  \n",
       "0  a general officer calls in for urgent tech sup...  \n",
       "1  i'll be staying at this company for a long tim...  \n",
       "2  back in 2009, our company purchased a horribly...  \n",
       "3  thats how the call started. \\n\\nthen she went ...  \n",
       "4  for backstory i worked for a small tech compan...  "
      ]
     },
     "execution_count": 337,
     "metadata": {},
     "output_type": "execute_result"
    }
   ],
   "source": [
    "df['clean_title'] = df['title'].apply(remove_html)\n",
    "df['clean_selftext'] = df['selftext'].apply(remove_html)\n",
    "df.head()"
   ]
  },
  {
   "cell_type": "markdown",
   "id": "d8dc0d81",
   "metadata": {},
   "source": [
    "### Separate Train and Test Data"
   ]
  },
  {
   "cell_type": "code",
   "execution_count": 338,
   "id": "2d484297",
   "metadata": {},
   "outputs": [],
   "source": [
    "X_t = df['clean_title']\n",
    "X_st = df['clean_selftext']\n",
    "y = df['subreddit']"
   ]
  },
  {
   "cell_type": "code",
   "execution_count": 339,
   "id": "03d5de71",
   "metadata": {},
   "outputs": [],
   "source": [
    "X_train_t, X_test_t, y_train, y_test = train_test_split(X_t, y, random_state=42, stratify=y)\n",
    "# match up \n",
    "X_train_st = X_st[X_train_t.index]\n",
    "X_test_st = X_st[X_test_t.index]"
   ]
  },
  {
   "cell_type": "code",
   "execution_count": 340,
   "id": "bba3bab5",
   "metadata": {},
   "outputs": [
    {
     "data": {
      "text/plain": [
       "array([ True,  True,  True, ...,  True,  True,  True])"
      ]
     },
     "execution_count": 340,
     "metadata": {},
     "output_type": "execute_result"
    }
   ],
   "source": [
    "X_train_st.index == X_train_t.index"
   ]
  },
  {
   "cell_type": "markdown",
   "id": "e88f1e3a",
   "metadata": {},
   "source": [
    "### Preliminary Model"
   ]
  },
  {
   "cell_type": "code",
   "execution_count": 341,
   "id": "735258a0",
   "metadata": {},
   "outputs": [],
   "source": [
    "pipe = Pipeline([\n",
    "    ('cvec', CountVectorizer()),\n",
    "    ('logreg', LogisticRegression(max_iter=1000))\n",
    "])"
   ]
  },
  {
   "cell_type": "code",
   "execution_count": 342,
   "id": "c04c2d99",
   "metadata": {},
   "outputs": [
    {
     "data": {
      "text/plain": [
       "Pipeline(steps=[('cvec', CountVectorizer()),\n",
       "                ('logreg', LogisticRegression(max_iter=1000))])"
      ]
     },
     "execution_count": 342,
     "metadata": {},
     "output_type": "execute_result"
    }
   ],
   "source": [
    "# start with a model using the title and default parameters\n",
    "\n",
    "pipe.fit(X_train_t, y_train)"
   ]
  },
  {
   "cell_type": "code",
   "execution_count": 343,
   "id": "fcdfa0a0",
   "metadata": {},
   "outputs": [
    {
     "name": "stdout",
     "output_type": "stream",
     "text": [
      "Train Score: 0.9627097576134245\n",
      "Test Score: 0.7001862197392924\n",
      "Cross-Val Score: 0.7377063137323194\n"
     ]
    }
   ],
   "source": [
    "print('Train Score:', pipe.score(X_train_t, y_train))\n",
    "print('Test Score:', pipe.score(X_test_t, y_test))\n",
    "print('Cross-Val Score:', cross_val_score(pipe, X_train_t, y_train).mean())"
   ]
  },
  {
   "cell_type": "code",
   "execution_count": 344,
   "id": "85ff3c46",
   "metadata": {},
   "outputs": [],
   "source": [
    "cross_val = cross_val_score(pipe, X_train_t, y_train)"
   ]
  },
  {
   "cell_type": "code",
   "execution_count": 345,
   "id": "b986e518",
   "metadata": {},
   "outputs": [
    {
     "data": {
      "text/plain": [
       "0.061078663631193034"
      ]
     },
     "execution_count": 345,
     "metadata": {},
     "output_type": "execute_result"
    }
   ],
   "source": [
    "cross_val.std()*3"
   ]
  },
  {
   "cell_type": "markdown",
   "id": "a89ba520",
   "metadata": {},
   "source": [
    "Very high variance seen in the model, with training data accurately predicting the subreddit 96% of the time with training data, but only 74% of the time with unseen data."
   ]
  },
  {
   "cell_type": "code",
   "execution_count": 346,
   "id": "d6d54943",
   "metadata": {},
   "outputs": [
    {
     "data": {
      "text/plain": [
       "Pipeline(steps=[('cvec', CountVectorizer()),\n",
       "                ('logreg', LogisticRegression(max_iter=1000))])"
      ]
     },
     "execution_count": 346,
     "metadata": {},
     "output_type": "execute_result"
    }
   ],
   "source": [
    "# let's see how selftext does\n",
    "\n",
    "pipe.fit(X_train_st, y_train)"
   ]
  },
  {
   "cell_type": "code",
   "execution_count": 347,
   "id": "a6bc0955",
   "metadata": {},
   "outputs": [
    {
     "name": "stdout",
     "output_type": "stream",
     "text": [
      "Train Score: 1.0\n",
      "Test Score: 0.9553072625698324\n",
      "Cross-Val Score: 0.9589887966564115\n"
     ]
    }
   ],
   "source": [
    "print('Train Score:', pipe.score(X_train_st, y_train))\n",
    "print('Test Score:', pipe.score(X_test_st, y_test))\n",
    "cross_val = cross_val_score(pipe, X_train_st, y_train)\n",
    "print('Cross-Val Score:', cross_val.mean())"
   ]
  },
  {
   "cell_type": "code",
   "execution_count": 348,
   "id": "f775f727",
   "metadata": {},
   "outputs": [
    {
     "name": "stdout",
     "output_type": "stream",
     "text": [
      "Cross-Val Standard Deviation: 0.0136\n",
      "Accuracy range between: 0.92 and 1.00\n"
     ]
    }
   ],
   "source": [
    "sig_3 = cross_val.std()*3\n",
    "print('Cross-Val Standard Deviation:', '{:.4f}'.format(cross_val.std()))\n",
    "print('Accuracy range between:', '{:.2f}'.format(cross_val.mean() - sig_3), 'and', '{:.2f}'.format(cross_val.mean() + sig_3))"
   ]
  },
  {
   "cell_type": "markdown",
   "id": "dcb2cece",
   "metadata": {},
   "source": [
    "Wow, much better. As expected, the volume of the text has a significant affect on performance. Still a bit of variance, but already the model is doing an excellent job predicting unseen data with 96% accuracy. We are overfitting a bit it seems, with 99% accuracy on the training data, so we may be able to squeeze some performance by stripping out some of the features (maybe with LASSO)."
   ]
  },
  {
   "cell_type": "code",
   "execution_count": 349,
   "id": "3b1f27f6",
   "metadata": {},
   "outputs": [
    {
     "data": {
      "text/plain": [
       "<sklearn.metrics._plot.confusion_matrix.ConfusionMatrixDisplay at 0x2ba9f047f88>"
      ]
     },
     "execution_count": 349,
     "metadata": {},
     "output_type": "execute_result"
    },
    {
     "data": {
      "image/png": "[encoded data removed]",
      "text/plain": [
       "<Figure size 432x288 with 2 Axes>"
      ]
     },
     "metadata": {
      "needs_background": "light"
     },
     "output_type": "display_data"
    }
   ],
   "source": [
    "# Plot Confusion Matrix\n",
    "ConfusionMatrixDisplay.from_estimator(pipe, X_test_st, y_test, cmap='hot', display_labels=('Not From Subreddit', 'From Subreddit'))"
   ]
  },
  {
   "cell_type": "code",
   "execution_count": 350,
   "id": "d3a56517",
   "metadata": {},
   "outputs": [],
   "source": [
    "pred = pipe.predict(X_test_st)"
   ]
  },
  {
   "cell_type": "code",
   "execution_count": 351,
   "id": "a5b1b00f",
   "metadata": {},
   "outputs": [
    {
     "name": "stdout",
     "output_type": "stream",
     "text": [
      "              precision    recall  f1-score   support\n",
      "\n",
      "           0       0.94      0.97      0.96       270\n",
      "           1       0.97      0.94      0.95       267\n",
      "\n",
      "    accuracy                           0.96       537\n",
      "   macro avg       0.96      0.96      0.96       537\n",
      "weighted avg       0.96      0.96      0.96       537\n",
      "\n"
     ]
    }
   ],
   "source": [
    "print(classification_report(y_test, pred))"
   ]
  },
  {
   "cell_type": "markdown",
   "id": "859c4b2b",
   "metadata": {},
   "source": [
    "This basic logistic regression model outperforms the baseline (50% accuracy when guessing all posts are not from the target subreddit) with 96% accuracy, and is relatively balanced in its false positive/false negative rates with 97% specificity and 94% recall rates. We already have a solid model for predicting post origin based on these results. "
   ]
  },
  {
   "cell_type": "markdown",
   "id": "ea36e63a",
   "metadata": {},
   "source": [
    "### Tune Model"
   ]
  },
  {
   "cell_type": "markdown",
   "id": "67e145e7",
   "metadata": {},
   "source": [
    "I'm going to start by taking a look at what the model's top features based on coefficient magnitude"
   ]
  },
  {
   "cell_type": "code",
   "execution_count": 352,
   "id": "8303293f",
   "metadata": {},
   "outputs": [
    {
     "data": {
      "text/plain": [
       "array([-4.56744547e-04, -2.78385233e-02, -1.35721690e-07, ...,\n",
       "       -4.30916383e-03, -1.52884924e-02, -4.30916383e-03])"
      ]
     },
     "execution_count": 352,
     "metadata": {},
     "output_type": "execute_result"
    }
   ],
   "source": [
    "# approach found at https://stackoverflow.com/questions/43856280/return-coefficients-from-pipeline-object-in-sklearn\n",
    "vectorizer = pipe.named_steps['cvec']\n",
    "classifier = pipe.named_steps['logreg']\n",
    "coefs_st = classifier.coef_[0]\n",
    "coefs_st"
   ]
  },
  {
   "cell_type": "code",
   "execution_count": 353,
   "id": "9cbb151f",
   "metadata": {},
   "outputs": [
    {
     "data": {
      "text/plain": [
       "(19678,)"
      ]
     },
     "execution_count": 353,
     "metadata": {},
     "output_type": "execute_result"
    }
   ],
   "source": [
    "coefs_st.shape"
   ]
  },
  {
   "cell_type": "code",
   "execution_count": 354,
   "id": "179b94ba",
   "metadata": {},
   "outputs": [
    {
     "data": {
      "text/plain": [
       "array(['00', '000', '0000', ..., 'ɽʉ', 'ಠ_ಠ', 'ⱨɏ'], dtype=object)"
      ]
     },
     "execution_count": 354,
     "metadata": {},
     "output_type": "execute_result"
    }
   ],
   "source": [
    "features_st = vectorizer.get_feature_names_out()\n",
    "features_st"
   ]
  },
  {
   "cell_type": "code",
   "execution_count": 355,
   "id": "0f150c36",
   "metadata": {},
   "outputs": [
    {
     "data": {
      "text/plain": [
       "(19678,)"
      ]
     },
     "execution_count": 355,
     "metadata": {},
     "output_type": "execute_result"
    }
   ],
   "source": [
    "features_st.shape"
   ]
  },
  {
   "cell_type": "code",
   "execution_count": 356,
   "id": "31a3b0c4",
   "metadata": {},
   "outputs": [],
   "source": [
    "feature_coefs = pd.Series(index=features_st, data=coefs_st)\n",
    "sorted_features = feature_coefs.sort_values(ascending=False)"
   ]
  },
  {
   "cell_type": "code",
   "execution_count": 357,
   "id": "a97433b9",
   "metadata": {},
   "outputs": [
    {
     "data": {
      "text/plain": [
       "support      0.875610\n",
       "tech         0.786294\n",
       "user         0.562323\n",
       "computer     0.548120\n",
       "email        0.464021\n",
       "problem      0.452407\n",
       "call         0.439518\n",
       "office       0.433339\n",
       "desk         0.428817\n",
       "new          0.413714\n",
       "data         0.388069\n",
       "calls        0.379711\n",
       "ticket       0.370938\n",
       "monitor      0.367675\n",
       "power        0.361246\n",
       "network      0.352143\n",
       "computers    0.350543\n",
       "work         0.345155\n",
       "button       0.338920\n",
       "client       0.332842\n",
       "dtype: float64"
      ]
     },
     "execution_count": 357,
     "metadata": {},
     "output_type": "execute_result"
    }
   ],
   "source": [
    "sorted_features.head(20)"
   ]
  },
  {
   "cell_type": "markdown",
   "id": "05b1607b",
   "metadata": {},
   "source": [
    "Notably, \"computer\" and \"computers\" both make it onto the list (which makes sense as a dead giveaway...) as separate items; I'd be interested in seeing how a stemmer impacts performance. And then the words \"tech\" and \"support\" being the top words is certainly no surprise. I hadn't originally considered that \"office\" would be strongly tied to tech support, but obviously retail business is not typically conducted in an office, so I feel a little silly for not having identified that for myself beforehand. "
   ]
  },
  {
   "cell_type": "code",
   "execution_count": 358,
   "id": "3b0f49b3",
   "metadata": {},
   "outputs": [
    {
     "data": {
      "text/plain": [
       "customers   -0.266079\n",
       "item        -0.268296\n",
       "price       -0.273337\n",
       "sir         -0.277150\n",
       "came        -0.280348\n",
       "want        -0.281857\n",
       "gift        -0.293282\n",
       "items       -0.305090\n",
       "return      -0.306008\n",
       "cashier     -0.336479\n",
       "have        -0.340081\n",
       "sale        -0.341846\n",
       "shop        -0.350077\n",
       "sorry       -0.359522\n",
       "register    -0.385279\n",
       "counter     -0.408464\n",
       "woman       -0.449794\n",
       "man         -0.453571\n",
       "retail      -0.495509\n",
       "store       -1.167985\n",
       "dtype: float64"
      ]
     },
     "execution_count": 358,
     "metadata": {},
     "output_type": "execute_result"
    }
   ],
   "source": [
    "sorted_features.tail(20)"
   ]
  },
  {
   "cell_type": "markdown",
   "id": "8553edb1",
   "metadata": {},
   "source": [
    "The words shown here point away from the target subreddit, and towards our opposing subreddit, \"TalesFromRetail\". It appears here as well that applying a stemmer could be useful, but otherwise most of the words seem to make sense. Some interesting standouts in \"have\" and \"want\" being in this list; curious to me that those would be used more frequently in retail relative to tech support."
   ]
  },
  {
   "cell_type": "code",
   "execution_count": 359,
   "id": "1df6b22e",
   "metadata": {},
   "outputs": [
    {
     "data": {
      "text/plain": [
       "{'memory': None,\n",
       " 'steps': [('cvec', CountVectorizer()),\n",
       "  ('logreg', LogisticRegression(max_iter=1000))],\n",
       " 'verbose': False,\n",
       " 'cvec': CountVectorizer(),\n",
       " 'logreg': LogisticRegression(max_iter=1000),\n",
       " 'cvec__analyzer': 'word',\n",
       " 'cvec__binary': False,\n",
       " 'cvec__decode_error': 'strict',\n",
       " 'cvec__dtype': numpy.int64,\n",
       " 'cvec__encoding': 'utf-8',\n",
       " 'cvec__input': 'content',\n",
       " 'cvec__lowercase': True,\n",
       " 'cvec__max_df': 1.0,\n",
       " 'cvec__max_features': None,\n",
       " 'cvec__min_df': 1,\n",
       " 'cvec__ngram_range': (1, 1),\n",
       " 'cvec__preprocessor': None,\n",
       " 'cvec__stop_words': None,\n",
       " 'cvec__strip_accents': None,\n",
       " 'cvec__token_pattern': '(?u)\\\\b\\\\w\\\\w+\\\\b',\n",
       " 'cvec__tokenizer': None,\n",
       " 'cvec__vocabulary': None,\n",
       " 'logreg__C': 1.0,\n",
       " 'logreg__class_weight': None,\n",
       " 'logreg__dual': False,\n",
       " 'logreg__fit_intercept': True,\n",
       " 'logreg__intercept_scaling': 1,\n",
       " 'logreg__l1_ratio': None,\n",
       " 'logreg__max_iter': 1000,\n",
       " 'logreg__multi_class': 'auto',\n",
       " 'logreg__n_jobs': None,\n",
       " 'logreg__penalty': 'l2',\n",
       " 'logreg__random_state': None,\n",
       " 'logreg__solver': 'lbfgs',\n",
       " 'logreg__tol': 0.0001,\n",
       " 'logreg__verbose': 0,\n",
       " 'logreg__warm_start': False}"
      ]
     },
     "execution_count": 359,
     "metadata": {},
     "output_type": "execute_result"
    }
   ],
   "source": [
    "pipe.get_params()"
   ]
  },
  {
   "cell_type": "markdown",
   "id": "2d61b4f3",
   "metadata": {},
   "source": [
    "Okay, let's see how cutting down the number of words using a stemmer and dropping stop words in the vectorizer, and using LASSO with the logistic regression, affects things. "
   ]
  },
  {
   "cell_type": "code",
   "execution_count": 360,
   "id": "7aa873fe",
   "metadata": {},
   "outputs": [],
   "source": [
    "# approach from https://git.generalassemb.ly/DSIR-0124/Breakfast-Hour/blob/master/06-week/MON%20-%20S%20-%20NLP%20Practice.ipynb\n",
    "\n",
    "def stem_content(content):\n",
    "    p_stemmer = PorterStemmer()\n",
    "    split_content = content.split(' ')\n",
    "    return [p_stemmer.stem(word) for word in split_content]"
   ]
  },
  {
   "cell_type": "code",
   "execution_count": 361,
   "id": "b3101dc2",
   "metadata": {},
   "outputs": [
    {
     "name": "stderr",
     "output_type": "stream",
     "text": [
      "C:\\Users\\musou\\Anaconda3\\lib\\site-packages\\sklearn\\feature_extraction\\text.py:401: UserWarning: Your stop_words may be inconsistent with your preprocessing. Tokenizing the stop words generated tokens ['abov', 'afterward', 'alon', 'alreadi', 'alway', 'ani', 'anoth', 'anyon', 'anyth', 'anywher', 'becam', 'becaus', 'becom', 'befor', 'besid', 'cri', 'describ', 'dure', 'els', 'elsewher', 'empti', 'everi', 'everyon', 'everyth', 'everywher', 'fifti', 'formerli', 'forti', 'ha', 'henc', 'hereaft', 'herebi', 'hi', 'howev', 'hundr', 'inde', 'latterli', 'mani', 'meanwhil', 'moreov', 'mostli', 'nobodi', 'noon', 'noth', 'nowher', 'onc', 'onli', 'otherwis', 'ourselv', 'perhap', 'pleas', 'seriou', 'sever', 'sinc', 'sincer', 'sixti', 'someon', 'someth', 'sometim', 'somewher', 'themselv', 'thenc', 'thereaft', 'therebi', 'therefor', 'thi', 'thu', 'togeth', 'twelv', 'twenti', 'veri', 'wa', 'whatev', 'whenc', 'whenev', 'wherea', 'whereaft', 'wherebi', 'wherev', 'whi', 'yourselv'] not in stop_words.\n",
      "  % sorted(inconsistent)\n",
      "C:\\Users\\musou\\Anaconda3\\lib\\site-packages\\sklearn\\feature_extraction\\text.py:401: UserWarning: Your stop_words may be inconsistent with your preprocessing. Tokenizing the stop words generated tokens ['abov', 'afterward', 'alon', 'alreadi', 'alway', 'ani', 'anoth', 'anyon', 'anyth', 'anywher', 'becam', 'becaus', 'becom', 'befor', 'besid', 'cri', 'describ', 'dure', 'els', 'elsewher', 'empti', 'everi', 'everyon', 'everyth', 'everywher', 'fifti', 'formerli', 'forti', 'ha', 'henc', 'hereaft', 'herebi', 'hi', 'howev', 'hundr', 'inde', 'latterli', 'mani', 'meanwhil', 'moreov', 'mostli', 'nobodi', 'noon', 'noth', 'nowher', 'onc', 'onli', 'otherwis', 'ourselv', 'perhap', 'pleas', 'seriou', 'sever', 'sinc', 'sincer', 'sixti', 'someon', 'someth', 'sometim', 'somewher', 'themselv', 'thenc', 'thereaft', 'therebi', 'therefor', 'thi', 'thu', 'togeth', 'twelv', 'twenti', 'veri', 'wa', 'whatev', 'whenc', 'whenev', 'wherea', 'whereaft', 'wherebi', 'wherev', 'whi', 'yourselv'] not in stop_words.\n",
      "  % sorted(inconsistent)\n",
      "C:\\Users\\musou\\Anaconda3\\lib\\site-packages\\sklearn\\feature_extraction\\text.py:401: UserWarning: Your stop_words may be inconsistent with your preprocessing. Tokenizing the stop words generated tokens ['abov', 'afterward', 'alon', 'alreadi', 'alway', 'ani', 'anoth', 'anyon', 'anyth', 'anywher', 'becam', 'becaus', 'becom', 'befor', 'besid', 'cri', 'describ', 'dure', 'els', 'elsewher', 'empti', 'everi', 'everyon', 'everyth', 'everywher', 'fifti', 'formerli', 'forti', 'ha', 'henc', 'hereaft', 'herebi', 'hi', 'howev', 'hundr', 'inde', 'latterli', 'mani', 'meanwhil', 'moreov', 'mostli', 'nobodi', 'noon', 'noth', 'nowher', 'onc', 'onli', 'otherwis', 'ourselv', 'perhap', 'pleas', 'seriou', 'sever', 'sinc', 'sincer', 'sixti', 'someon', 'someth', 'sometim', 'somewher', 'themselv', 'thenc', 'thereaft', 'therebi', 'therefor', 'thi', 'thu', 'togeth', 'twelv', 'twenti', 'veri', 'wa', 'whatev', 'whenc', 'whenev', 'wherea', 'whereaft', 'wherebi', 'wherev', 'whi', 'yourselv'] not in stop_words.\n",
      "  % sorted(inconsistent)\n",
      "C:\\Users\\musou\\Anaconda3\\lib\\site-packages\\sklearn\\feature_extraction\\text.py:401: UserWarning: Your stop_words may be inconsistent with your preprocessing. Tokenizing the stop words generated tokens ['abov', 'afterward', 'alon', 'alreadi', 'alway', 'ani', 'anoth', 'anyon', 'anyth', 'anywher', 'becam', 'becaus', 'becom', 'befor', 'besid', 'cri', 'describ', 'dure', 'els', 'elsewher', 'empti', 'everi', 'everyon', 'everyth', 'everywher', 'fifti', 'formerli', 'forti', 'ha', 'henc', 'hereaft', 'herebi', 'hi', 'howev', 'hundr', 'inde', 'latterli', 'mani', 'meanwhil', 'moreov', 'mostli', 'nobodi', 'noon', 'noth', 'nowher', 'onc', 'onli', 'otherwis', 'ourselv', 'perhap', 'pleas', 'seriou', 'sever', 'sinc', 'sincer', 'sixti', 'someon', 'someth', 'sometim', 'somewher', 'themselv', 'thenc', 'thereaft', 'therebi', 'therefor', 'thi', 'thu', 'togeth', 'twelv', 'twenti', 'veri', 'wa', 'whatev', 'whenc', 'whenev', 'wherea', 'whereaft', 'wherebi', 'wherev', 'whi', 'yourselv'] not in stop_words.\n",
      "  % sorted(inconsistent)\n",
      "C:\\Users\\musou\\Anaconda3\\lib\\site-packages\\sklearn\\feature_extraction\\text.py:401: UserWarning: Your stop_words may be inconsistent with your preprocessing. Tokenizing the stop words generated tokens ['abov', 'afterward', 'alon', 'alreadi', 'alway', 'ani', 'anoth', 'anyon', 'anyth', 'anywher', 'becam', 'becaus', 'becom', 'befor', 'besid', 'cri', 'describ', 'dure', 'els', 'elsewher', 'empti', 'everi', 'everyon', 'everyth', 'everywher', 'fifti', 'formerli', 'forti', 'ha', 'henc', 'hereaft', 'herebi', 'hi', 'howev', 'hundr', 'inde', 'latterli', 'mani', 'meanwhil', 'moreov', 'mostli', 'nobodi', 'noon', 'noth', 'nowher', 'onc', 'onli', 'otherwis', 'ourselv', 'perhap', 'pleas', 'seriou', 'sever', 'sinc', 'sincer', 'sixti', 'someon', 'someth', 'sometim', 'somewher', 'themselv', 'thenc', 'thereaft', 'therebi', 'therefor', 'thi', 'thu', 'togeth', 'twelv', 'twenti', 'veri', 'wa', 'whatev', 'whenc', 'whenev', 'wherea', 'whereaft', 'wherebi', 'wherev', 'whi', 'yourselv'] not in stop_words.\n",
      "  % sorted(inconsistent)\n",
      "C:\\Users\\musou\\Anaconda3\\lib\\site-packages\\sklearn\\feature_extraction\\text.py:401: UserWarning: Your stop_words may be inconsistent with your preprocessing. Tokenizing the stop words generated tokens ['abov', 'afterward', 'alon', 'alreadi', 'alway', 'ani', 'anoth', 'anyon', 'anyth', 'anywher', 'becam', 'becaus', 'becom', 'befor', 'besid', 'cri', 'describ', 'dure', 'els', 'elsewher', 'empti', 'everi', 'everyon', 'everyth', 'everywher', 'fifti', 'formerli', 'forti', 'ha', 'henc', 'hereaft', 'herebi', 'hi', 'howev', 'hundr', 'inde', 'latterli', 'mani', 'meanwhil', 'moreov', 'mostli', 'nobodi', 'noon', 'noth', 'nowher', 'onc', 'onli', 'otherwis', 'ourselv', 'perhap', 'pleas', 'seriou', 'sever', 'sinc', 'sincer', 'sixti', 'someon', 'someth', 'sometim', 'somewher', 'themselv', 'thenc', 'thereaft', 'therebi', 'therefor', 'thi', 'thu', 'togeth', 'twelv', 'twenti', 'veri', 'wa', 'whatev', 'whenc', 'whenev', 'wherea', 'whereaft', 'wherebi', 'wherev', 'whi', 'yourselv'] not in stop_words.\n",
      "  % sorted(inconsistent)\n",
      "C:\\Users\\musou\\Anaconda3\\lib\\site-packages\\sklearn\\feature_extraction\\text.py:401: UserWarning: Your stop_words may be inconsistent with your preprocessing. Tokenizing the stop words generated tokens ['abov', 'afterward', 'alon', 'alreadi', 'alway', 'ani', 'anoth', 'anyon', 'anyth', 'anywher', 'becam', 'becaus', 'becom', 'befor', 'besid', 'cri', 'describ', 'dure', 'els', 'elsewher', 'empti', 'everi', 'everyon', 'everyth', 'everywher', 'fifti', 'formerli', 'forti', 'ha', 'henc', 'hereaft', 'herebi', 'hi', 'howev', 'hundr', 'inde', 'latterli', 'mani', 'meanwhil', 'moreov', 'mostli', 'nobodi', 'noon', 'noth', 'nowher', 'onc', 'onli', 'otherwis', 'ourselv', 'perhap', 'pleas', 'seriou', 'sever', 'sinc', 'sincer', 'sixti', 'someon', 'someth', 'sometim', 'somewher', 'themselv', 'thenc', 'thereaft', 'therebi', 'therefor', 'thi', 'thu', 'togeth', 'twelv', 'twenti', 'veri', 'wa', 'whatev', 'whenc', 'whenev', 'wherea', 'whereaft', 'wherebi', 'wherev', 'whi', 'yourselv'] not in stop_words.\n",
      "  % sorted(inconsistent)\n",
      "C:\\Users\\musou\\Anaconda3\\lib\\site-packages\\sklearn\\feature_extraction\\text.py:401: UserWarning: Your stop_words may be inconsistent with your preprocessing. Tokenizing the stop words generated tokens ['abov', 'afterward', 'alon', 'alreadi', 'alway', 'ani', 'anoth', 'anyon', 'anyth', 'anywher', 'becam', 'becaus', 'becom', 'befor', 'besid', 'cri', 'describ', 'dure', 'els', 'elsewher', 'empti', 'everi', 'everyon', 'everyth', 'everywher', 'fifti', 'formerli', 'forti', 'ha', 'henc', 'hereaft', 'herebi', 'hi', 'howev', 'hundr', 'inde', 'latterli', 'mani', 'meanwhil', 'moreov', 'mostli', 'nobodi', 'noon', 'noth', 'nowher', 'onc', 'onli', 'otherwis', 'ourselv', 'perhap', 'pleas', 'seriou', 'sever', 'sinc', 'sincer', 'sixti', 'someon', 'someth', 'sometim', 'somewher', 'themselv', 'thenc', 'thereaft', 'therebi', 'therefor', 'thi', 'thu', 'togeth', 'twelv', 'twenti', 'veri', 'wa', 'whatev', 'whenc', 'whenev', 'wherea', 'whereaft', 'wherebi', 'wherev', 'whi', 'yourselv'] not in stop_words.\n",
      "  % sorted(inconsistent)\n",
      "C:\\Users\\musou\\Anaconda3\\lib\\site-packages\\sklearn\\feature_extraction\\text.py:401: UserWarning: Your stop_words may be inconsistent with your preprocessing. Tokenizing the stop words generated tokens ['abov', 'afterward', 'alon', 'alreadi', 'alway', 'ani', 'anoth', 'anyon', 'anyth', 'anywher', 'becam', 'becaus', 'becom', 'befor', 'besid', 'cri', 'describ', 'dure', 'els', 'elsewher', 'empti', 'everi', 'everyon', 'everyth', 'everywher', 'fifti', 'formerli', 'forti', 'ha', 'henc', 'hereaft', 'herebi', 'hi', 'howev', 'hundr', 'inde', 'latterli', 'mani', 'meanwhil', 'moreov', 'mostli', 'nobodi', 'noon', 'noth', 'nowher', 'onc', 'onli', 'otherwis', 'ourselv', 'perhap', 'pleas', 'seriou', 'sever', 'sinc', 'sincer', 'sixti', 'someon', 'someth', 'sometim', 'somewher', 'themselv', 'thenc', 'thereaft', 'therebi', 'therefor', 'thi', 'thu', 'togeth', 'twelv', 'twenti', 'veri', 'wa', 'whatev', 'whenc', 'whenev', 'wherea', 'whereaft', 'wherebi', 'wherev', 'whi', 'yourselv'] not in stop_words.\n",
      "  % sorted(inconsistent)\n"
     ]
    },
    {
     "name": "stderr",
     "output_type": "stream",
     "text": [
      "C:\\Users\\musou\\Anaconda3\\lib\\site-packages\\sklearn\\feature_extraction\\text.py:401: UserWarning: Your stop_words may be inconsistent with your preprocessing. Tokenizing the stop words generated tokens ['abov', 'afterward', 'alon', 'alreadi', 'alway', 'ani', 'anoth', 'anyon', 'anyth', 'anywher', 'becam', 'becaus', 'becom', 'befor', 'besid', 'cri', 'describ', 'dure', 'els', 'elsewher', 'empti', 'everi', 'everyon', 'everyth', 'everywher', 'fifti', 'formerli', 'forti', 'ha', 'henc', 'hereaft', 'herebi', 'hi', 'howev', 'hundr', 'inde', 'latterli', 'mani', 'meanwhil', 'moreov', 'mostli', 'nobodi', 'noon', 'noth', 'nowher', 'onc', 'onli', 'otherwis', 'ourselv', 'perhap', 'pleas', 'seriou', 'sever', 'sinc', 'sincer', 'sixti', 'someon', 'someth', 'sometim', 'somewher', 'themselv', 'thenc', 'thereaft', 'therebi', 'therefor', 'thi', 'thu', 'togeth', 'twelv', 'twenti', 'veri', 'wa', 'whatev', 'whenc', 'whenev', 'wherea', 'whereaft', 'wherebi', 'wherev', 'whi', 'yourselv'] not in stop_words.\n",
      "  % sorted(inconsistent)\n",
      "C:\\Users\\musou\\Anaconda3\\lib\\site-packages\\sklearn\\feature_extraction\\text.py:401: UserWarning: Your stop_words may be inconsistent with your preprocessing. Tokenizing the stop words generated tokens ['abov', 'afterward', 'alon', 'alreadi', 'alway', 'ani', 'anoth', 'anyon', 'anyth', 'anywher', 'becam', 'becaus', 'becom', 'befor', 'besid', 'cri', 'describ', 'dure', 'els', 'elsewher', 'empti', 'everi', 'everyon', 'everyth', 'everywher', 'fifti', 'formerli', 'forti', 'ha', 'henc', 'hereaft', 'herebi', 'hi', 'howev', 'hundr', 'inde', 'latterli', 'mani', 'meanwhil', 'moreov', 'mostli', 'nobodi', 'noon', 'noth', 'nowher', 'onc', 'onli', 'otherwis', 'ourselv', 'perhap', 'pleas', 'seriou', 'sever', 'sinc', 'sincer', 'sixti', 'someon', 'someth', 'sometim', 'somewher', 'themselv', 'thenc', 'thereaft', 'therebi', 'therefor', 'thi', 'thu', 'togeth', 'twelv', 'twenti', 'veri', 'wa', 'whatev', 'whenc', 'whenev', 'wherea', 'whereaft', 'wherebi', 'wherev', 'whi', 'yourselv'] not in stop_words.\n",
      "  % sorted(inconsistent)\n",
      "C:\\Users\\musou\\Anaconda3\\lib\\site-packages\\sklearn\\feature_extraction\\text.py:401: UserWarning: Your stop_words may be inconsistent with your preprocessing. Tokenizing the stop words generated tokens ['abov', 'afterward', 'alon', 'alreadi', 'alway', 'ani', 'anoth', 'anyon', 'anyth', 'anywher', 'becam', 'becaus', 'becom', 'befor', 'besid', 'cri', 'describ', 'dure', 'els', 'elsewher', 'empti', 'everi', 'everyon', 'everyth', 'everywher', 'fifti', 'formerli', 'forti', 'ha', 'henc', 'hereaft', 'herebi', 'hi', 'howev', 'hundr', 'inde', 'latterli', 'mani', 'meanwhil', 'moreov', 'mostli', 'nobodi', 'noon', 'noth', 'nowher', 'onc', 'onli', 'otherwis', 'ourselv', 'perhap', 'pleas', 'seriou', 'sever', 'sinc', 'sincer', 'sixti', 'someon', 'someth', 'sometim', 'somewher', 'themselv', 'thenc', 'thereaft', 'therebi', 'therefor', 'thi', 'thu', 'togeth', 'twelv', 'twenti', 'veri', 'wa', 'whatev', 'whenc', 'whenev', 'wherea', 'whereaft', 'wherebi', 'wherev', 'whi', 'yourselv'] not in stop_words.\n",
      "  % sorted(inconsistent)\n",
      "C:\\Users\\musou\\Anaconda3\\lib\\site-packages\\sklearn\\feature_extraction\\text.py:401: UserWarning: Your stop_words may be inconsistent with your preprocessing. Tokenizing the stop words generated tokens ['abov', 'afterward', 'alon', 'alreadi', 'alway', 'ani', 'anoth', 'anyon', 'anyth', 'anywher', 'becam', 'becaus', 'becom', 'befor', 'besid', 'cri', 'describ', 'dure', 'els', 'elsewher', 'empti', 'everi', 'everyon', 'everyth', 'everywher', 'fifti', 'formerli', 'forti', 'ha', 'henc', 'hereaft', 'herebi', 'hi', 'howev', 'hundr', 'inde', 'latterli', 'mani', 'meanwhil', 'moreov', 'mostli', 'nobodi', 'noon', 'noth', 'nowher', 'onc', 'onli', 'otherwis', 'ourselv', 'perhap', 'pleas', 'seriou', 'sever', 'sinc', 'sincer', 'sixti', 'someon', 'someth', 'sometim', 'somewher', 'themselv', 'thenc', 'thereaft', 'therebi', 'therefor', 'thi', 'thu', 'togeth', 'twelv', 'twenti', 'veri', 'wa', 'whatev', 'whenc', 'whenev', 'wherea', 'whereaft', 'wherebi', 'wherev', 'whi', 'yourselv'] not in stop_words.\n",
      "  % sorted(inconsistent)\n",
      "C:\\Users\\musou\\Anaconda3\\lib\\site-packages\\sklearn\\feature_extraction\\text.py:401: UserWarning: Your stop_words may be inconsistent with your preprocessing. Tokenizing the stop words generated tokens ['abov', 'afterward', 'alon', 'alreadi', 'alway', 'ani', 'anoth', 'anyon', 'anyth', 'anywher', 'becam', 'becaus', 'becom', 'befor', 'besid', 'cri', 'describ', 'dure', 'els', 'elsewher', 'empti', 'everi', 'everyon', 'everyth', 'everywher', 'fifti', 'formerli', 'forti', 'ha', 'henc', 'hereaft', 'herebi', 'hi', 'howev', 'hundr', 'inde', 'latterli', 'mani', 'meanwhil', 'moreov', 'mostli', 'nobodi', 'noon', 'noth', 'nowher', 'onc', 'onli', 'otherwis', 'ourselv', 'perhap', 'pleas', 'seriou', 'sever', 'sinc', 'sincer', 'sixti', 'someon', 'someth', 'sometim', 'somewher', 'themselv', 'thenc', 'thereaft', 'therebi', 'therefor', 'thi', 'thu', 'togeth', 'twelv', 'twenti', 'veri', 'wa', 'whatev', 'whenc', 'whenev', 'wherea', 'whereaft', 'wherebi', 'wherev', 'whi', 'yourselv'] not in stop_words.\n",
      "  % sorted(inconsistent)\n",
      "C:\\Users\\musou\\Anaconda3\\lib\\site-packages\\sklearn\\feature_extraction\\text.py:401: UserWarning: Your stop_words may be inconsistent with your preprocessing. Tokenizing the stop words generated tokens ['abov', 'afterward', 'alon', 'alreadi', 'alway', 'ani', 'anoth', 'anyon', 'anyth', 'anywher', 'becam', 'becaus', 'becom', 'befor', 'besid', 'cri', 'describ', 'dure', 'els', 'elsewher', 'empti', 'everi', 'everyon', 'everyth', 'everywher', 'fifti', 'formerli', 'forti', 'ha', 'henc', 'hereaft', 'herebi', 'hi', 'howev', 'hundr', 'inde', 'latterli', 'mani', 'meanwhil', 'moreov', 'mostli', 'nobodi', 'noon', 'noth', 'nowher', 'onc', 'onli', 'otherwis', 'ourselv', 'perhap', 'pleas', 'seriou', 'sever', 'sinc', 'sincer', 'sixti', 'someon', 'someth', 'sometim', 'somewher', 'themselv', 'thenc', 'thereaft', 'therebi', 'therefor', 'thi', 'thu', 'togeth', 'twelv', 'twenti', 'veri', 'wa', 'whatev', 'whenc', 'whenev', 'wherea', 'whereaft', 'wherebi', 'wherev', 'whi', 'yourselv'] not in stop_words.\n",
      "  % sorted(inconsistent)\n"
     ]
    },
    {
     "name": "stdout",
     "output_type": "stream",
     "text": [
      "Time to complete: 9 min, 35 seconds\n",
      "0.963336622743368\n",
      "{'cvec__stop_words': 'english', 'cvec__tokenizer': None, 'logreg__C': 0.4, 'logreg__penalty': 'l1', 'logreg__solver': 'liblinear'}\n"
     ]
    }
   ],
   "source": [
    "t_start = int(time.time())\n",
    "\n",
    "np.random.seed(42)\n",
    "params1 = {\n",
    "    'cvec__tokenizer': [None, stem_content],\n",
    "    'cvec__stop_words': [None, 'english'],\n",
    "    'logreg__penalty': ['l1'], # LASSO regularization\n",
    "    'logreg__solver': ['liblinear'], # solver that handles LASSO\n",
    "    'logreg__C': [1.0, .7, .4]\n",
    "}\n",
    "\n",
    "gs1 = GridSearchCV(pipe, params1)\n",
    "gs1.fit(X_train_st, y_train)\n",
    "\n",
    "t_finish = int(time.time())\n",
    "t_delta = t_finish - t_start\n",
    "\n",
    "print(f'Time to complete: {t_delta // 60} min, {t_delta % 60} seconds')\n",
    "print(gs1.best_score_)\n",
    "print(gs1.best_params_)"
   ]
  },
  {
   "cell_type": "code",
   "execution_count": 362,
   "id": "ed6ccab6",
   "metadata": {},
   "outputs": [
    {
     "name": "stdout",
     "output_type": "stream",
     "text": [
      "Train Score: 0.9968924798011187\n",
      "Test Score: 0.9590316573556797\n",
      "Cross-Val Score: 0.963336622743368\n"
     ]
    }
   ],
   "source": [
    "print('Train Score:', gs1.score(X_train_st, y_train))\n",
    "print('Test Score:', gs1.score(X_test_st, y_test))\n",
    "print('Cross-Val Score:', gs1.best_score_)"
   ]
  },
  {
   "cell_type": "code",
   "execution_count": 363,
   "id": "7ff3c3a8",
   "metadata": {},
   "outputs": [
    {
     "data": {
      "text/plain": [
       "<sklearn.metrics._plot.confusion_matrix.ConfusionMatrixDisplay at 0x2baa017c388>"
      ]
     },
     "execution_count": 363,
     "metadata": {},
     "output_type": "execute_result"
    },
    {
     "data": {
      "image/png": "[encoded data removed]",
      "text/plain": [
       "<Figure size 432x288 with 2 Axes>"
      ]
     },
     "metadata": {
      "needs_background": "light"
     },
     "output_type": "display_data"
    }
   ],
   "source": [
    "ConfusionMatrixDisplay.from_estimator(gs1, X_test_st, y_test, cmap='hot', display_labels=('Not From Subreddit', 'From Subreddit'))"
   ]
  },
  {
   "cell_type": "code",
   "execution_count": 364,
   "id": "35071d81",
   "metadata": {},
   "outputs": [
    {
     "data": {
      "text/html": [
       "<div>\n",
       "<style scoped>\n",
       "    .dataframe tbody tr th:only-of-type {\n",
       "        vertical-align: middle;\n",
       "    }\n",
       "\n",
       "    .dataframe tbody tr th {\n",
       "        vertical-align: top;\n",
       "    }\n",
       "\n",
       "    .dataframe thead th {\n",
       "        text-align: right;\n",
       "    }\n",
       "</style>\n",
       "<table border=\"1\" class=\"dataframe\">\n",
       "  <thead>\n",
       "    <tr style=\"text-align: right;\">\n",
       "      <th></th>\n",
       "      <th>mean_fit_time</th>\n",
       "      <th>std_fit_time</th>\n",
       "      <th>mean_score_time</th>\n",
       "      <th>std_score_time</th>\n",
       "      <th>param_cvec__stop_words</th>\n",
       "      <th>param_cvec__tokenizer</th>\n",
       "      <th>param_logreg__C</th>\n",
       "      <th>param_logreg__penalty</th>\n",
       "      <th>param_logreg__solver</th>\n",
       "      <th>params</th>\n",
       "      <th>split0_test_score</th>\n",
       "      <th>split1_test_score</th>\n",
       "      <th>split2_test_score</th>\n",
       "      <th>split3_test_score</th>\n",
       "      <th>split4_test_score</th>\n",
       "      <th>mean_test_score</th>\n",
       "      <th>std_test_score</th>\n",
       "      <th>rank_test_score</th>\n",
       "    </tr>\n",
       "  </thead>\n",
       "  <tbody>\n",
       "    <tr>\n",
       "      <th>8</th>\n",
       "      <td>0.607380</td>\n",
       "      <td>0.010171</td>\n",
       "      <td>0.132036</td>\n",
       "      <td>0.004324</td>\n",
       "      <td>english</td>\n",
       "      <td>None</td>\n",
       "      <td>0.4</td>\n",
       "      <td>l1</td>\n",
       "      <td>liblinear</td>\n",
       "      <td>{'cvec__stop_words': 'english', 'cvec__tokeniz...</td>\n",
       "      <td>0.968944</td>\n",
       "      <td>0.944099</td>\n",
       "      <td>0.972050</td>\n",
       "      <td>0.959627</td>\n",
       "      <td>0.971963</td>\n",
       "      <td>0.963337</td>\n",
       "      <td>0.010636</td>\n",
       "      <td>1</td>\n",
       "    </tr>\n",
       "    <tr>\n",
       "      <th>6</th>\n",
       "      <td>0.608593</td>\n",
       "      <td>0.008035</td>\n",
       "      <td>0.131241</td>\n",
       "      <td>0.007494</td>\n",
       "      <td>english</td>\n",
       "      <td>None</td>\n",
       "      <td>1.0</td>\n",
       "      <td>l1</td>\n",
       "      <td>liblinear</td>\n",
       "      <td>{'cvec__stop_words': 'english', 'cvec__tokeniz...</td>\n",
       "      <td>0.968944</td>\n",
       "      <td>0.956522</td>\n",
       "      <td>0.962733</td>\n",
       "      <td>0.959627</td>\n",
       "      <td>0.968847</td>\n",
       "      <td>0.963335</td>\n",
       "      <td>0.004947</td>\n",
       "      <td>2</td>\n",
       "    </tr>\n",
       "    <tr>\n",
       "      <th>7</th>\n",
       "      <td>0.608784</td>\n",
       "      <td>0.010775</td>\n",
       "      <td>0.132048</td>\n",
       "      <td>0.005630</td>\n",
       "      <td>english</td>\n",
       "      <td>None</td>\n",
       "      <td>0.7</td>\n",
       "      <td>l1</td>\n",
       "      <td>liblinear</td>\n",
       "      <td>{'cvec__stop_words': 'english', 'cvec__tokeniz...</td>\n",
       "      <td>0.965839</td>\n",
       "      <td>0.950311</td>\n",
       "      <td>0.965839</td>\n",
       "      <td>0.953416</td>\n",
       "      <td>0.968847</td>\n",
       "      <td>0.960850</td>\n",
       "      <td>0.007484</td>\n",
       "      <td>3</td>\n",
       "    </tr>\n",
       "    <tr>\n",
       "      <th>0</th>\n",
       "      <td>0.727850</td>\n",
       "      <td>0.017151</td>\n",
       "      <td>0.144826</td>\n",
       "      <td>0.006164</td>\n",
       "      <td>None</td>\n",
       "      <td>None</td>\n",
       "      <td>1.0</td>\n",
       "      <td>l1</td>\n",
       "      <td>liblinear</td>\n",
       "      <td>{'cvec__stop_words': None, 'cvec__tokenizer': ...</td>\n",
       "      <td>0.962733</td>\n",
       "      <td>0.944099</td>\n",
       "      <td>0.962733</td>\n",
       "      <td>0.962733</td>\n",
       "      <td>0.950156</td>\n",
       "      <td>0.956491</td>\n",
       "      <td>0.007881</td>\n",
       "      <td>4</td>\n",
       "    </tr>\n",
       "    <tr>\n",
       "      <th>1</th>\n",
       "      <td>0.714493</td>\n",
       "      <td>0.011954</td>\n",
       "      <td>0.145418</td>\n",
       "      <td>0.004151</td>\n",
       "      <td>None</td>\n",
       "      <td>None</td>\n",
       "      <td>0.7</td>\n",
       "      <td>l1</td>\n",
       "      <td>liblinear</td>\n",
       "      <td>{'cvec__stop_words': None, 'cvec__tokenizer': ...</td>\n",
       "      <td>0.962733</td>\n",
       "      <td>0.944099</td>\n",
       "      <td>0.959627</td>\n",
       "      <td>0.962733</td>\n",
       "      <td>0.947040</td>\n",
       "      <td>0.955247</td>\n",
       "      <td>0.008036</td>\n",
       "      <td>5</td>\n",
       "    </tr>\n",
       "  </tbody>\n",
       "</table>\n",
       "</div>"
      ],
      "text/plain": [
       "   mean_fit_time  std_fit_time  mean_score_time  std_score_time  \\\n",
       "8       0.607380      0.010171         0.132036        0.004324   \n",
       "6       0.608593      0.008035         0.131241        0.007494   \n",
       "7       0.608784      0.010775         0.132048        0.005630   \n",
       "0       0.727850      0.017151         0.144826        0.006164   \n",
       "1       0.714493      0.011954         0.145418        0.004151   \n",
       "\n",
       "  param_cvec__stop_words param_cvec__tokenizer param_logreg__C  \\\n",
       "8                english                  None             0.4   \n",
       "6                english                  None             1.0   \n",
       "7                english                  None             0.7   \n",
       "0                   None                  None             1.0   \n",
       "1                   None                  None             0.7   \n",
       "\n",
       "  param_logreg__penalty param_logreg__solver  \\\n",
       "8                    l1            liblinear   \n",
       "6                    l1            liblinear   \n",
       "7                    l1            liblinear   \n",
       "0                    l1            liblinear   \n",
       "1                    l1            liblinear   \n",
       "\n",
       "                                              params  split0_test_score  \\\n",
       "8  {'cvec__stop_words': 'english', 'cvec__tokeniz...           0.968944   \n",
       "6  {'cvec__stop_words': 'english', 'cvec__tokeniz...           0.968944   \n",
       "7  {'cvec__stop_words': 'english', 'cvec__tokeniz...           0.965839   \n",
       "0  {'cvec__stop_words': None, 'cvec__tokenizer': ...           0.962733   \n",
       "1  {'cvec__stop_words': None, 'cvec__tokenizer': ...           0.962733   \n",
       "\n",
       "   split1_test_score  split2_test_score  split3_test_score  split4_test_score  \\\n",
       "8           0.944099           0.972050           0.959627           0.971963   \n",
       "6           0.956522           0.962733           0.959627           0.968847   \n",
       "7           0.950311           0.965839           0.953416           0.968847   \n",
       "0           0.944099           0.962733           0.962733           0.950156   \n",
       "1           0.944099           0.959627           0.962733           0.947040   \n",
       "\n",
       "   mean_test_score  std_test_score  rank_test_score  \n",
       "8         0.963337        0.010636                1  \n",
       "6         0.963335        0.004947                2  \n",
       "7         0.960850        0.007484                3  \n",
       "0         0.956491        0.007881                4  \n",
       "1         0.955247        0.008036                5  "
      ]
     },
     "execution_count": 364,
     "metadata": {},
     "output_type": "execute_result"
    }
   ],
   "source": [
    "# approach from https://git.generalassemb.ly/DSIR-0124/lesson-hyperparameters-gridsearch-and-pipelines/blob/master/starter-code.ipynb\n",
    "\n",
    "pd.DataFrame(gs1.cv_results_).sort_values('rank_test_score').head()"
   ]
  },
  {
   "cell_type": "markdown",
   "id": "8ef04af0",
   "metadata": {},
   "source": [
    "Not much difference there, with the particular exception that english stop words significantly reduced the cross_val standard deviation in the number 2 spot. On our original model, we were seeing a standard deviation of around .014, and that particular version of the model more than halves that down to .005. This is great; the overall variance of our model is diminishing, even though we aren't yet seeing much affect on our train and test scores.\n",
    "\n",
    "Also of note, the Train score remains very close to perfect; I want to try and push that down away from overfitting and try to give some room to swap bias for variance (thinking that will bring the cross-val and test scores up along the way)"
   ]
  },
  {
   "cell_type": "code",
   "execution_count": 365,
   "id": "0ac2b8ab",
   "metadata": {},
   "outputs": [
    {
     "data": {
      "text/plain": [
       "CountVectorizer(stop_words='english')"
      ]
     },
     "execution_count": 365,
     "metadata": {},
     "output_type": "execute_result"
    }
   ],
   "source": [
    "gs1.best_estimator_[0]"
   ]
  },
  {
   "cell_type": "code",
   "execution_count": 366,
   "id": "27b30740",
   "metadata": {},
   "outputs": [
    {
     "data": {
      "text/plain": [
       "LogisticRegression(C=0.4, max_iter=1000, penalty='l1', solver='liblinear')"
      ]
     },
     "execution_count": 366,
     "metadata": {},
     "output_type": "execute_result"
    }
   ],
   "source": [
    "gs1.best_estimator_[1]"
   ]
  },
  {
   "cell_type": "markdown",
   "id": "3445bfc7",
   "metadata": {},
   "source": [
    "For our count vectorizor, stemming didn't appear to help much, but stop words certainly seemed to help in some cases with variance. Next, I'd like to get a little better resolution on regularization strength values, and try to cut down features a bit more."
   ]
  },
  {
   "cell_type": "code",
   "execution_count": 367,
   "id": "8871665d",
   "metadata": {},
   "outputs": [
    {
     "name": "stdout",
     "output_type": "stream",
     "text": [
      "Time to complete: 0 min, 31 seconds\n",
      "0.9652019117277142\n",
      "{'cvec__stop_words': 'english', 'logreg__C': 0.3, 'logreg__penalty': 'l1', 'logreg__solver': 'liblinear'}\n"
     ]
    }
   ],
   "source": [
    "t_start = int(time.time())\n",
    "\n",
    "np.random.seed(42)\n",
    "params2 = {\n",
    "#     'cvec__tokenizer': [None, stem_content], # tokenizer didn't seem to help\n",
    "    'cvec__stop_words': ['english'], # english stop words bought down our standard deviation considerably\n",
    "    'logreg__penalty': ['l1'], # LASSO regularization\n",
    "    'logreg__solver': ['liblinear'], # solver that handles LASSO\n",
    "    'logreg__C': [.8, .7, .6, .5, .4, .3, .2, .1]\n",
    "}\n",
    "\n",
    "gs2 = GridSearchCV(pipe, params2)\n",
    "gs2.fit(X_train_st, y_train)\n",
    "\n",
    "t_finish = int(time.time())\n",
    "t_delta = t_finish - t_start\n",
    "\n",
    "print(f'Time to complete: {t_delta // 60} min, {t_delta % 60} seconds')\n",
    "print(gs2.best_score_)\n",
    "print(gs2.best_params_)"
   ]
  },
  {
   "cell_type": "code",
   "execution_count": 368,
   "id": "40506188",
   "metadata": {},
   "outputs": [
    {
     "name": "stdout",
     "output_type": "stream",
     "text": [
      "Train Score: 0.9931634555624611\n",
      "Test Score: 0.9553072625698324\n",
      "Cross-Val Score: 0.9652019117277142\n"
     ]
    }
   ],
   "source": [
    "print('Train Score:', gs2.score(X_train_st, y_train))\n",
    "print('Test Score:', gs2.score(X_test_st, y_test))\n",
    "print('Cross-Val Score:', gs2.best_score_)"
   ]
  },
  {
   "cell_type": "code",
   "execution_count": 369,
   "id": "120babc9",
   "metadata": {},
   "outputs": [
    {
     "data": {
      "text/plain": [
       "<sklearn.metrics._plot.confusion_matrix.ConfusionMatrixDisplay at 0x2ba9fde1788>"
      ]
     },
     "execution_count": 369,
     "metadata": {},
     "output_type": "execute_result"
    },
    {
     "data": {
      "image/png": "[encoded data removed]",
      "text/plain": [
       "<Figure size 432x288 with 2 Axes>"
      ]
     },
     "metadata": {
      "needs_background": "light"
     },
     "output_type": "display_data"
    }
   ],
   "source": [
    "ConfusionMatrixDisplay.from_estimator(gs2, X_test_st, y_test, cmap='hot', display_labels=('Not From Subreddit', 'From Subreddit'))"
   ]
  },
  {
   "cell_type": "code",
   "execution_count": 419,
   "id": "66434de2",
   "metadata": {},
   "outputs": [
    {
     "data": {
      "text/html": [
       "<div>\n",
       "<style scoped>\n",
       "    .dataframe tbody tr th:only-of-type {\n",
       "        vertical-align: middle;\n",
       "    }\n",
       "\n",
       "    .dataframe tbody tr th {\n",
       "        vertical-align: top;\n",
       "    }\n",
       "\n",
       "    .dataframe thead th {\n",
       "        text-align: right;\n",
       "    }\n",
       "</style>\n",
       "<table border=\"1\" class=\"dataframe\">\n",
       "  <thead>\n",
       "    <tr style=\"text-align: right;\">\n",
       "      <th></th>\n",
       "      <th>mean_fit_time</th>\n",
       "      <th>std_fit_time</th>\n",
       "      <th>mean_score_time</th>\n",
       "      <th>std_score_time</th>\n",
       "      <th>param_cvec__stop_words</th>\n",
       "      <th>param_logreg__C</th>\n",
       "      <th>param_logreg__penalty</th>\n",
       "      <th>param_logreg__solver</th>\n",
       "      <th>params</th>\n",
       "      <th>split0_test_score</th>\n",
       "      <th>split1_test_score</th>\n",
       "      <th>split2_test_score</th>\n",
       "      <th>split3_test_score</th>\n",
       "      <th>split4_test_score</th>\n",
       "      <th>mean_test_score</th>\n",
       "      <th>std_test_score</th>\n",
       "      <th>rank_test_score</th>\n",
       "    </tr>\n",
       "  </thead>\n",
       "  <tbody>\n",
       "    <tr>\n",
       "      <th>5</th>\n",
       "      <td>0.614942</td>\n",
       "      <td>0.008035</td>\n",
       "      <td>0.133058</td>\n",
       "      <td>0.006796</td>\n",
       "      <td>english</td>\n",
       "      <td>0.3</td>\n",
       "      <td>l1</td>\n",
       "      <td>liblinear</td>\n",
       "      <td>{'cvec__stop_words': 'english', 'logreg__C': 0...</td>\n",
       "      <td>0.965839</td>\n",
       "      <td>0.947205</td>\n",
       "      <td>0.975155</td>\n",
       "      <td>0.962733</td>\n",
       "      <td>0.975078</td>\n",
       "      <td>0.965202</td>\n",
       "      <td>0.010266</td>\n",
       "      <td>1</td>\n",
       "    </tr>\n",
       "    <tr>\n",
       "      <th>4</th>\n",
       "      <td>0.605374</td>\n",
       "      <td>0.010572</td>\n",
       "      <td>0.132453</td>\n",
       "      <td>0.006359</td>\n",
       "      <td>english</td>\n",
       "      <td>0.4</td>\n",
       "      <td>l1</td>\n",
       "      <td>liblinear</td>\n",
       "      <td>{'cvec__stop_words': 'english', 'logreg__C': 0...</td>\n",
       "      <td>0.968944</td>\n",
       "      <td>0.944099</td>\n",
       "      <td>0.972050</td>\n",
       "      <td>0.959627</td>\n",
       "      <td>0.968847</td>\n",
       "      <td>0.962714</td>\n",
       "      <td>0.010194</td>\n",
       "      <td>2</td>\n",
       "    </tr>\n",
       "    <tr>\n",
       "      <th>3</th>\n",
       "      <td>0.622922</td>\n",
       "      <td>0.009648</td>\n",
       "      <td>0.132848</td>\n",
       "      <td>0.004937</td>\n",
       "      <td>english</td>\n",
       "      <td>0.5</td>\n",
       "      <td>l1</td>\n",
       "      <td>liblinear</td>\n",
       "      <td>{'cvec__stop_words': 'english', 'logreg__C': 0...</td>\n",
       "      <td>0.968944</td>\n",
       "      <td>0.947205</td>\n",
       "      <td>0.972050</td>\n",
       "      <td>0.953416</td>\n",
       "      <td>0.968847</td>\n",
       "      <td>0.962092</td>\n",
       "      <td>0.009886</td>\n",
       "      <td>3</td>\n",
       "    </tr>\n",
       "    <tr>\n",
       "      <th>6</th>\n",
       "      <td>0.619725</td>\n",
       "      <td>0.008653</td>\n",
       "      <td>0.130865</td>\n",
       "      <td>0.003413</td>\n",
       "      <td>english</td>\n",
       "      <td>0.2</td>\n",
       "      <td>l1</td>\n",
       "      <td>liblinear</td>\n",
       "      <td>{'cvec__stop_words': 'english', 'logreg__C': 0...</td>\n",
       "      <td>0.968944</td>\n",
       "      <td>0.950311</td>\n",
       "      <td>0.965839</td>\n",
       "      <td>0.956522</td>\n",
       "      <td>0.968847</td>\n",
       "      <td>0.962092</td>\n",
       "      <td>0.007436</td>\n",
       "      <td>3</td>\n",
       "    </tr>\n",
       "    <tr>\n",
       "      <th>0</th>\n",
       "      <td>0.618957</td>\n",
       "      <td>0.005091</td>\n",
       "      <td>0.135837</td>\n",
       "      <td>0.003943</td>\n",
       "      <td>english</td>\n",
       "      <td>0.8</td>\n",
       "      <td>l1</td>\n",
       "      <td>liblinear</td>\n",
       "      <td>{'cvec__stop_words': 'english', 'logreg__C': 0...</td>\n",
       "      <td>0.965839</td>\n",
       "      <td>0.953416</td>\n",
       "      <td>0.962733</td>\n",
       "      <td>0.956522</td>\n",
       "      <td>0.968847</td>\n",
       "      <td>0.961471</td>\n",
       "      <td>0.005735</td>\n",
       "      <td>5</td>\n",
       "    </tr>\n",
       "    <tr>\n",
       "      <th>1</th>\n",
       "      <td>0.621923</td>\n",
       "      <td>0.019045</td>\n",
       "      <td>0.137246</td>\n",
       "      <td>0.004501</td>\n",
       "      <td>english</td>\n",
       "      <td>0.7</td>\n",
       "      <td>l1</td>\n",
       "      <td>liblinear</td>\n",
       "      <td>{'cvec__stop_words': 'english', 'logreg__C': 0...</td>\n",
       "      <td>0.965839</td>\n",
       "      <td>0.950311</td>\n",
       "      <td>0.965839</td>\n",
       "      <td>0.956522</td>\n",
       "      <td>0.968847</td>\n",
       "      <td>0.961471</td>\n",
       "      <td>0.006951</td>\n",
       "      <td>5</td>\n",
       "    </tr>\n",
       "    <tr>\n",
       "      <th>2</th>\n",
       "      <td>0.650061</td>\n",
       "      <td>0.013261</td>\n",
       "      <td>0.139433</td>\n",
       "      <td>0.010134</td>\n",
       "      <td>english</td>\n",
       "      <td>0.6</td>\n",
       "      <td>l1</td>\n",
       "      <td>liblinear</td>\n",
       "      <td>{'cvec__stop_words': 'english', 'logreg__C': 0...</td>\n",
       "      <td>0.968944</td>\n",
       "      <td>0.947205</td>\n",
       "      <td>0.968944</td>\n",
       "      <td>0.953416</td>\n",
       "      <td>0.968847</td>\n",
       "      <td>0.961471</td>\n",
       "      <td>0.009322</td>\n",
       "      <td>5</td>\n",
       "    </tr>\n",
       "    <tr>\n",
       "      <th>7</th>\n",
       "      <td>0.598990</td>\n",
       "      <td>0.009396</td>\n",
       "      <td>0.132253</td>\n",
       "      <td>0.003452</td>\n",
       "      <td>english</td>\n",
       "      <td>0.1</td>\n",
       "      <td>l1</td>\n",
       "      <td>liblinear</td>\n",
       "      <td>{'cvec__stop_words': 'english', 'logreg__C': 0...</td>\n",
       "      <td>0.965839</td>\n",
       "      <td>0.947205</td>\n",
       "      <td>0.947205</td>\n",
       "      <td>0.962733</td>\n",
       "      <td>0.959502</td>\n",
       "      <td>0.956497</td>\n",
       "      <td>0.007847</td>\n",
       "      <td>8</td>\n",
       "    </tr>\n",
       "  </tbody>\n",
       "</table>\n",
       "</div>"
      ],
      "text/plain": [
       "   mean_fit_time  std_fit_time  mean_score_time  std_score_time  \\\n",
       "5       0.614942      0.008035         0.133058        0.006796   \n",
       "4       0.605374      0.010572         0.132453        0.006359   \n",
       "3       0.622922      0.009648         0.132848        0.004937   \n",
       "6       0.619725      0.008653         0.130865        0.003413   \n",
       "0       0.618957      0.005091         0.135837        0.003943   \n",
       "1       0.621923      0.019045         0.137246        0.004501   \n",
       "2       0.650061      0.013261         0.139433        0.010134   \n",
       "7       0.598990      0.009396         0.132253        0.003452   \n",
       "\n",
       "  param_cvec__stop_words param_logreg__C param_logreg__penalty  \\\n",
       "5                english             0.3                    l1   \n",
       "4                english             0.4                    l1   \n",
       "3                english             0.5                    l1   \n",
       "6                english             0.2                    l1   \n",
       "0                english             0.8                    l1   \n",
       "1                english             0.7                    l1   \n",
       "2                english             0.6                    l1   \n",
       "7                english             0.1                    l1   \n",
       "\n",
       "  param_logreg__solver                                             params  \\\n",
       "5            liblinear  {'cvec__stop_words': 'english', 'logreg__C': 0...   \n",
       "4            liblinear  {'cvec__stop_words': 'english', 'logreg__C': 0...   \n",
       "3            liblinear  {'cvec__stop_words': 'english', 'logreg__C': 0...   \n",
       "6            liblinear  {'cvec__stop_words': 'english', 'logreg__C': 0...   \n",
       "0            liblinear  {'cvec__stop_words': 'english', 'logreg__C': 0...   \n",
       "1            liblinear  {'cvec__stop_words': 'english', 'logreg__C': 0...   \n",
       "2            liblinear  {'cvec__stop_words': 'english', 'logreg__C': 0...   \n",
       "7            liblinear  {'cvec__stop_words': 'english', 'logreg__C': 0...   \n",
       "\n",
       "   split0_test_score  split1_test_score  split2_test_score  split3_test_score  \\\n",
       "5           0.965839           0.947205           0.975155           0.962733   \n",
       "4           0.968944           0.944099           0.972050           0.959627   \n",
       "3           0.968944           0.947205           0.972050           0.953416   \n",
       "6           0.968944           0.950311           0.965839           0.956522   \n",
       "0           0.965839           0.953416           0.962733           0.956522   \n",
       "1           0.965839           0.950311           0.965839           0.956522   \n",
       "2           0.968944           0.947205           0.968944           0.953416   \n",
       "7           0.965839           0.947205           0.947205           0.962733   \n",
       "\n",
       "   split4_test_score  mean_test_score  std_test_score  rank_test_score  \n",
       "5           0.975078         0.965202        0.010266                1  \n",
       "4           0.968847         0.962714        0.010194                2  \n",
       "3           0.968847         0.962092        0.009886                3  \n",
       "6           0.968847         0.962092        0.007436                3  \n",
       "0           0.968847         0.961471        0.005735                5  \n",
       "1           0.968847         0.961471        0.006951                5  \n",
       "2           0.968847         0.961471        0.009322                5  \n",
       "7           0.959502         0.956497        0.007847                8  "
      ]
     },
     "execution_count": 419,
     "metadata": {},
     "output_type": "execute_result"
    }
   ],
   "source": [
    "pd.DataFrame(gs2.cv_results_).sort_values('rank_test_score')"
   ]
  },
  {
   "cell_type": "markdown",
   "id": "83397f31",
   "metadata": {},
   "source": [
    "Okay, looks like we're starting to split hairs with the regularization strengths. Seeing solid performance with practically all of the models producing greater than 96% accuracy, but index 0 catches my attention with a standard deviation around .6%.  \n",
    "\n",
    "One last thing I'd like to try with this logistic regression model is to incorporate n-grams; I suspect that there are a number of word combinations that would be strong indicators for our subreddits. "
   ]
  },
  {
   "cell_type": "code",
   "execution_count": 371,
   "id": "d42b3c12",
   "metadata": {},
   "outputs": [
    {
     "name": "stdout",
     "output_type": "stream",
     "text": [
      "Time to complete: 0 min, 59 seconds\n",
      "0.9627135697838665\n",
      "{'cvec__ngram_range': (1, 2), 'cvec__stop_words': 'english', 'logreg__C': 0.55, 'logreg__penalty': 'l1', 'logreg__solver': 'liblinear'}\n"
     ]
    }
   ],
   "source": [
    "t_start = int(time.time())\n",
    "\n",
    "np.random.seed(42)\n",
    "params3 = {\n",
    "    'cvec__stop_words': ['english'], # english stop words bought down our standard deviation considerably\n",
    "    'cvec__ngram_range': [(2,2), (1,2)], # explore two-word space\n",
    "    'logreg__penalty': ['l1'], # LASSO regularization\n",
    "    'logreg__solver': ['liblinear'], # solver that handles LASSO\n",
    "    'logreg__C': [.6, .55, .5] # exploring the space between the two previous best regularization strengths (assuming indepence from other params)\n",
    "}\n",
    "\n",
    "gs3 = GridSearchCV(pipe, params3)\n",
    "gs3.fit(X_train_st, y_train)\n",
    "\n",
    "t_finish = int(time.time())\n",
    "t_delta = t_finish - t_start\n",
    "\n",
    "print(f'Time to complete: {t_delta // 60} min, {t_delta % 60} seconds')\n",
    "print(gs3.best_score_)\n",
    "print(gs3.best_params_)"
   ]
  },
  {
   "cell_type": "code",
   "execution_count": 372,
   "id": "7c12ee54",
   "metadata": {},
   "outputs": [
    {
     "name": "stdout",
     "output_type": "stream",
     "text": [
      "Train Score: 0.9981354878806712\n",
      "Test Score: 0.9590316573556797\n",
      "Cross-Val Score: 0.9627135697838665\n"
     ]
    }
   ],
   "source": [
    "print('Train Score:', gs3.score(X_train_st, y_train))\n",
    "print('Test Score:', gs3.score(X_test_st, y_test))\n",
    "print('Cross-Val Score:', gs3.best_score_)"
   ]
  },
  {
   "cell_type": "code",
   "execution_count": 373,
   "id": "14d84182",
   "metadata": {},
   "outputs": [
    {
     "data": {
      "image/png": "[encoded data removed]",
      "text/plain": [
       "<Figure size 432x288 with 2 Axes>"
      ]
     },
     "metadata": {
      "needs_background": "light"
     },
     "output_type": "display_data"
    }
   ],
   "source": [
    "ConfusionMatrixDisplay.from_estimator(gs3, X_test_st, y_test, cmap='hot', display_labels=('Not From Subreddit', 'From Subreddit'));"
   ]
  },
  {
   "cell_type": "code",
   "execution_count": 374,
   "id": "dd709799",
   "metadata": {},
   "outputs": [
    {
     "data": {
      "text/html": [
       "<div>\n",
       "<style scoped>\n",
       "    .dataframe tbody tr th:only-of-type {\n",
       "        vertical-align: middle;\n",
       "    }\n",
       "\n",
       "    .dataframe tbody tr th {\n",
       "        vertical-align: top;\n",
       "    }\n",
       "\n",
       "    .dataframe thead th {\n",
       "        text-align: right;\n",
       "    }\n",
       "</style>\n",
       "<table border=\"1\" class=\"dataframe\">\n",
       "  <thead>\n",
       "    <tr style=\"text-align: right;\">\n",
       "      <th></th>\n",
       "      <th>mean_fit_time</th>\n",
       "      <th>std_fit_time</th>\n",
       "      <th>mean_score_time</th>\n",
       "      <th>std_score_time</th>\n",
       "      <th>param_cvec__ngram_range</th>\n",
       "      <th>param_cvec__stop_words</th>\n",
       "      <th>param_logreg__C</th>\n",
       "      <th>param_logreg__penalty</th>\n",
       "      <th>param_logreg__solver</th>\n",
       "      <th>params</th>\n",
       "      <th>split0_test_score</th>\n",
       "      <th>split1_test_score</th>\n",
       "      <th>split2_test_score</th>\n",
       "      <th>split3_test_score</th>\n",
       "      <th>split4_test_score</th>\n",
       "      <th>mean_test_score</th>\n",
       "      <th>std_test_score</th>\n",
       "      <th>rank_test_score</th>\n",
       "    </tr>\n",
       "  </thead>\n",
       "  <tbody>\n",
       "    <tr>\n",
       "      <th>4</th>\n",
       "      <td>1.867404</td>\n",
       "      <td>0.031322</td>\n",
       "      <td>0.212244</td>\n",
       "      <td>0.006065</td>\n",
       "      <td>(1, 2)</td>\n",
       "      <td>english</td>\n",
       "      <td>0.55</td>\n",
       "      <td>l1</td>\n",
       "      <td>liblinear</td>\n",
       "      <td>{'cvec__ngram_range': (1, 2), 'cvec__stop_word...</td>\n",
       "      <td>0.968944</td>\n",
       "      <td>0.947205</td>\n",
       "      <td>0.972050</td>\n",
       "      <td>0.956522</td>\n",
       "      <td>0.968847</td>\n",
       "      <td>0.962714</td>\n",
       "      <td>0.009407</td>\n",
       "      <td>1</td>\n",
       "    </tr>\n",
       "    <tr>\n",
       "      <th>3</th>\n",
       "      <td>1.842272</td>\n",
       "      <td>0.048860</td>\n",
       "      <td>0.213003</td>\n",
       "      <td>0.002731</td>\n",
       "      <td>(1, 2)</td>\n",
       "      <td>english</td>\n",
       "      <td>0.6</td>\n",
       "      <td>l1</td>\n",
       "      <td>liblinear</td>\n",
       "      <td>{'cvec__ngram_range': (1, 2), 'cvec__stop_word...</td>\n",
       "      <td>0.968944</td>\n",
       "      <td>0.947205</td>\n",
       "      <td>0.968944</td>\n",
       "      <td>0.953416</td>\n",
       "      <td>0.968847</td>\n",
       "      <td>0.961471</td>\n",
       "      <td>0.009322</td>\n",
       "      <td>2</td>\n",
       "    </tr>\n",
       "    <tr>\n",
       "      <th>5</th>\n",
       "      <td>1.851242</td>\n",
       "      <td>0.031277</td>\n",
       "      <td>0.208042</td>\n",
       "      <td>0.006562</td>\n",
       "      <td>(1, 2)</td>\n",
       "      <td>english</td>\n",
       "      <td>0.5</td>\n",
       "      <td>l1</td>\n",
       "      <td>liblinear</td>\n",
       "      <td>{'cvec__ngram_range': (1, 2), 'cvec__stop_word...</td>\n",
       "      <td>0.968944</td>\n",
       "      <td>0.944099</td>\n",
       "      <td>0.972050</td>\n",
       "      <td>0.953416</td>\n",
       "      <td>0.968847</td>\n",
       "      <td>0.961471</td>\n",
       "      <td>0.010852</td>\n",
       "      <td>2</td>\n",
       "    </tr>\n",
       "    <tr>\n",
       "      <th>0</th>\n",
       "      <td>1.514356</td>\n",
       "      <td>0.030692</td>\n",
       "      <td>0.167152</td>\n",
       "      <td>0.004261</td>\n",
       "      <td>(2, 2)</td>\n",
       "      <td>english</td>\n",
       "      <td>0.6</td>\n",
       "      <td>l1</td>\n",
       "      <td>liblinear</td>\n",
       "      <td>{'cvec__ngram_range': (2, 2), 'cvec__stop_word...</td>\n",
       "      <td>0.835404</td>\n",
       "      <td>0.838509</td>\n",
       "      <td>0.832298</td>\n",
       "      <td>0.832298</td>\n",
       "      <td>0.778816</td>\n",
       "      <td>0.823465</td>\n",
       "      <td>0.022443</td>\n",
       "      <td>4</td>\n",
       "    </tr>\n",
       "    <tr>\n",
       "      <th>2</th>\n",
       "      <td>1.518130</td>\n",
       "      <td>0.016660</td>\n",
       "      <td>0.169561</td>\n",
       "      <td>0.007734</td>\n",
       "      <td>(2, 2)</td>\n",
       "      <td>english</td>\n",
       "      <td>0.5</td>\n",
       "      <td>l1</td>\n",
       "      <td>liblinear</td>\n",
       "      <td>{'cvec__ngram_range': (2, 2), 'cvec__stop_word...</td>\n",
       "      <td>0.844720</td>\n",
       "      <td>0.835404</td>\n",
       "      <td>0.832298</td>\n",
       "      <td>0.835404</td>\n",
       "      <td>0.769470</td>\n",
       "      <td>0.823459</td>\n",
       "      <td>0.027314</td>\n",
       "      <td>5</td>\n",
       "    </tr>\n",
       "  </tbody>\n",
       "</table>\n",
       "</div>"
      ],
      "text/plain": [
       "   mean_fit_time  std_fit_time  mean_score_time  std_score_time  \\\n",
       "4       1.867404      0.031322         0.212244        0.006065   \n",
       "3       1.842272      0.048860         0.213003        0.002731   \n",
       "5       1.851242      0.031277         0.208042        0.006562   \n",
       "0       1.514356      0.030692         0.167152        0.004261   \n",
       "2       1.518130      0.016660         0.169561        0.007734   \n",
       "\n",
       "  param_cvec__ngram_range param_cvec__stop_words param_logreg__C  \\\n",
       "4                  (1, 2)                english            0.55   \n",
       "3                  (1, 2)                english             0.6   \n",
       "5                  (1, 2)                english             0.5   \n",
       "0                  (2, 2)                english             0.6   \n",
       "2                  (2, 2)                english             0.5   \n",
       "\n",
       "  param_logreg__penalty param_logreg__solver  \\\n",
       "4                    l1            liblinear   \n",
       "3                    l1            liblinear   \n",
       "5                    l1            liblinear   \n",
       "0                    l1            liblinear   \n",
       "2                    l1            liblinear   \n",
       "\n",
       "                                              params  split0_test_score  \\\n",
       "4  {'cvec__ngram_range': (1, 2), 'cvec__stop_word...           0.968944   \n",
       "3  {'cvec__ngram_range': (1, 2), 'cvec__stop_word...           0.968944   \n",
       "5  {'cvec__ngram_range': (1, 2), 'cvec__stop_word...           0.968944   \n",
       "0  {'cvec__ngram_range': (2, 2), 'cvec__stop_word...           0.835404   \n",
       "2  {'cvec__ngram_range': (2, 2), 'cvec__stop_word...           0.844720   \n",
       "\n",
       "   split1_test_score  split2_test_score  split3_test_score  split4_test_score  \\\n",
       "4           0.947205           0.972050           0.956522           0.968847   \n",
       "3           0.947205           0.968944           0.953416           0.968847   \n",
       "5           0.944099           0.972050           0.953416           0.968847   \n",
       "0           0.838509           0.832298           0.832298           0.778816   \n",
       "2           0.835404           0.832298           0.835404           0.769470   \n",
       "\n",
       "   mean_test_score  std_test_score  rank_test_score  \n",
       "4         0.962714        0.009407                1  \n",
       "3         0.961471        0.009322                2  \n",
       "5         0.961471        0.010852                2  \n",
       "0         0.823465        0.022443                4  \n",
       "2         0.823459        0.027314                5  "
      ]
     },
     "execution_count": 374,
     "metadata": {},
     "output_type": "execute_result"
    }
   ],
   "source": [
    "pd.DataFrame(gs3.cv_results_).sort_values('rank_test_score').head()"
   ]
  },
  {
   "cell_type": "markdown",
   "id": "93e89ded",
   "metadata": {},
   "source": [
    "Okay, looks like my hypothesis proved to be false! There was no real difference with 2 word combinations. I am curious if there were any 2-grams that made the top twenty..."
   ]
  },
  {
   "cell_type": "code",
   "execution_count": 375,
   "id": "9ac7dd8b",
   "metadata": {},
   "outputs": [],
   "source": [
    "# approach from https://stackoverflow.com/questions/24375911/how-to-print-estimated-coefficients-after-a-gridsearchcv-fit-a-model-sgdregr\n",
    "\n",
    "vectorizer_gs3 = gs3.best_estimator_.named_steps['cvec']\n",
    "classifier_gs3 = gs3.best_estimator_.named_steps['logreg']"
   ]
  },
  {
   "cell_type": "code",
   "execution_count": 376,
   "id": "9da10d85",
   "metadata": {},
   "outputs": [],
   "source": [
    "coefs_gs3_st = classifier_gs3.coef_[0]\n",
    "features_gs3_st = vectorizer_gs3.get_feature_names_out()\n",
    "feature_gs3_coefs = pd.Series(index=features_gs3_st, data=coefs_gs3_st)\n",
    "sorted_features_gs3 = feature_gs3_coefs.sort_values(ascending=False)"
   ]
  },
  {
   "cell_type": "code",
   "execution_count": 377,
   "id": "af7ff359",
   "metadata": {},
   "outputs": [
    {
     "data": {
      "text/plain": [
       "computers      1.824913\n",
       "support        1.719936\n",
       "network        1.115989\n",
       "data           1.026781\n",
       "fix            0.975395\n",
       "tech           0.854424\n",
       "problem        0.841902\n",
       "user           0.834281\n",
       "details        0.758208\n",
       "ticket         0.730991\n",
       "computer       0.705670\n",
       "information    0.700590\n",
       "monitor        0.683161\n",
       "sent           0.620347\n",
       "desk           0.599361\n",
       "office         0.590949\n",
       "client         0.579275\n",
       "server         0.553508\n",
       "new            0.534602\n",
       "log            0.525570\n",
       "dtype: float64"
      ]
     },
     "execution_count": 377,
     "metadata": {},
     "output_type": "execute_result"
    }
   ],
   "source": [
    "sorted_features_gs3.head(20)"
   ]
  },
  {
   "cell_type": "code",
   "execution_count": 378,
   "id": "35af42d7",
   "metadata": {},
   "outputs": [
    {
     "data": {
      "text/plain": [
       "busy        -0.278969\n",
       "hands       -0.302457\n",
       "said        -0.311641\n",
       "customers   -0.359170\n",
       "employee    -0.380831\n",
       "gas         -0.381271\n",
       "shop        -0.426240\n",
       "man         -0.433944\n",
       "want        -0.443806\n",
       "okay        -0.468196\n",
       "parking     -0.486602\n",
       "sell        -0.535951\n",
       "sorry       -0.564872\n",
       "return      -0.575009\n",
       "items       -0.600794\n",
       "sale        -0.614370\n",
       "woman       -0.680206\n",
       "retail      -1.153958\n",
       "counter     -1.174769\n",
       "store       -1.238937\n",
       "dtype: float64"
      ]
     },
     "execution_count": 378,
     "metadata": {},
     "output_type": "execute_result"
    }
   ],
   "source": [
    "sorted_features_gs3.tail(20)"
   ]
  },
  {
   "cell_type": "markdown",
   "id": "b7b25291",
   "metadata": {},
   "source": [
    "Wow, not a single one! Just out of curiosity I want to see the 3-gram space."
   ]
  },
  {
   "cell_type": "code",
   "execution_count": 379,
   "id": "11adfb8c",
   "metadata": {},
   "outputs": [
    {
     "name": "stdout",
     "output_type": "stream",
     "text": [
      "Time to complete: 1 min, 31 seconds\n",
      "0.9627135697838665\n",
      "{'cvec__ngram_range': (1, 2), 'cvec__stop_words': 'english', 'logreg__C': 0.55, 'logreg__penalty': 'l1', 'logreg__solver': 'liblinear'}\n"
     ]
    }
   ],
   "source": [
    "t_start = int(time.time())\n",
    "\n",
    "np.random.seed(42)\n",
    "params4 = {\n",
    "    'cvec__stop_words': ['english'], # english stop words bought down our standard deviation considerably\n",
    "    'cvec__ngram_range': [(1,2), (1,3)], # explore two-word and three-word space\n",
    "    'logreg__penalty': ['l1'], # LASSO regularization\n",
    "    'logreg__solver': ['liblinear'], # solver that handles LASSO\n",
    "    'logreg__C': [.65, .6, .55] # exploring the space between the two previous best regularization strengths (assuming indepence from other params)\n",
    "}\n",
    "\n",
    "gs4 = GridSearchCV(pipe, params4)\n",
    "gs4.fit(X_train_st, y_train)\n",
    "\n",
    "t_finish = int(time.time())\n",
    "t_delta = t_finish - t_start\n",
    "\n",
    "print(f'Time to complete: {t_delta // 60} min, {t_delta % 60} seconds')\n",
    "print(gs4.best_score_)\n",
    "print(gs4.best_params_)"
   ]
  },
  {
   "cell_type": "code",
   "execution_count": 380,
   "id": "9ce1b897",
   "metadata": {},
   "outputs": [
    {
     "name": "stdout",
     "output_type": "stream",
     "text": [
      "Train Score: 0.9981354878806712\n",
      "Test Score: 0.9590316573556797\n",
      "Cross-Val Score: 0.9627135697838665\n"
     ]
    }
   ],
   "source": [
    "print('Train Score:', gs4.score(X_train_st, y_train))\n",
    "print('Test Score:', gs4.score(X_test_st, y_test))\n",
    "print('Cross-Val Score:', gs4.best_score_)"
   ]
  },
  {
   "cell_type": "code",
   "execution_count": 381,
   "id": "382bc619",
   "metadata": {},
   "outputs": [
    {
     "data": {
      "image/png": "[encoded data removed]",
      "text/plain": [
       "<Figure size 432x288 with 2 Axes>"
      ]
     },
     "metadata": {
      "needs_background": "light"
     },
     "output_type": "display_data"
    }
   ],
   "source": [
    "ConfusionMatrixDisplay.from_estimator(gs4, X_test_st, y_test, cmap='hot', display_labels=('Not From Subreddit', 'From Subreddit'));"
   ]
  },
  {
   "cell_type": "code",
   "execution_count": 382,
   "id": "4fad6c98",
   "metadata": {},
   "outputs": [
    {
     "data": {
      "text/html": [
       "<div>\n",
       "<style scoped>\n",
       "    .dataframe tbody tr th:only-of-type {\n",
       "        vertical-align: middle;\n",
       "    }\n",
       "\n",
       "    .dataframe tbody tr th {\n",
       "        vertical-align: top;\n",
       "    }\n",
       "\n",
       "    .dataframe thead th {\n",
       "        text-align: right;\n",
       "    }\n",
       "</style>\n",
       "<table border=\"1\" class=\"dataframe\">\n",
       "  <thead>\n",
       "    <tr style=\"text-align: right;\">\n",
       "      <th></th>\n",
       "      <th>mean_fit_time</th>\n",
       "      <th>std_fit_time</th>\n",
       "      <th>mean_score_time</th>\n",
       "      <th>std_score_time</th>\n",
       "      <th>param_cvec__ngram_range</th>\n",
       "      <th>param_cvec__stop_words</th>\n",
       "      <th>param_logreg__C</th>\n",
       "      <th>param_logreg__penalty</th>\n",
       "      <th>param_logreg__solver</th>\n",
       "      <th>params</th>\n",
       "      <th>split0_test_score</th>\n",
       "      <th>split1_test_score</th>\n",
       "      <th>split2_test_score</th>\n",
       "      <th>split3_test_score</th>\n",
       "      <th>split4_test_score</th>\n",
       "      <th>mean_test_score</th>\n",
       "      <th>std_test_score</th>\n",
       "      <th>rank_test_score</th>\n",
       "    </tr>\n",
       "  </thead>\n",
       "  <tbody>\n",
       "    <tr>\n",
       "      <th>2</th>\n",
       "      <td>1.835489</td>\n",
       "      <td>0.035910</td>\n",
       "      <td>0.211029</td>\n",
       "      <td>0.013660</td>\n",
       "      <td>(1, 2)</td>\n",
       "      <td>english</td>\n",
       "      <td>0.55</td>\n",
       "      <td>l1</td>\n",
       "      <td>liblinear</td>\n",
       "      <td>{'cvec__ngram_range': (1, 2), 'cvec__stop_word...</td>\n",
       "      <td>0.968944</td>\n",
       "      <td>0.947205</td>\n",
       "      <td>0.968944</td>\n",
       "      <td>0.959627</td>\n",
       "      <td>0.968847</td>\n",
       "      <td>0.962714</td>\n",
       "      <td>0.008548</td>\n",
       "      <td>1</td>\n",
       "    </tr>\n",
       "    <tr>\n",
       "      <th>4</th>\n",
       "      <td>3.536152</td>\n",
       "      <td>0.086540</td>\n",
       "      <td>0.280855</td>\n",
       "      <td>0.010338</td>\n",
       "      <td>(1, 3)</td>\n",
       "      <td>english</td>\n",
       "      <td>0.6</td>\n",
       "      <td>l1</td>\n",
       "      <td>liblinear</td>\n",
       "      <td>{'cvec__ngram_range': (1, 3), 'cvec__stop_word...</td>\n",
       "      <td>0.968944</td>\n",
       "      <td>0.950311</td>\n",
       "      <td>0.968944</td>\n",
       "      <td>0.956522</td>\n",
       "      <td>0.968847</td>\n",
       "      <td>0.962714</td>\n",
       "      <td>0.007841</td>\n",
       "      <td>1</td>\n",
       "    </tr>\n",
       "    <tr>\n",
       "      <th>5</th>\n",
       "      <td>3.498875</td>\n",
       "      <td>0.039769</td>\n",
       "      <td>0.279659</td>\n",
       "      <td>0.010111</td>\n",
       "      <td>(1, 3)</td>\n",
       "      <td>english</td>\n",
       "      <td>0.55</td>\n",
       "      <td>l1</td>\n",
       "      <td>liblinear</td>\n",
       "      <td>{'cvec__ngram_range': (1, 3), 'cvec__stop_word...</td>\n",
       "      <td>0.968944</td>\n",
       "      <td>0.947205</td>\n",
       "      <td>0.968944</td>\n",
       "      <td>0.959627</td>\n",
       "      <td>0.968847</td>\n",
       "      <td>0.962714</td>\n",
       "      <td>0.008548</td>\n",
       "      <td>1</td>\n",
       "    </tr>\n",
       "    <tr>\n",
       "      <th>1</th>\n",
       "      <td>1.868006</td>\n",
       "      <td>0.010980</td>\n",
       "      <td>0.216416</td>\n",
       "      <td>0.014306</td>\n",
       "      <td>(1, 2)</td>\n",
       "      <td>english</td>\n",
       "      <td>0.6</td>\n",
       "      <td>l1</td>\n",
       "      <td>liblinear</td>\n",
       "      <td>{'cvec__ngram_range': (1, 2), 'cvec__stop_word...</td>\n",
       "      <td>0.968944</td>\n",
       "      <td>0.947205</td>\n",
       "      <td>0.968944</td>\n",
       "      <td>0.956522</td>\n",
       "      <td>0.968847</td>\n",
       "      <td>0.962092</td>\n",
       "      <td>0.008857</td>\n",
       "      <td>4</td>\n",
       "    </tr>\n",
       "    <tr>\n",
       "      <th>3</th>\n",
       "      <td>3.488673</td>\n",
       "      <td>0.053516</td>\n",
       "      <td>0.280044</td>\n",
       "      <td>0.015865</td>\n",
       "      <td>(1, 3)</td>\n",
       "      <td>english</td>\n",
       "      <td>0.65</td>\n",
       "      <td>l1</td>\n",
       "      <td>liblinear</td>\n",
       "      <td>{'cvec__ngram_range': (1, 3), 'cvec__stop_word...</td>\n",
       "      <td>0.968944</td>\n",
       "      <td>0.950311</td>\n",
       "      <td>0.965839</td>\n",
       "      <td>0.953416</td>\n",
       "      <td>0.968847</td>\n",
       "      <td>0.961471</td>\n",
       "      <td>0.007985</td>\n",
       "      <td>5</td>\n",
       "    </tr>\n",
       "  </tbody>\n",
       "</table>\n",
       "</div>"
      ],
      "text/plain": [
       "   mean_fit_time  std_fit_time  mean_score_time  std_score_time  \\\n",
       "2       1.835489      0.035910         0.211029        0.013660   \n",
       "4       3.536152      0.086540         0.280855        0.010338   \n",
       "5       3.498875      0.039769         0.279659        0.010111   \n",
       "1       1.868006      0.010980         0.216416        0.014306   \n",
       "3       3.488673      0.053516         0.280044        0.015865   \n",
       "\n",
       "  param_cvec__ngram_range param_cvec__stop_words param_logreg__C  \\\n",
       "2                  (1, 2)                english            0.55   \n",
       "4                  (1, 3)                english             0.6   \n",
       "5                  (1, 3)                english            0.55   \n",
       "1                  (1, 2)                english             0.6   \n",
       "3                  (1, 3)                english            0.65   \n",
       "\n",
       "  param_logreg__penalty param_logreg__solver  \\\n",
       "2                    l1            liblinear   \n",
       "4                    l1            liblinear   \n",
       "5                    l1            liblinear   \n",
       "1                    l1            liblinear   \n",
       "3                    l1            liblinear   \n",
       "\n",
       "                                              params  split0_test_score  \\\n",
       "2  {'cvec__ngram_range': (1, 2), 'cvec__stop_word...           0.968944   \n",
       "4  {'cvec__ngram_range': (1, 3), 'cvec__stop_word...           0.968944   \n",
       "5  {'cvec__ngram_range': (1, 3), 'cvec__stop_word...           0.968944   \n",
       "1  {'cvec__ngram_range': (1, 2), 'cvec__stop_word...           0.968944   \n",
       "3  {'cvec__ngram_range': (1, 3), 'cvec__stop_word...           0.968944   \n",
       "\n",
       "   split1_test_score  split2_test_score  split3_test_score  split4_test_score  \\\n",
       "2           0.947205           0.968944           0.959627           0.968847   \n",
       "4           0.950311           0.968944           0.956522           0.968847   \n",
       "5           0.947205           0.968944           0.959627           0.968847   \n",
       "1           0.947205           0.968944           0.956522           0.968847   \n",
       "3           0.950311           0.965839           0.953416           0.968847   \n",
       "\n",
       "   mean_test_score  std_test_score  rank_test_score  \n",
       "2         0.962714        0.008548                1  \n",
       "4         0.962714        0.007841                1  \n",
       "5         0.962714        0.008548                1  \n",
       "1         0.962092        0.008857                4  \n",
       "3         0.961471        0.007985                5  "
      ]
     },
     "execution_count": 382,
     "metadata": {},
     "output_type": "execute_result"
    }
   ],
   "source": [
    "pd.DataFrame(gs4.cv_results_).sort_values('rank_test_score').head()"
   ]
  },
  {
   "cell_type": "markdown",
   "id": "628bcd61",
   "metadata": {},
   "source": [
    "And with three, we get more of the same kinds of results. Looks like we're best off with just the individual words.\n",
    "\n",
    "Alright, last bit to explore is max and min counts for the vectorizer. I'm running out of ideas to drive down the overfitting and buy back some variance..."
   ]
  },
  {
   "cell_type": "code",
   "execution_count": 383,
   "id": "1cf00fe2",
   "metadata": {},
   "outputs": [
    {
     "name": "stdout",
     "output_type": "stream",
     "text": [
      "Time to complete: 0 min, 58 seconds\n",
      "0.9633327528492096\n",
      "{'cvec__max_df': 0.8, 'cvec__min_df': 0.05, 'cvec__stop_words': 'english', 'logreg__C': 0.6, 'logreg__penalty': 'l1', 'logreg__solver': 'liblinear'}\n"
     ]
    }
   ],
   "source": [
    "t_start = int(time.time())\n",
    "\n",
    "np.random.seed(42)\n",
    "params5 = {\n",
    "    'cvec__stop_words': ['english'],\n",
    "    'cvec__max_df': [1.0, .8, .6, .4], # explore limiting words that show up throughout the corpus\n",
    "    'cvec__min_df': [.00, .05, .10, .20], # # explore limiting words that don't show up throughout the corpus\n",
    "    'logreg__penalty': ['l1'], # LASSO regularization\n",
    "    'logreg__solver': ['liblinear'], # solver that handles LASSO\n",
    "    'logreg__C': [.6]\n",
    "}\n",
    "\n",
    "gs5 = GridSearchCV(pipe, params5)\n",
    "gs5.fit(X_train_st, y_train)\n",
    "\n",
    "t_finish = int(time.time())\n",
    "t_delta = t_finish - t_start\n",
    "\n",
    "print(f'Time to complete: {t_delta // 60} min, {t_delta % 60} seconds')\n",
    "print(gs5.best_score_)\n",
    "print(gs5.best_params_)"
   ]
  },
  {
   "cell_type": "code",
   "execution_count": 384,
   "id": "41cc032f",
   "metadata": {},
   "outputs": [
    {
     "name": "stdout",
     "output_type": "stream",
     "text": [
      "Train Score: 0.9987569919204475\n",
      "Test Score: 0.9534450651769087\n",
      "Cross-Val Score: 0.9633327528492096\n"
     ]
    }
   ],
   "source": [
    "print('Train Score:', gs5.score(X_train_st, y_train))\n",
    "print('Test Score:', gs5.score(X_test_st, y_test))\n",
    "print('Cross-Val Score:', gs5.best_score_)"
   ]
  },
  {
   "cell_type": "code",
   "execution_count": 385,
   "id": "590fa1cf",
   "metadata": {},
   "outputs": [
    {
     "data": {
      "image/png": "[encoded data removed]",
      "text/plain": [
       "<Figure size 432x288 with 2 Axes>"
      ]
     },
     "metadata": {
      "needs_background": "light"
     },
     "output_type": "display_data"
    }
   ],
   "source": [
    "ConfusionMatrixDisplay.from_estimator(gs5, X_test_st, y_test, cmap='hot', display_labels=('Not From Subreddit', 'From Subreddit'));"
   ]
  },
  {
   "cell_type": "code",
   "execution_count": 386,
   "id": "4449fc75",
   "metadata": {
    "scrolled": true
   },
   "outputs": [
    {
     "data": {
      "text/html": [
       "<div>\n",
       "<style scoped>\n",
       "    .dataframe tbody tr th:only-of-type {\n",
       "        vertical-align: middle;\n",
       "    }\n",
       "\n",
       "    .dataframe tbody tr th {\n",
       "        vertical-align: top;\n",
       "    }\n",
       "\n",
       "    .dataframe thead th {\n",
       "        text-align: right;\n",
       "    }\n",
       "</style>\n",
       "<table border=\"1\" class=\"dataframe\">\n",
       "  <thead>\n",
       "    <tr style=\"text-align: right;\">\n",
       "      <th></th>\n",
       "      <th>mean_fit_time</th>\n",
       "      <th>std_fit_time</th>\n",
       "      <th>mean_score_time</th>\n",
       "      <th>std_score_time</th>\n",
       "      <th>param_cvec__max_df</th>\n",
       "      <th>param_cvec__min_df</th>\n",
       "      <th>param_cvec__stop_words</th>\n",
       "      <th>param_logreg__C</th>\n",
       "      <th>param_logreg__penalty</th>\n",
       "      <th>param_logreg__solver</th>\n",
       "      <th>params</th>\n",
       "      <th>split0_test_score</th>\n",
       "      <th>split1_test_score</th>\n",
       "      <th>split2_test_score</th>\n",
       "      <th>split3_test_score</th>\n",
       "      <th>split4_test_score</th>\n",
       "      <th>mean_test_score</th>\n",
       "      <th>std_test_score</th>\n",
       "      <th>rank_test_score</th>\n",
       "    </tr>\n",
       "  </thead>\n",
       "  <tbody>\n",
       "    <tr>\n",
       "      <th>5</th>\n",
       "      <td>0.565699</td>\n",
       "      <td>0.011755</td>\n",
       "      <td>0.128044</td>\n",
       "      <td>0.005802</td>\n",
       "      <td>0.8</td>\n",
       "      <td>0.05</td>\n",
       "      <td>english</td>\n",
       "      <td>0.6</td>\n",
       "      <td>l1</td>\n",
       "      <td>liblinear</td>\n",
       "      <td>{'cvec__max_df': 0.8, 'cvec__min_df': 0.05, 'c...</td>\n",
       "      <td>0.956522</td>\n",
       "      <td>0.962733</td>\n",
       "      <td>0.965839</td>\n",
       "      <td>0.965839</td>\n",
       "      <td>0.965732</td>\n",
       "      <td>0.963333</td>\n",
       "      <td>0.003607</td>\n",
       "      <td>1</td>\n",
       "    </tr>\n",
       "    <tr>\n",
       "      <th>9</th>\n",
       "      <td>0.575268</td>\n",
       "      <td>0.009420</td>\n",
       "      <td>0.130244</td>\n",
       "      <td>0.003858</td>\n",
       "      <td>0.6</td>\n",
       "      <td>0.05</td>\n",
       "      <td>english</td>\n",
       "      <td>0.6</td>\n",
       "      <td>l1</td>\n",
       "      <td>liblinear</td>\n",
       "      <td>{'cvec__max_df': 0.6, 'cvec__min_df': 0.05, 'c...</td>\n",
       "      <td>0.956522</td>\n",
       "      <td>0.959627</td>\n",
       "      <td>0.968944</td>\n",
       "      <td>0.965839</td>\n",
       "      <td>0.965732</td>\n",
       "      <td>0.963333</td>\n",
       "      <td>0.004553</td>\n",
       "      <td>1</td>\n",
       "    </tr>\n",
       "    <tr>\n",
       "      <th>1</th>\n",
       "      <td>0.569275</td>\n",
       "      <td>0.010218</td>\n",
       "      <td>0.132846</td>\n",
       "      <td>0.004522</td>\n",
       "      <td>1.0</td>\n",
       "      <td>0.05</td>\n",
       "      <td>english</td>\n",
       "      <td>0.6</td>\n",
       "      <td>l1</td>\n",
       "      <td>liblinear</td>\n",
       "      <td>{'cvec__max_df': 1.0, 'cvec__min_df': 0.05, 'c...</td>\n",
       "      <td>0.953416</td>\n",
       "      <td>0.962733</td>\n",
       "      <td>0.965839</td>\n",
       "      <td>0.965839</td>\n",
       "      <td>0.965732</td>\n",
       "      <td>0.962712</td>\n",
       "      <td>0.004798</td>\n",
       "      <td>3</td>\n",
       "    </tr>\n",
       "    <tr>\n",
       "      <th>4</th>\n",
       "      <td>0.620139</td>\n",
       "      <td>0.025414</td>\n",
       "      <td>0.133445</td>\n",
       "      <td>0.006031</td>\n",
       "      <td>0.8</td>\n",
       "      <td>0.0</td>\n",
       "      <td>english</td>\n",
       "      <td>0.6</td>\n",
       "      <td>l1</td>\n",
       "      <td>liblinear</td>\n",
       "      <td>{'cvec__max_df': 0.8, 'cvec__min_df': 0.0, 'cv...</td>\n",
       "      <td>0.968944</td>\n",
       "      <td>0.950311</td>\n",
       "      <td>0.968944</td>\n",
       "      <td>0.953416</td>\n",
       "      <td>0.968847</td>\n",
       "      <td>0.962092</td>\n",
       "      <td>0.008410</td>\n",
       "      <td>4</td>\n",
       "    </tr>\n",
       "    <tr>\n",
       "      <th>0</th>\n",
       "      <td>0.620539</td>\n",
       "      <td>0.010495</td>\n",
       "      <td>0.139023</td>\n",
       "      <td>0.006553</td>\n",
       "      <td>1.0</td>\n",
       "      <td>0.0</td>\n",
       "      <td>english</td>\n",
       "      <td>0.6</td>\n",
       "      <td>l1</td>\n",
       "      <td>liblinear</td>\n",
       "      <td>{'cvec__max_df': 1.0, 'cvec__min_df': 0.0, 'cv...</td>\n",
       "      <td>0.968944</td>\n",
       "      <td>0.947205</td>\n",
       "      <td>0.968944</td>\n",
       "      <td>0.953416</td>\n",
       "      <td>0.968847</td>\n",
       "      <td>0.961471</td>\n",
       "      <td>0.009322</td>\n",
       "      <td>5</td>\n",
       "    </tr>\n",
       "  </tbody>\n",
       "</table>\n",
       "</div>"
      ],
      "text/plain": [
       "   mean_fit_time  std_fit_time  mean_score_time  std_score_time  \\\n",
       "5       0.565699      0.011755         0.128044        0.005802   \n",
       "9       0.575268      0.009420         0.130244        0.003858   \n",
       "1       0.569275      0.010218         0.132846        0.004522   \n",
       "4       0.620139      0.025414         0.133445        0.006031   \n",
       "0       0.620539      0.010495         0.139023        0.006553   \n",
       "\n",
       "  param_cvec__max_df param_cvec__min_df param_cvec__stop_words  \\\n",
       "5                0.8               0.05                english   \n",
       "9                0.6               0.05                english   \n",
       "1                1.0               0.05                english   \n",
       "4                0.8                0.0                english   \n",
       "0                1.0                0.0                english   \n",
       "\n",
       "  param_logreg__C param_logreg__penalty param_logreg__solver  \\\n",
       "5             0.6                    l1            liblinear   \n",
       "9             0.6                    l1            liblinear   \n",
       "1             0.6                    l1            liblinear   \n",
       "4             0.6                    l1            liblinear   \n",
       "0             0.6                    l1            liblinear   \n",
       "\n",
       "                                              params  split0_test_score  \\\n",
       "5  {'cvec__max_df': 0.8, 'cvec__min_df': 0.05, 'c...           0.956522   \n",
       "9  {'cvec__max_df': 0.6, 'cvec__min_df': 0.05, 'c...           0.956522   \n",
       "1  {'cvec__max_df': 1.0, 'cvec__min_df': 0.05, 'c...           0.953416   \n",
       "4  {'cvec__max_df': 0.8, 'cvec__min_df': 0.0, 'cv...           0.968944   \n",
       "0  {'cvec__max_df': 1.0, 'cvec__min_df': 0.0, 'cv...           0.968944   \n",
       "\n",
       "   split1_test_score  split2_test_score  split3_test_score  split4_test_score  \\\n",
       "5           0.962733           0.965839           0.965839           0.965732   \n",
       "9           0.959627           0.968944           0.965839           0.965732   \n",
       "1           0.962733           0.965839           0.965839           0.965732   \n",
       "4           0.950311           0.968944           0.953416           0.968847   \n",
       "0           0.947205           0.968944           0.953416           0.968847   \n",
       "\n",
       "   mean_test_score  std_test_score  rank_test_score  \n",
       "5         0.963333        0.003607                1  \n",
       "9         0.963333        0.004553                1  \n",
       "1         0.962712        0.004798                3  \n",
       "4         0.962092        0.008410                4  \n",
       "0         0.961471        0.009322                5  "
      ]
     },
     "execution_count": 386,
     "metadata": {},
     "output_type": "execute_result"
    }
   ],
   "source": [
    "pd.DataFrame(gs5.cv_results_).sort_values('rank_test_score').head()"
   ]
  },
  {
   "cell_type": "code",
   "execution_count": 387,
   "id": "cfbe434f",
   "metadata": {},
   "outputs": [],
   "source": [
    "gs5_res = pd.DataFrame(gs5.cv_results_)"
   ]
  },
  {
   "cell_type": "code",
   "execution_count": 388,
   "id": "a840695b",
   "metadata": {},
   "outputs": [
    {
     "data": {
      "text/html": [
       "<div>\n",
       "<style scoped>\n",
       "    .dataframe tbody tr th:only-of-type {\n",
       "        vertical-align: middle;\n",
       "    }\n",
       "\n",
       "    .dataframe tbody tr th {\n",
       "        vertical-align: top;\n",
       "    }\n",
       "\n",
       "    .dataframe thead th {\n",
       "        text-align: right;\n",
       "    }\n",
       "</style>\n",
       "<table border=\"1\" class=\"dataframe\">\n",
       "  <thead>\n",
       "    <tr style=\"text-align: right;\">\n",
       "      <th></th>\n",
       "      <th>mean_fit_time</th>\n",
       "      <th>std_fit_time</th>\n",
       "      <th>mean_score_time</th>\n",
       "      <th>std_score_time</th>\n",
       "      <th>param_cvec__max_df</th>\n",
       "      <th>param_cvec__min_df</th>\n",
       "      <th>param_cvec__stop_words</th>\n",
       "      <th>param_logreg__C</th>\n",
       "      <th>param_logreg__penalty</th>\n",
       "      <th>param_logreg__solver</th>\n",
       "      <th>params</th>\n",
       "      <th>split0_test_score</th>\n",
       "      <th>split1_test_score</th>\n",
       "      <th>split2_test_score</th>\n",
       "      <th>split3_test_score</th>\n",
       "      <th>split4_test_score</th>\n",
       "      <th>mean_test_score</th>\n",
       "      <th>std_test_score</th>\n",
       "      <th>rank_test_score</th>\n",
       "    </tr>\n",
       "  </thead>\n",
       "  <tbody>\n",
       "    <tr>\n",
       "      <th>12</th>\n",
       "      <td>0.629316</td>\n",
       "      <td>0.005170</td>\n",
       "      <td>0.135435</td>\n",
       "      <td>0.002468</td>\n",
       "      <td>0.4</td>\n",
       "      <td>0.0</td>\n",
       "      <td>english</td>\n",
       "      <td>0.6</td>\n",
       "      <td>l1</td>\n",
       "      <td>liblinear</td>\n",
       "      <td>{'cvec__max_df': 0.4, 'cvec__min_df': 0.0, 'cv...</td>\n",
       "      <td>0.962733</td>\n",
       "      <td>0.953416</td>\n",
       "      <td>0.962733</td>\n",
       "      <td>0.953416</td>\n",
       "      <td>0.968847</td>\n",
       "      <td>0.960229</td>\n",
       "      <td>0.005994</td>\n",
       "      <td>6</td>\n",
       "    </tr>\n",
       "    <tr>\n",
       "      <th>13</th>\n",
       "      <td>0.579043</td>\n",
       "      <td>0.021858</td>\n",
       "      <td>0.133445</td>\n",
       "      <td>0.006774</td>\n",
       "      <td>0.4</td>\n",
       "      <td>0.05</td>\n",
       "      <td>english</td>\n",
       "      <td>0.6</td>\n",
       "      <td>l1</td>\n",
       "      <td>liblinear</td>\n",
       "      <td>{'cvec__max_df': 0.4, 'cvec__min_df': 0.05, 'c...</td>\n",
       "      <td>0.953416</td>\n",
       "      <td>0.947205</td>\n",
       "      <td>0.968944</td>\n",
       "      <td>0.944099</td>\n",
       "      <td>0.956386</td>\n",
       "      <td>0.954010</td>\n",
       "      <td>0.008644</td>\n",
       "      <td>8</td>\n",
       "    </tr>\n",
       "    <tr>\n",
       "      <th>14</th>\n",
       "      <td>0.575048</td>\n",
       "      <td>0.009363</td>\n",
       "      <td>0.127936</td>\n",
       "      <td>0.004041</td>\n",
       "      <td>0.4</td>\n",
       "      <td>0.1</td>\n",
       "      <td>english</td>\n",
       "      <td>0.6</td>\n",
       "      <td>l1</td>\n",
       "      <td>liblinear</td>\n",
       "      <td>{'cvec__max_df': 0.4, 'cvec__min_df': 0.1, 'cv...</td>\n",
       "      <td>0.925466</td>\n",
       "      <td>0.922360</td>\n",
       "      <td>0.950311</td>\n",
       "      <td>0.925466</td>\n",
       "      <td>0.931464</td>\n",
       "      <td>0.931013</td>\n",
       "      <td>0.010090</td>\n",
       "      <td>12</td>\n",
       "    </tr>\n",
       "    <tr>\n",
       "      <th>15</th>\n",
       "      <td>0.571469</td>\n",
       "      <td>0.005104</td>\n",
       "      <td>0.127661</td>\n",
       "      <td>0.006509</td>\n",
       "      <td>0.4</td>\n",
       "      <td>0.2</td>\n",
       "      <td>english</td>\n",
       "      <td>0.6</td>\n",
       "      <td>l1</td>\n",
       "      <td>liblinear</td>\n",
       "      <td>{'cvec__max_df': 0.4, 'cvec__min_df': 0.2, 'cv...</td>\n",
       "      <td>0.813665</td>\n",
       "      <td>0.881988</td>\n",
       "      <td>0.919255</td>\n",
       "      <td>0.854037</td>\n",
       "      <td>0.931464</td>\n",
       "      <td>0.880082</td>\n",
       "      <td>0.043053</td>\n",
       "      <td>16</td>\n",
       "    </tr>\n",
       "  </tbody>\n",
       "</table>\n",
       "</div>"
      ],
      "text/plain": [
       "    mean_fit_time  std_fit_time  mean_score_time  std_score_time  \\\n",
       "12       0.629316      0.005170         0.135435        0.002468   \n",
       "13       0.579043      0.021858         0.133445        0.006774   \n",
       "14       0.575048      0.009363         0.127936        0.004041   \n",
       "15       0.571469      0.005104         0.127661        0.006509   \n",
       "\n",
       "   param_cvec__max_df param_cvec__min_df param_cvec__stop_words  \\\n",
       "12                0.4                0.0                english   \n",
       "13                0.4               0.05                english   \n",
       "14                0.4                0.1                english   \n",
       "15                0.4                0.2                english   \n",
       "\n",
       "   param_logreg__C param_logreg__penalty param_logreg__solver  \\\n",
       "12             0.6                    l1            liblinear   \n",
       "13             0.6                    l1            liblinear   \n",
       "14             0.6                    l1            liblinear   \n",
       "15             0.6                    l1            liblinear   \n",
       "\n",
       "                                               params  split0_test_score  \\\n",
       "12  {'cvec__max_df': 0.4, 'cvec__min_df': 0.0, 'cv...           0.962733   \n",
       "13  {'cvec__max_df': 0.4, 'cvec__min_df': 0.05, 'c...           0.953416   \n",
       "14  {'cvec__max_df': 0.4, 'cvec__min_df': 0.1, 'cv...           0.925466   \n",
       "15  {'cvec__max_df': 0.4, 'cvec__min_df': 0.2, 'cv...           0.813665   \n",
       "\n",
       "    split1_test_score  split2_test_score  split3_test_score  \\\n",
       "12           0.953416           0.962733           0.953416   \n",
       "13           0.947205           0.968944           0.944099   \n",
       "14           0.922360           0.950311           0.925466   \n",
       "15           0.881988           0.919255           0.854037   \n",
       "\n",
       "    split4_test_score  mean_test_score  std_test_score  rank_test_score  \n",
       "12           0.968847         0.960229        0.005994                6  \n",
       "13           0.956386         0.954010        0.008644                8  \n",
       "14           0.931464         0.931013        0.010090               12  \n",
       "15           0.931464         0.880082        0.043053               16  "
      ]
     },
     "execution_count": 388,
     "metadata": {},
     "output_type": "execute_result"
    }
   ],
   "source": [
    "gs5_res[gs5_res['param_cvec__max_df'] == .4]"
   ]
  },
  {
   "cell_type": "markdown",
   "id": "c54e48de",
   "metadata": {},
   "source": [
    "Interesting! This appears to be our best performing model! Not only does the top model of gs5 have 96.3% accuracy, but it also has the lowest standard deviation yet at .36%"
   ]
  },
  {
   "cell_type": "markdown",
   "id": "be097de6",
   "metadata": {},
   "source": [
    "### How does our model do with a related subreddit?"
   ]
  },
  {
   "cell_type": "code",
   "execution_count": 389,
   "id": "3f8c176f",
   "metadata": {},
   "outputs": [],
   "source": [
    "questions = pd.read_csv('../data/1646356406_ITCareerQuestions.csv')"
   ]
  },
  {
   "cell_type": "code",
   "execution_count": 390,
   "id": "dd94a9c7",
   "metadata": {},
   "outputs": [
    {
     "data": {
      "text/html": [
       "<div>\n",
       "<style scoped>\n",
       "    .dataframe tbody tr th:only-of-type {\n",
       "        vertical-align: middle;\n",
       "    }\n",
       "\n",
       "    .dataframe tbody tr th {\n",
       "        vertical-align: top;\n",
       "    }\n",
       "\n",
       "    .dataframe thead th {\n",
       "        text-align: right;\n",
       "    }\n",
       "</style>\n",
       "<table border=\"1\" class=\"dataframe\">\n",
       "  <thead>\n",
       "    <tr style=\"text-align: right;\">\n",
       "      <th></th>\n",
       "      <th>author</th>\n",
       "      <th>title</th>\n",
       "      <th>selftext</th>\n",
       "      <th>subreddit</th>\n",
       "      <th>score</th>\n",
       "      <th>created_utc</th>\n",
       "    </tr>\n",
       "  </thead>\n",
       "  <tbody>\n",
       "    <tr>\n",
       "      <th>0</th>\n",
       "      <td>CrustyNippleFlakes</td>\n",
       "      <td>Do you guys ever feel guilty for your salary c...</td>\n",
       "      <td>I'm getting paid 60k a year right now as a sin...</td>\n",
       "      <td>ITCareerQuestions</td>\n",
       "      <td>1</td>\n",
       "      <td>1646353382</td>\n",
       "    </tr>\n",
       "    <tr>\n",
       "      <th>1</th>\n",
       "      <td>MisterPuffyNipples</td>\n",
       "      <td>What's your \"I give up\" story when working at ...</td>\n",
       "      <td>I'm not quitting. I'm just gonna go in and hal...</td>\n",
       "      <td>ITCareerQuestions</td>\n",
       "      <td>1</td>\n",
       "      <td>1646352687</td>\n",
       "    </tr>\n",
       "    <tr>\n",
       "      <th>2</th>\n",
       "      <td>BonesBroberg</td>\n",
       "      <td>Network Administrator Degree, what the classes...</td>\n",
       "      <td>Who has a major in network administration and ...</td>\n",
       "      <td>ITCareerQuestions</td>\n",
       "      <td>1</td>\n",
       "      <td>1646352374</td>\n",
       "    </tr>\n",
       "    <tr>\n",
       "      <th>3</th>\n",
       "      <td>Michaelscott304</td>\n",
       "      <td>Help deciding between 2 offers …I’m stressing ...</td>\n",
       "      <td>I’m really undecided on what to do. My goal is...</td>\n",
       "      <td>ITCareerQuestions</td>\n",
       "      <td>1</td>\n",
       "      <td>1646351286</td>\n",
       "    </tr>\n",
       "    <tr>\n",
       "      <th>4</th>\n",
       "      <td>Smug-Vulture</td>\n",
       "      <td>Recent Cloud/DevOps Engineering Job Hunting Ex...</td>\n",
       "      <td>Throwaway because some people at my current jo...</td>\n",
       "      <td>ITCareerQuestions</td>\n",
       "      <td>1</td>\n",
       "      <td>1646350298</td>\n",
       "    </tr>\n",
       "  </tbody>\n",
       "</table>\n",
       "</div>"
      ],
      "text/plain": [
       "               author                                              title  \\\n",
       "0  CrustyNippleFlakes  Do you guys ever feel guilty for your salary c...   \n",
       "1  MisterPuffyNipples  What's your \"I give up\" story when working at ...   \n",
       "2        BonesBroberg  Network Administrator Degree, what the classes...   \n",
       "3     Michaelscott304  Help deciding between 2 offers …I’m stressing ...   \n",
       "4        Smug-Vulture  Recent Cloud/DevOps Engineering Job Hunting Ex...   \n",
       "\n",
       "                                            selftext          subreddit  \\\n",
       "0  I'm getting paid 60k a year right now as a sin...  ITCareerQuestions   \n",
       "1  I'm not quitting. I'm just gonna go in and hal...  ITCareerQuestions   \n",
       "2  Who has a major in network administration and ...  ITCareerQuestions   \n",
       "3  I’m really undecided on what to do. My goal is...  ITCareerQuestions   \n",
       "4  Throwaway because some people at my current jo...  ITCareerQuestions   \n",
       "\n",
       "   score  created_utc  \n",
       "0      1   1646353382  \n",
       "1      1   1646352687  \n",
       "2      1   1646352374  \n",
       "3      1   1646351286  \n",
       "4      1   1646350298  "
      ]
     },
     "execution_count": 390,
     "metadata": {},
     "output_type": "execute_result"
    }
   ],
   "source": [
    "questions.head()"
   ]
  },
  {
   "cell_type": "code",
   "execution_count": 391,
   "id": "a6e9bc91",
   "metadata": {},
   "outputs": [
    {
     "data": {
      "text/plain": [
       "author         0\n",
       "title          0\n",
       "selftext       0\n",
       "subreddit      0\n",
       "score          0\n",
       "created_utc    0\n",
       "dtype: int64"
      ]
     },
     "execution_count": 391,
     "metadata": {},
     "output_type": "execute_result"
    }
   ],
   "source": [
    "questions.isnull().sum()"
   ]
  },
  {
   "cell_type": "code",
   "execution_count": 520,
   "id": "eeb60735",
   "metadata": {},
   "outputs": [
    {
     "data": {
      "text/plain": [
       "True"
      ]
     },
     "execution_count": 520,
     "metadata": {},
     "output_type": "execute_result"
    }
   ],
   "source": [
    "# All entries are unique\n",
    "questions['selftext'].value_counts().sum() == questions.shape[0]"
   ]
  },
  {
   "cell_type": "code",
   "execution_count": 392,
   "id": "e20d1816",
   "metadata": {},
   "outputs": [
    {
     "data": {
      "text/plain": [
       "(2092, 6)"
      ]
     },
     "execution_count": 392,
     "metadata": {},
     "output_type": "execute_result"
    }
   ],
   "source": [
    "df2 = tech_support.append(questions, ignore_index=True)\n",
    "df2.shape"
   ]
  },
  {
   "cell_type": "code",
   "execution_count": 393,
   "id": "ad599584",
   "metadata": {},
   "outputs": [
    {
     "data": {
      "text/html": [
       "<div>\n",
       "<style scoped>\n",
       "    .dataframe tbody tr th:only-of-type {\n",
       "        vertical-align: middle;\n",
       "    }\n",
       "\n",
       "    .dataframe tbody tr th {\n",
       "        vertical-align: top;\n",
       "    }\n",
       "\n",
       "    .dataframe thead th {\n",
       "        text-align: right;\n",
       "    }\n",
       "</style>\n",
       "<table border=\"1\" class=\"dataframe\">\n",
       "  <thead>\n",
       "    <tr style=\"text-align: right;\">\n",
       "      <th></th>\n",
       "      <th>author</th>\n",
       "      <th>title</th>\n",
       "      <th>selftext</th>\n",
       "      <th>subreddit</th>\n",
       "      <th>score</th>\n",
       "      <th>created_utc</th>\n",
       "    </tr>\n",
       "  </thead>\n",
       "  <tbody>\n",
       "    <tr>\n",
       "      <th>2087</th>\n",
       "      <td>pvtdixynormus</td>\n",
       "      <td>Almost done with associates and not sure the b...</td>\n",
       "      <td>I’m almost done with my associates for CS and ...</td>\n",
       "      <td>ITCareerQuestions</td>\n",
       "      <td>1</td>\n",
       "      <td>1644763296</td>\n",
       "    </tr>\n",
       "    <tr>\n",
       "      <th>2088</th>\n",
       "      <td>shamrok27</td>\n",
       "      <td>Getting a security job without an IT degree or...</td>\n",
       "      <td>Hey folks! I was hoping someone could either g...</td>\n",
       "      <td>ITCareerQuestions</td>\n",
       "      <td>1</td>\n",
       "      <td>1644761778</td>\n",
       "    </tr>\n",
       "    <tr>\n",
       "      <th>2089</th>\n",
       "      <td>Cephalon_Zeash</td>\n",
       "      <td>Sysadmin VS Devops for a highschooler looking ...</td>\n",
       "      <td>As a highschooler looking into various technol...</td>\n",
       "      <td>ITCareerQuestions</td>\n",
       "      <td>1</td>\n",
       "      <td>1644757832</td>\n",
       "    </tr>\n",
       "    <tr>\n",
       "      <th>2090</th>\n",
       "      <td>Opambour-ade3d3hene</td>\n",
       "      <td>I need help with IT Support Coordinator Interv...</td>\n",
       "      <td>I applied for a System Administrator position ...</td>\n",
       "      <td>ITCareerQuestions</td>\n",
       "      <td>1</td>\n",
       "      <td>1644756801</td>\n",
       "    </tr>\n",
       "    <tr>\n",
       "      <th>2091</th>\n",
       "      <td>Obvious-Scallion6963</td>\n",
       "      <td>Where can I find jobs that will teach me SQL? ...</td>\n",
       "      <td>I am entering my senior year in ISM with a his...</td>\n",
       "      <td>ITCareerQuestions</td>\n",
       "      <td>1</td>\n",
       "      <td>1644742802</td>\n",
       "    </tr>\n",
       "  </tbody>\n",
       "</table>\n",
       "</div>"
      ],
      "text/plain": [
       "                    author                                              title  \\\n",
       "2087         pvtdixynormus  Almost done with associates and not sure the b...   \n",
       "2088             shamrok27  Getting a security job without an IT degree or...   \n",
       "2089        Cephalon_Zeash  Sysadmin VS Devops for a highschooler looking ...   \n",
       "2090   Opambour-ade3d3hene  I need help with IT Support Coordinator Interv...   \n",
       "2091  Obvious-Scallion6963  Where can I find jobs that will teach me SQL? ...   \n",
       "\n",
       "                                               selftext          subreddit  \\\n",
       "2087  I’m almost done with my associates for CS and ...  ITCareerQuestions   \n",
       "2088  Hey folks! I was hoping someone could either g...  ITCareerQuestions   \n",
       "2089  As a highschooler looking into various technol...  ITCareerQuestions   \n",
       "2090  I applied for a System Administrator position ...  ITCareerQuestions   \n",
       "2091  I am entering my senior year in ISM with a his...  ITCareerQuestions   \n",
       "\n",
       "      score  created_utc  \n",
       "2087      1   1644763296  \n",
       "2088      1   1644761778  \n",
       "2089      1   1644757832  \n",
       "2090      1   1644756801  \n",
       "2091      1   1644742802  "
      ]
     },
     "execution_count": 393,
     "metadata": {},
     "output_type": "execute_result"
    }
   ],
   "source": [
    "df2.tail()"
   ]
  },
  {
   "cell_type": "code",
   "execution_count": 394,
   "id": "67aa4db4",
   "metadata": {},
   "outputs": [
    {
     "data": {
      "text/html": [
       "<div>\n",
       "<style scoped>\n",
       "    .dataframe tbody tr th:only-of-type {\n",
       "        vertical-align: middle;\n",
       "    }\n",
       "\n",
       "    .dataframe tbody tr th {\n",
       "        vertical-align: top;\n",
       "    }\n",
       "\n",
       "    .dataframe thead th {\n",
       "        text-align: right;\n",
       "    }\n",
       "</style>\n",
       "<table border=\"1\" class=\"dataframe\">\n",
       "  <thead>\n",
       "    <tr style=\"text-align: right;\">\n",
       "      <th></th>\n",
       "      <th>author</th>\n",
       "      <th>title</th>\n",
       "      <th>selftext</th>\n",
       "      <th>subreddit</th>\n",
       "      <th>score</th>\n",
       "      <th>created_utc</th>\n",
       "    </tr>\n",
       "  </thead>\n",
       "  <tbody>\n",
       "    <tr>\n",
       "      <th>0</th>\n",
       "      <td>SonDontPlay</td>\n",
       "      <td>\"Where is the router?\"</td>\n",
       "      <td>A General Officer calls in for urgent tech sup...</td>\n",
       "      <td>1</td>\n",
       "      <td>1183</td>\n",
       "      <td>1638946522</td>\n",
       "    </tr>\n",
       "    <tr>\n",
       "      <th>1</th>\n",
       "      <td>talbourne</td>\n",
       "      <td>With users like this...</td>\n",
       "      <td>I'll be staying at this company for a long tim...</td>\n",
       "      <td>1</td>\n",
       "      <td>1634</td>\n",
       "      <td>1638904166</td>\n",
       "    </tr>\n",
       "    <tr>\n",
       "      <th>2</th>\n",
       "      <td>edhands</td>\n",
       "      <td>Math...what a concept</td>\n",
       "      <td>Back in 2009, our company purchased a horribly...</td>\n",
       "      <td>1</td>\n",
       "      <td>870</td>\n",
       "      <td>1629488107</td>\n",
       "    </tr>\n",
       "    <tr>\n",
       "      <th>3</th>\n",
       "      <td>12altoids34</td>\n",
       "      <td>I'll have you know I've been working on comput...</td>\n",
       "      <td>Thats how the call started. \\n\\nThen she went ...</td>\n",
       "      <td>1</td>\n",
       "      <td>935</td>\n",
       "      <td>1623803260</td>\n",
       "    </tr>\n",
       "    <tr>\n",
       "      <th>4</th>\n",
       "      <td>Gingrpenguin</td>\n",
       "      <td>We need you to tell us our current password. N...</td>\n",
       "      <td>For backstory i worked for a small tech compan...</td>\n",
       "      <td>1</td>\n",
       "      <td>682</td>\n",
       "      <td>1623769022</td>\n",
       "    </tr>\n",
       "  </tbody>\n",
       "</table>\n",
       "</div>"
      ],
      "text/plain": [
       "         author                                              title  \\\n",
       "0   SonDontPlay                             \"Where is the router?\"   \n",
       "1     talbourne                            With users like this...   \n",
       "2       edhands                              Math...what a concept   \n",
       "3   12altoids34  I'll have you know I've been working on comput...   \n",
       "4  Gingrpenguin  We need you to tell us our current password. N...   \n",
       "\n",
       "                                            selftext  subreddit  score  \\\n",
       "0  A General Officer calls in for urgent tech sup...          1   1183   \n",
       "1  I'll be staying at this company for a long tim...          1   1634   \n",
       "2  Back in 2009, our company purchased a horribly...          1    870   \n",
       "3  Thats how the call started. \\n\\nThen she went ...          1    935   \n",
       "4  For backstory i worked for a small tech compan...          1    682   \n",
       "\n",
       "   created_utc  \n",
       "0   1638946522  \n",
       "1   1638904166  \n",
       "2   1629488107  \n",
       "3   1623803260  \n",
       "4   1623769022  "
      ]
     },
     "execution_count": 394,
     "metadata": {},
     "output_type": "execute_result"
    }
   ],
   "source": [
    "df2['subreddit'] = df2['subreddit'].replace({'ITCareerQuestions': 0, 'talesfromtechsupport': 1})\n",
    "df2.head()"
   ]
  },
  {
   "cell_type": "code",
   "execution_count": 395,
   "id": "4d3bfc29",
   "metadata": {},
   "outputs": [
    {
     "data": {
      "text/plain": [
       "1    0.50956\n",
       "0    0.49044\n",
       "Name: subreddit, dtype: float64"
      ]
     },
     "execution_count": 395,
     "metadata": {},
     "output_type": "execute_result"
    }
   ],
   "source": [
    "df2['subreddit'].value_counts(normalize=True)"
   ]
  },
  {
   "cell_type": "code",
   "execution_count": 396,
   "id": "ccf16c6f",
   "metadata": {},
   "outputs": [],
   "source": [
    "df2['clean_selftext'] = df2['selftext'].apply(remove_html)"
   ]
  },
  {
   "cell_type": "code",
   "execution_count": 397,
   "id": "4d8a3b50",
   "metadata": {},
   "outputs": [
    {
     "data": {
      "text/plain": [
       "(2092, 7)"
      ]
     },
     "execution_count": 397,
     "metadata": {},
     "output_type": "execute_result"
    }
   ],
   "source": [
    "df2.shape"
   ]
  },
  {
   "cell_type": "code",
   "execution_count": 398,
   "id": "e878c13a",
   "metadata": {},
   "outputs": [],
   "source": [
    "X2 = df2['clean_selftext']\n",
    "y2 = df2['subreddit']"
   ]
  },
  {
   "cell_type": "code",
   "execution_count": 399,
   "id": "dab75bca",
   "metadata": {},
   "outputs": [
    {
     "data": {
      "text/plain": [
       "((2092,), (2092,))"
      ]
     },
     "execution_count": 399,
     "metadata": {},
     "output_type": "execute_result"
    }
   ],
   "source": [
    "X2.shape, y2.shape"
   ]
  },
  {
   "cell_type": "code",
   "execution_count": 400,
   "id": "226adcf8",
   "metadata": {},
   "outputs": [],
   "source": [
    "# for some reason this was breaking when using stratify...\n",
    "# X_train2, X_test2, y_train2, y_test2 = train_test_split(X2, y2, random_state=42, stratify=y) "
   ]
  },
  {
   "cell_type": "code",
   "execution_count": 401,
   "id": "49469bb6",
   "metadata": {},
   "outputs": [],
   "source": [
    "X_train2, X_test2, y_train2, y_test2 = train_test_split(X2, y2, random_state=42)"
   ]
  },
  {
   "cell_type": "code",
   "execution_count": 420,
   "id": "a39083a2",
   "metadata": {},
   "outputs": [],
   "source": [
    "# Using top performing parameters from earlier tuned model gs5:({'cvec__max_df': 0.8, 'cvec__min_df': 0.05, 'cvec__stop_words': 'english', 'logreg__C': 0.6, 'logreg__penalty': 'l1', 'logreg__solver': 'liblinear'})\n",
    "\n",
    "pipe2 = Pipeline([\n",
    "    ('cvec', CountVectorizer(stop_words='english', max_df=0.8, min_df=0.05)),\n",
    "    ('logreg', LogisticRegression(max_iter=1000, C=0.6, penalty='l1', solver='liblinear'))\n",
    "])"
   ]
  },
  {
   "cell_type": "code",
   "execution_count": 421,
   "id": "5bceba7f",
   "metadata": {},
   "outputs": [
    {
     "data": {
      "text/plain": [
       "Pipeline(steps=[('cvec',\n",
       "                 CountVectorizer(max_df=0.8, min_df=0.05,\n",
       "                                 stop_words='english')),\n",
       "                ('logreg',\n",
       "                 LogisticRegression(C=0.6, max_iter=1000, penalty='l1',\n",
       "                                    solver='liblinear'))])"
      ]
     },
     "execution_count": 421,
     "metadata": {},
     "output_type": "execute_result"
    }
   ],
   "source": [
    "pipe2.fit(X_train2, y_train2)"
   ]
  },
  {
   "cell_type": "code",
   "execution_count": 422,
   "id": "f0fdb7bd",
   "metadata": {},
   "outputs": [
    {
     "data": {
      "text/plain": [
       "1    0.505417\n",
       "0    0.494583\n",
       "Name: subreddit, dtype: float64"
      ]
     },
     "execution_count": 422,
     "metadata": {},
     "output_type": "execute_result"
    }
   ],
   "source": [
    "y_train2.value_counts(normalize=True)"
   ]
  },
  {
   "cell_type": "markdown",
   "id": "b4a0de24",
   "metadata": {},
   "source": [
    "Let's see how we do..."
   ]
  },
  {
   "cell_type": "code",
   "execution_count": 423,
   "id": "6ad4682d",
   "metadata": {},
   "outputs": [
    {
     "name": "stdout",
     "output_type": "stream",
     "text": [
      "Train Score: 0.9980879541108987\n",
      "Test Score: 0.9655831739961759\n",
      "Cross-Val Score: 0.9706741824545695\n"
     ]
    }
   ],
   "source": [
    "print('Train Score:', pipe2.score(X_train2, y_train2))\n",
    "print('Test Score:', pipe2.score(X_test2, y_test2))\n",
    "cross_val2 = cross_val_score(pipe2, X_train2, y_train2)\n",
    "print('Cross-Val Score:', cross_val2.mean())"
   ]
  },
  {
   "cell_type": "code",
   "execution_count": 424,
   "id": "96739b9a",
   "metadata": {},
   "outputs": [
    {
     "name": "stdout",
     "output_type": "stream",
     "text": [
      "Cross-Val Standard Deviation: 0.0071\n",
      "Accuracy range between: 94.9% and 99.2%\n"
     ]
    }
   ],
   "source": [
    "sig_3_2 = cross_val2.std()*3\n",
    "print('Cross-Val Standard Deviation:', '{:.4f}'.format(cross_val2.std()))\n",
    "print('Accuracy range between: ' + str('{:.1f}'.format((cross_val2.mean() - sig_3_2) * 100)) + '% and ' + str('{:.1f}'.format((cross_val2.mean() + sig_3_2) * 100)) + '%')"
   ]
  },
  {
   "cell_type": "code",
   "execution_count": 512,
   "id": "520fe1e5",
   "metadata": {},
   "outputs": [
    {
     "data": {
      "image/png": "[encoded data removed]",
      "text/plain": [
       "<Figure size 432x288 with 2 Axes>"
      ]
     },
     "metadata": {},
     "output_type": "display_data"
    }
   ],
   "source": [
    "ConfusionMatrixDisplay.from_estimator(pipe2, X_test2, y_test2, cmap='hot', display_labels=('Not From Subreddit', 'From Subreddit'));"
   ]
  },
  {
   "cell_type": "code",
   "execution_count": 508,
   "id": "96614f90",
   "metadata": {},
   "outputs": [],
   "source": [
    "pred2 = pipe2.predict(X_test2)"
   ]
  },
  {
   "cell_type": "code",
   "execution_count": 510,
   "id": "81e99ced",
   "metadata": {},
   "outputs": [
    {
     "name": "stdout",
     "output_type": "stream",
     "text": [
      "              precision    recall  f1-score   support\n",
      "\n",
      "           0       0.96      0.97      0.96       250\n",
      "           1       0.97      0.96      0.97       273\n",
      "\n",
      "    accuracy                           0.97       523\n",
      "   macro avg       0.97      0.97      0.97       523\n",
      "weighted avg       0.97      0.97      0.97       523\n",
      "\n"
     ]
    }
   ],
   "source": [
    "print(classification_report(y_test2, pred2))"
   ]
  },
  {
   "cell_type": "markdown",
   "id": "64cf55d9",
   "metadata": {},
   "source": [
    "Excellent! The performance of the model looks excellent when comparing these two subreddits even though their content subject matter was expected to be more similar and assumed to have common terms! Let's look at the key contributors:"
   ]
  },
  {
   "cell_type": "code",
   "execution_count": 425,
   "id": "0383cf6e",
   "metadata": {},
   "outputs": [
    {
     "data": {
      "text/plain": [
       "array([ 0.        ,  0.        ,  0.        ,  0.        ,  0.33122336,\n",
       "        0.        ,  0.        ,  0.        , -0.05099701,  0.67416855,\n",
       "       -0.59158454,  0.        ,  0.        ,  0.        ,  0.58218039,\n",
       "        0.        ,  0.        ,  0.        ,  0.        ,  0.        ,\n",
       "        0.        ,  0.        ,  0.        ,  0.        , -0.07463834,\n",
       "        0.        ,  0.48504916,  0.74792403,  0.        ,  0.        ,\n",
       "        0.        ,  0.47253959,  0.18894929,  0.72882315,  0.        ,\n",
       "        0.29420674,  0.        ,  0.        , -0.17773411,  0.        ,\n",
       "       -0.07292389,  0.        ,  0.        ,  0.54754588,  0.2473075 ,\n",
       "        0.45025701,  0.        ,  0.        ,  0.        ,  0.        ,\n",
       "        0.        ,  0.        ,  0.        ,  0.        ,  0.        ,\n",
       "       -0.02371699,  0.        ,  0.56980742,  0.        ,  0.        ,\n",
       "        0.        ,  0.        ,  0.        ,  0.        ,  0.24420981,\n",
       "        0.        , -0.13167538, -1.07992655,  0.35119346,  0.        ,\n",
       "        0.        ,  0.60292166,  0.        ,  0.        ,  0.        ,\n",
       "       -1.26155949,  0.        ,  0.        , -0.47147765,  0.        ,\n",
       "        0.32626707,  0.        ,  0.05992638,  0.29980525,  0.        ,\n",
       "        0.        ,  0.        ,  0.38585538,  0.25446885,  0.        ,\n",
       "        0.61829876,  0.        ,  0.        ,  0.        ,  0.        ,\n",
       "        0.        ,  0.        ,  0.        ,  0.05932552,  0.        ,\n",
       "        0.        , -1.15164774,  0.        ,  0.        ,  0.        ,\n",
       "       -0.38584793, -0.46251588,  0.28399599,  0.        ,  0.22930584,\n",
       "        0.28359208,  0.        ,  0.        ,  0.        ,  0.        ,\n",
       "        0.17415022,  0.        ,  0.        ,  0.        ,  0.40729127,\n",
       "        0.        ,  0.        ,  0.24658136,  0.        ,  0.        ,\n",
       "        0.71711093,  0.        ,  0.        ,  0.        ,  0.        ,\n",
       "        0.        ,  0.        ,  0.        ,  0.        ,  0.        ,\n",
       "        0.        ,  0.        ,  0.        ,  0.        ,  0.        ,\n",
       "        0.        ,  0.        ,  0.        ,  0.        ,  0.        ,\n",
       "        0.        ,  0.        ,  0.        ,  0.        ,  0.        ,\n",
       "       -0.03528672,  0.        ,  0.        ,  0.        ,  0.        ,\n",
       "        0.        ,  0.        ,  0.        ,  0.        ,  0.52949307,\n",
       "       -0.78685439,  0.        ,  0.        ,  0.        , -0.86072851,\n",
       "       -0.63581711,  0.39509898,  0.        ,  0.        ,  0.        ,\n",
       "        0.        ,  0.17753254,  0.        ,  0.71347966, -1.01424762,\n",
       "        0.        ,  0.        ,  0.        ,  0.10616059,  0.        ,\n",
       "        0.        , -0.00758236,  0.5625781 ,  0.        ,  0.        ,\n",
       "        0.        ,  0.        ,  0.        ,  0.        ,  0.        ,\n",
       "        0.        ,  0.36120631,  0.        , -0.03889114,  0.        ,\n",
       "        0.        ,  0.        ,  0.        ,  0.32067114,  0.        ,\n",
       "        0.09431506,  0.        , -0.14771965,  0.        ,  0.        ,\n",
       "        0.        ,  0.        ,  0.        ,  0.        ,  0.        ,\n",
       "        0.        ,  0.52548853,  0.        ,  0.        ,  0.        ,\n",
       "       -0.87733348,  0.5868572 ,  0.03073396,  0.        ,  0.        ,\n",
       "        0.        ,  0.        ,  0.45053347,  0.        ,  0.65919246,\n",
       "        0.        ,  0.49486909, -0.58601134,  0.21891695,  1.18427848,\n",
       "        1.00061311,  0.        ,  0.29712709,  0.        ,  0.34373951,\n",
       "        0.        ,  0.        ,  0.        ,  0.        , -0.01926849,\n",
       "        0.0675476 ,  0.09431151,  0.        ,  0.57400837,  0.        ,\n",
       "        0.        , -0.36066441,  0.        ,  0.        ,  0.38499218,\n",
       "        0.        ,  0.        ,  0.        ,  0.        ,  0.        ,\n",
       "        0.        ,  0.        ,  0.        ,  0.        , -0.35220884,\n",
       "        0.        ,  0.        ,  0.        ,  0.        ,  0.        ,\n",
       "        0.        , -0.42131551,  0.        ,  0.        ,  0.        ,\n",
       "        0.        ,  0.        ,  0.        ,  0.        ,  0.        ,\n",
       "       -0.63848316,  1.3838022 ,  0.56058561,  0.        ,  0.09710264,\n",
       "        0.        ,  0.        ,  0.01949232,  0.0362269 , -0.01794361,\n",
       "        0.8929381 ,  0.        , -0.04362426,  0.        ,  0.        ,\n",
       "        0.        ,  0.33664616,  0.        ,  0.        ,  0.17905337,\n",
       "        0.        ,  0.        ,  0.        ,  0.        ,  0.        ,\n",
       "        0.        ,  0.        ,  0.42902113,  0.        ,  0.        ,\n",
       "        0.59701501,  0.        ,  0.        ,  0.        ,  0.33639849,\n",
       "        0.        ,  0.        ,  0.        ,  0.        ,  0.41482492,\n",
       "        0.        ,  0.08332344,  0.        ,  0.        ,  0.        ,\n",
       "        0.        ,  0.        ,  0.        ,  0.        ,  0.        ,\n",
       "        0.        ,  0.50378686,  0.        ,  0.        ,  0.35653652,\n",
       "        0.        ,  0.        ,  0.        ,  0.        ,  0.43625516,\n",
       "        0.        ,  0.        ,  0.        ,  0.        ,  0.03721843,\n",
       "        0.1867155 ,  0.        ,  0.        ,  0.        ,  1.0429963 ,\n",
       "        0.        ,  0.        ,  0.        ,  0.        ,  0.        ,\n",
       "        0.03976805,  0.        ,  0.3389513 ,  0.06211688,  0.        ,\n",
       "        0.        ,  0.        ,  0.10521304,  0.        ,  0.96610203,\n",
       "        0.        ,  0.20763738,  0.        , -0.14342751,  0.        ,\n",
       "        0.        , -0.03109564,  0.        ,  0.61910327,  0.59888632,\n",
       "        0.        ,  0.        ,  0.        ,  1.09394356,  0.        ,\n",
       "        0.        ,  0.        ,  0.        ,  0.        ,  0.        ,\n",
       "        0.28296617,  0.        ,  0.        ,  0.        , -0.03593274,\n",
       "        0.22388493,  0.        , -0.03325603,  0.68173128])"
      ]
     },
     "execution_count": 425,
     "metadata": {},
     "output_type": "execute_result"
    }
   ],
   "source": [
    "vectorizer2 = pipe2.named_steps['cvec']\n",
    "classifier2 = pipe2.named_steps['logreg']\n",
    "coefs2 = classifier2.coef_[0]\n",
    "coefs2"
   ]
  },
  {
   "cell_type": "code",
   "execution_count": 426,
   "id": "8638a896",
   "metadata": {},
   "outputs": [
    {
     "data": {
      "text/plain": [
       "array(['10', '20', '30', 'able', 'access', 'account', 'actually', 'admin',\n",
       "       'advice', 'ago', 'answer', 'apparently', 'area', 'ask', 'asked',\n",
       "       'asking', 'away', 'background', 'bad', 'based', 'basic',\n",
       "       'basically', 'best', 'better', 'big', 'bit', 'boss', 'box',\n",
       "       'break', 'building', 'business', 'button', 'cable', 'called',\n",
       "       'calling', 'calls', 'came', 'care', 'career', 'case', 'certs',\n",
       "       'change', 'changed', 'check', 'click', 'client', 'clients',\n",
       "       'close', 'cloud', 'college', 'com', 'come', 'comes', 'coming',\n",
       "       'companies', 'company', 'completely', 'computer', 'computers',\n",
       "       'connect', 'contract', 'conversation', 'correct', 'couldn',\n",
       "       'couple', 'course', 'current', 'currently', 'customer',\n",
       "       'customers', 'data', 'day', 'days', 'deal', 'decided', 'degree',\n",
       "       'department', 'desk', 'desktop', 'did', 'didn', 'different',\n",
       "       'does', 'doesn', 'doing', 'don', 'door', 'dr', 'drive', 'easy',\n",
       "       'email', 'emails', 'employees', 'end', 'engineer', 'entire',\n",
       "       'entry', 'equipment', 'error', 'eventually', 'exactly',\n",
       "       'experience', 'explain', 'fact', 'far', 'feel', 'field', 'figure',\n",
       "       'finally', 'fine', 'fix', 'fixed', 'following', 'free', 'gave',\n",
       "       'gets', 'getting', 'given', 'goes', 'going', 'gone', 'good', 'got',\n",
       "       'great', 'guess', 'guy', 'guys', 'half', 'hand', 'hands',\n",
       "       'happened', 'happens', 'happy', 'hard', 'hardware', 'haven',\n",
       "       'having', 'head', 'hear', 'heard', 'hello', 'help', 'helpdesk',\n",
       "       'hey', 'hi', 'high', 'hit', 'hold', 'home', 'hour', 'hours',\n",
       "       'https', 'idea', 'immediately', 'important', 'information',\n",
       "       'install', 'installed', 'instead', 'internet', 'interview', 'isn',\n",
       "       'issue', 'issues', 'job', 'jobs', 'just', 'kind', 'knew', 'know',\n",
       "       'knowledge', 'laptop', 'large', 'later', 'learn', 'learning',\n",
       "       'leave', 'left', 'let', 'level', 'life', 'like', 'line',\n",
       "       'literally', 'little', 'live', 'll', 'local', 'log', 'long',\n",
       "       'longer', 'look', 'looked', 'looking', 'looks', 'lost', 'lot',\n",
       "       'love', 'machine', 'main', 'make', 'makes', 'making', 'management',\n",
       "       'manager', 'maybe', 'mean', 'means', 'meeting', 'mind', 'minute',\n",
       "       'minutes', 'moment', 'money', 'month', 'months', 'morning', 'need',\n",
       "       'needed', 'needs', 'network', 'networking', 'new', 'nice', 'night',\n",
       "       'note', 'number', 'offer', 'office', 'oh', 'ok', 'okay', 'old',\n",
       "       'online', 'open', 'order', 'outside', 'password', 'past', 'pay',\n",
       "       'pc', 'people', 'person', 'phone', 'place', 'point', 'position',\n",
       "       'possible', 'post', 'power', 'pretty', 'previous', 'probably',\n",
       "       'problem', 'problems', 'process', 'program', 'project', 'question',\n",
       "       'questions', 'quick', 'quickly', 'quite', 'read', 'reading',\n",
       "       'real', 'really', 'reason', 'received', 'recently', 'related',\n",
       "       'remember', 'remote', 'resume', 'right', 'role', 'room', 'run',\n",
       "       'running', 'said', 'saw', 'say', 'saying', 'says', 'school',\n",
       "       'screen', 'second', 'security', 'seen', 'send', 'sent', 'server',\n",
       "       'servers', 'service', 'set', 'setting', 'share', 'short', 'simple',\n",
       "       'site', 'situation', 'skills', 'small', 'software', 'soon',\n",
       "       'sorry', 'sort', 'spent', 'staff', 'start', 'started', 'starting',\n",
       "       'starts', 'stop', 'story', 'stuff', 'support', 'supposed', 'sure',\n",
       "       'switch', 'systems', 'takes', 'taking', 'talk', 'talking', 'team',\n",
       "       'tech', 'technical', 'technology', 'tell', 'telling', 'test',\n",
       "       'thank', 'thanks', 'thing', 'things', 'think', 'thinking',\n",
       "       'thought', 'ticket', 'time', 'times', 'title', 'tl', 'today',\n",
       "       'told', 'took', 'training', 'tried', 'troubleshooting', 'try',\n",
       "       'trying', 'turn', 'turned', 'turns', 'type', 'understand', 'use',\n",
       "       'used', 'user', 'users', 'using', 'usually', 've', 'wait', 'walk',\n",
       "       'want', 'wanted', 'wants', 'wasn', 'way', 'week', 'weeks', 'went',\n",
       "       'windows', 'won', 'wondering', 'work', 'worked', 'working',\n",
       "       'works', 'worth', 'wouldn', 'wrong', 'x200b', 'yeah', 'year',\n",
       "       'years', 'yes'], dtype=object)"
      ]
     },
     "execution_count": 426,
     "metadata": {},
     "output_type": "execute_result"
    }
   ],
   "source": [
    "features2 = vectorizer2.get_feature_names_out()\n",
    "features2"
   ]
  },
  {
   "cell_type": "code",
   "execution_count": 427,
   "id": "e94b3925",
   "metadata": {},
   "outputs": [],
   "source": [
    "feature_coefs2 = pd.Series(index=features2, data=coefs2)\n",
    "sorted_features2 = feature_coefs2.sort_values(ascending=False)"
   ]
  },
  {
   "cell_type": "code",
   "execution_count": 428,
   "id": "1bd0080b",
   "metadata": {},
   "outputs": [
    {
     "data": {
      "text/plain": [
       "room       1.383802\n",
       "oh         1.184278\n",
       "went       1.093944\n",
       "today      1.042996\n",
       "ok         1.000613\n",
       "user       0.966102\n",
       "screen     0.892938\n",
       "box        0.747924\n",
       "called     0.728823\n",
       "guy        0.717111\n",
       "later      0.713480\n",
       "yes        0.681731\n",
       "ago        0.674169\n",
       "night      0.659192\n",
       "wants      0.619103\n",
       "email      0.618299\n",
       "day        0.602922\n",
       "wasn       0.598886\n",
       "sorry      0.597015\n",
       "morning    0.586857\n",
       "dtype: float64"
      ]
     },
     "execution_count": 428,
     "metadata": {},
     "output_type": "execute_result"
    }
   ],
   "source": [
    "sorted_features2.head(20)"
   ]
  },
  {
   "cell_type": "code",
   "execution_count": 429,
   "id": "0b8e847b",
   "metadata": {},
   "outputs": [
    {
     "data": {
      "text/plain": [
       "ve           -0.143428\n",
       "making       -0.147720\n",
       "career       -0.177734\n",
       "questions    -0.352209\n",
       "position     -0.360664\n",
       "feel         -0.385848\n",
       "really       -0.421316\n",
       "field        -0.462516\n",
       "desktop      -0.471478\n",
       "offer        -0.586011\n",
       "answer       -0.591585\n",
       "jobs         -0.635817\n",
       "role         -0.638483\n",
       "interview    -0.786854\n",
       "job          -0.860729\n",
       "months       -0.877333\n",
       "learn        -1.014248\n",
       "currently    -1.079927\n",
       "experience   -1.151648\n",
       "degree       -1.261559\n",
       "dtype: float64"
      ]
     },
     "execution_count": 429,
     "metadata": {},
     "output_type": "execute_result"
    }
   ],
   "source": [
    "sorted_features2.tail(20)"
   ]
  },
  {
   "cell_type": "markdown",
   "id": "63e7ef75",
   "metadata": {},
   "source": [
    "Well, that explains it! Although it is an IT subreddit, the main focus of the content is on career development, and as such we see terms that really only make sense in that context."
   ]
  },
  {
   "cell_type": "code",
   "execution_count": null,
   "id": "32aafdbb",
   "metadata": {},
   "outputs": [],
   "source": []
  },
  {
   "cell_type": "code",
   "execution_count": 279,
   "id": "319e7de8",
   "metadata": {},
   "outputs": [
    {
     "name": "stderr",
     "output_type": "stream",
     "text": [
      "C:\\Users\\musou\\Anaconda3\\lib\\site-packages\\sklearn\\utils\\deprecation.py:87: FutureWarning: Function plot_roc_curve is deprecated; Function :func:`plot_roc_curve` is deprecated in 1.0 and will be removed in 1.2. Use one of the class methods: :meth:`sklearn.metric.RocCurveDisplay.from_predictions` or :meth:`sklearn.metric.RocCurveDisplay.from_estimator`.\n",
      "  warnings.warn(msg, category=FutureWarning)\n"
     ]
    },
    {
     "data": {
      "image/png": "[encoded data removed]",
      "text/plain": [
       "<Figure size 432x288 with 1 Axes>"
      ]
     },
     "metadata": {
      "needs_background": "light"
     },
     "output_type": "display_data"
    }
   ],
   "source": [
    "# ROC curve\n",
    "plot_roc_curve(pipe2, X_test2, y_test2)\n",
    "# add worst case scenario line\n",
    "plt.plot([0,1], [0,1], color='r', label='Baseline')\n",
    "# add a legend\n",
    "plt.legend();"
   ]
  },
  {
   "cell_type": "code",
   "execution_count": 430,
   "id": "bd6361ce",
   "metadata": {},
   "outputs": [
    {
     "data": {
      "text/html": [
       "<div>\n",
       "<style scoped>\n",
       "    .dataframe tbody tr th:only-of-type {\n",
       "        vertical-align: middle;\n",
       "    }\n",
       "\n",
       "    .dataframe tbody tr th {\n",
       "        vertical-align: top;\n",
       "    }\n",
       "\n",
       "    .dataframe thead th {\n",
       "        text-align: right;\n",
       "    }\n",
       "</style>\n",
       "<table border=\"1\" class=\"dataframe\">\n",
       "  <thead>\n",
       "    <tr style=\"text-align: right;\">\n",
       "      <th></th>\n",
       "      <th>true_values</th>\n",
       "      <th>pred_probs</th>\n",
       "    </tr>\n",
       "  </thead>\n",
       "  <tbody>\n",
       "    <tr>\n",
       "      <th>150</th>\n",
       "      <td>1</td>\n",
       "      <td>8.772184e-01</td>\n",
       "    </tr>\n",
       "    <tr>\n",
       "      <th>1345</th>\n",
       "      <td>0</td>\n",
       "      <td>2.007860e-05</td>\n",
       "    </tr>\n",
       "    <tr>\n",
       "      <th>1957</th>\n",
       "      <td>0</td>\n",
       "      <td>2.332188e-02</td>\n",
       "    </tr>\n",
       "    <tr>\n",
       "      <th>1792</th>\n",
       "      <td>0</td>\n",
       "      <td>2.295138e-02</td>\n",
       "    </tr>\n",
       "    <tr>\n",
       "      <th>1707</th>\n",
       "      <td>0</td>\n",
       "      <td>1.201654e-12</td>\n",
       "    </tr>\n",
       "  </tbody>\n",
       "</table>\n",
       "</div>"
      ],
      "text/plain": [
       "      true_values    pred_probs\n",
       "150             1  8.772184e-01\n",
       "1345            0  2.007860e-05\n",
       "1957            0  2.332188e-02\n",
       "1792            0  2.295138e-02\n",
       "1707            0  1.201654e-12"
      ]
     },
     "execution_count": 430,
     "metadata": {},
     "output_type": "execute_result"
    }
   ],
   "source": [
    "pred_df = pd.DataFrame({'true_values': y_test,\n",
    "                        'pred_probs': gs2.predict_proba(X_test_st)[:,1]})\n",
    "\n",
    "pred_df.head()"
   ]
  },
  {
   "cell_type": "code",
   "execution_count": 521,
   "id": "bc8ab275",
   "metadata": {},
   "outputs": [
    {
     "name": "stderr",
     "output_type": "stream",
     "text": [
      "C:\\Users\\musou\\Anaconda3\\lib\\site-packages\\seaborn\\distributions.py:2619: FutureWarning: `distplot` is a deprecated function and will be removed in a future version. Please adapt your code to use either `displot` (a figure-level function with similar flexibility) or `histplot` (an axes-level function for histograms).\n",
      "  warnings.warn(msg, FutureWarning)\n"
     ]
    },
    {
     "data": {
      "image/png": "[encoded data removed]",
      "text/plain": [
       "<Figure size 864x360 with 1 Axes>"
      ]
     },
     "metadata": {},
     "output_type": "display_data"
    }
   ],
   "source": [
    "plt.figure(figsize = (12, 5))\n",
    "\n",
    "# plot distributions of predicted probabilities by actual values\n",
    "for group in pred_df.groupby('true_values'):\n",
    "    sns.distplot(group[1], kde = False, bins = 20, label = f'Actual Outcome = {group[0]}')\n",
    "\n",
    "# Add cutoff line\n",
    "plt.axvline(.5, color='r')\n",
    "\n",
    "plt.xlabel('Predicted Probability that Outcome = 1', fontsize=14)\n",
    "plt.ylabel('Count', fontsize=14)\n",
    "plt.title('Probability Distributions for is post from \"r/TalesFromTechSupport\" (vs \"r/TalesFromRetail\")', fontsize=16)\n",
    "plt.legend(bbox_to_anchor=(1.02, 1), loc=2, borderaxespad=0);"
   ]
  },
  {
   "cell_type": "code",
   "execution_count": 432,
   "id": "693d705a",
   "metadata": {},
   "outputs": [
    {
     "data": {
      "text/html": [
       "<div>\n",
       "<style scoped>\n",
       "    .dataframe tbody tr th:only-of-type {\n",
       "        vertical-align: middle;\n",
       "    }\n",
       "\n",
       "    .dataframe tbody tr th {\n",
       "        vertical-align: top;\n",
       "    }\n",
       "\n",
       "    .dataframe thead th {\n",
       "        text-align: right;\n",
       "    }\n",
       "</style>\n",
       "<table border=\"1\" class=\"dataframe\">\n",
       "  <thead>\n",
       "    <tr style=\"text-align: right;\">\n",
       "      <th></th>\n",
       "      <th>true_values</th>\n",
       "      <th>pred_probs</th>\n",
       "    </tr>\n",
       "  </thead>\n",
       "  <tbody>\n",
       "    <tr>\n",
       "      <th>1280</th>\n",
       "      <td>0</td>\n",
       "      <td>0.165124</td>\n",
       "    </tr>\n",
       "    <tr>\n",
       "      <th>29</th>\n",
       "      <td>1</td>\n",
       "      <td>0.936692</td>\n",
       "    </tr>\n",
       "    <tr>\n",
       "      <th>210</th>\n",
       "      <td>1</td>\n",
       "      <td>0.999939</td>\n",
       "    </tr>\n",
       "    <tr>\n",
       "      <th>1730</th>\n",
       "      <td>0</td>\n",
       "      <td>0.000019</td>\n",
       "    </tr>\n",
       "    <tr>\n",
       "      <th>584</th>\n",
       "      <td>1</td>\n",
       "      <td>0.999220</td>\n",
       "    </tr>\n",
       "  </tbody>\n",
       "</table>\n",
       "</div>"
      ],
      "text/plain": [
       "      true_values  pred_probs\n",
       "1280            0    0.165124\n",
       "29              1    0.936692\n",
       "210             1    0.999939\n",
       "1730            0    0.000019\n",
       "584             1    0.999220"
      ]
     },
     "execution_count": 432,
     "metadata": {},
     "output_type": "execute_result"
    }
   ],
   "source": [
    "# approach from https://git.generalassemb.ly/DSIR-0124/lesson-classification-metrics-ii/blob/master/starter-code.ipynb\n",
    "\n",
    "pred_df2 = pd.DataFrame({'true_values': y_test2,\n",
    "                        'pred_probs': pipe2.predict_proba(X_test2)[:,1]})\n",
    "\n",
    "pred_df2.head()"
   ]
  },
  {
   "cell_type": "code",
   "execution_count": 522,
   "id": "f0616727",
   "metadata": {},
   "outputs": [
    {
     "data": {
      "image/png": "[encoded data removed]",
      "text/plain": [
       "<Figure size 864x360 with 1 Axes>"
      ]
     },
     "metadata": {},
     "output_type": "display_data"
    }
   ],
   "source": [
    "plt.figure(figsize = (12, 5))\n",
    "\n",
    "# plot distributions of predicted probabilities by actual values\n",
    "for group in pred_df2.groupby('true_values'):\n",
    "    sns.distplot(group[1], kde = False, bins = 20, label = f'Actual Outcome = {group[0]}')\n",
    "\n",
    "# Add cutoff line\n",
    "plt.axvline(.5, color='r')\n",
    "\n",
    "plt.xlabel('Predicted Probability that Outcome = 1', fontsize=14)\n",
    "plt.ylabel('Count', fontsize=14)\n",
    "plt.title('Probability Distributions for is post from \"r/TalesFromTechSupport\" (vs \"r/ITCareerQuestions\")', fontsize=16)\n",
    "plt.legend(bbox_to_anchor=(1.02, 1), loc=2, borderaxespad=0);"
   ]
  },
  {
   "cell_type": "markdown",
   "id": "e65daa96",
   "metadata": {},
   "source": [
    "Let's look at where the model got the predictions wrong"
   ]
  },
  {
   "cell_type": "code",
   "execution_count": 434,
   "id": "aab7d21e",
   "metadata": {},
   "outputs": [
    {
     "data": {
      "text/html": [
       "<div>\n",
       "<style scoped>\n",
       "    .dataframe tbody tr th:only-of-type {\n",
       "        vertical-align: middle;\n",
       "    }\n",
       "\n",
       "    .dataframe tbody tr th {\n",
       "        vertical-align: top;\n",
       "    }\n",
       "\n",
       "    .dataframe thead th {\n",
       "        text-align: right;\n",
       "    }\n",
       "</style>\n",
       "<table border=\"1\" class=\"dataframe\">\n",
       "  <thead>\n",
       "    <tr style=\"text-align: right;\">\n",
       "      <th></th>\n",
       "      <th>true_values</th>\n",
       "      <th>pred_probs</th>\n",
       "    </tr>\n",
       "  </thead>\n",
       "  <tbody>\n",
       "    <tr>\n",
       "      <th>829</th>\n",
       "      <td>1</td>\n",
       "      <td>0.210270</td>\n",
       "    </tr>\n",
       "    <tr>\n",
       "      <th>605</th>\n",
       "      <td>1</td>\n",
       "      <td>0.477885</td>\n",
       "    </tr>\n",
       "    <tr>\n",
       "      <th>409</th>\n",
       "      <td>1</td>\n",
       "      <td>0.143615</td>\n",
       "    </tr>\n",
       "    <tr>\n",
       "      <th>788</th>\n",
       "      <td>1</td>\n",
       "      <td>0.254940</td>\n",
       "    </tr>\n",
       "    <tr>\n",
       "      <th>184</th>\n",
       "      <td>1</td>\n",
       "      <td>0.153382</td>\n",
       "    </tr>\n",
       "    <tr>\n",
       "      <th>808</th>\n",
       "      <td>1</td>\n",
       "      <td>0.128394</td>\n",
       "    </tr>\n",
       "    <tr>\n",
       "      <th>599</th>\n",
       "      <td>1</td>\n",
       "      <td>0.039829</td>\n",
       "    </tr>\n",
       "    <tr>\n",
       "      <th>256</th>\n",
       "      <td>1</td>\n",
       "      <td>0.015106</td>\n",
       "    </tr>\n",
       "    <tr>\n",
       "      <th>757</th>\n",
       "      <td>1</td>\n",
       "      <td>0.029156</td>\n",
       "    </tr>\n",
       "    <tr>\n",
       "      <th>907</th>\n",
       "      <td>1</td>\n",
       "      <td>0.083136</td>\n",
       "    </tr>\n",
       "    <tr>\n",
       "      <th>331</th>\n",
       "      <td>1</td>\n",
       "      <td>0.410865</td>\n",
       "    </tr>\n",
       "  </tbody>\n",
       "</table>\n",
       "</div>"
      ],
      "text/plain": [
       "     true_values  pred_probs\n",
       "829            1    0.210270\n",
       "605            1    0.477885\n",
       "409            1    0.143615\n",
       "788            1    0.254940\n",
       "184            1    0.153382\n",
       "808            1    0.128394\n",
       "599            1    0.039829\n",
       "256            1    0.015106\n",
       "757            1    0.029156\n",
       "907            1    0.083136\n",
       "331            1    0.410865"
      ]
     },
     "execution_count": 434,
     "metadata": {},
     "output_type": "execute_result"
    }
   ],
   "source": [
    "false_neg_2 = pred_df2[(pred_df2['true_values'] == 1) & (pred_df2['pred_probs'] < .5)]\n",
    "false_neg_2"
   ]
  },
  {
   "cell_type": "code",
   "execution_count": 435,
   "id": "33dfbb16",
   "metadata": {},
   "outputs": [
    {
     "data": {
      "text/html": [
       "<div>\n",
       "<style scoped>\n",
       "    .dataframe tbody tr th:only-of-type {\n",
       "        vertical-align: middle;\n",
       "    }\n",
       "\n",
       "    .dataframe tbody tr th {\n",
       "        vertical-align: top;\n",
       "    }\n",
       "\n",
       "    .dataframe thead th {\n",
       "        text-align: right;\n",
       "    }\n",
       "</style>\n",
       "<table border=\"1\" class=\"dataframe\">\n",
       "  <thead>\n",
       "    <tr style=\"text-align: right;\">\n",
       "      <th></th>\n",
       "      <th>true_values</th>\n",
       "      <th>pred_probs</th>\n",
       "    </tr>\n",
       "  </thead>\n",
       "  <tbody>\n",
       "    <tr>\n",
       "      <th>1959</th>\n",
       "      <td>0</td>\n",
       "      <td>0.651244</td>\n",
       "    </tr>\n",
       "    <tr>\n",
       "      <th>1176</th>\n",
       "      <td>0</td>\n",
       "      <td>0.999929</td>\n",
       "    </tr>\n",
       "    <tr>\n",
       "      <th>1988</th>\n",
       "      <td>0</td>\n",
       "      <td>0.829151</td>\n",
       "    </tr>\n",
       "    <tr>\n",
       "      <th>2084</th>\n",
       "      <td>0</td>\n",
       "      <td>0.999004</td>\n",
       "    </tr>\n",
       "    <tr>\n",
       "      <th>1302</th>\n",
       "      <td>0</td>\n",
       "      <td>0.996717</td>\n",
       "    </tr>\n",
       "    <tr>\n",
       "      <th>1900</th>\n",
       "      <td>0</td>\n",
       "      <td>0.744780</td>\n",
       "    </tr>\n",
       "    <tr>\n",
       "      <th>1519</th>\n",
       "      <td>0</td>\n",
       "      <td>0.987128</td>\n",
       "    </tr>\n",
       "  </tbody>\n",
       "</table>\n",
       "</div>"
      ],
      "text/plain": [
       "      true_values  pred_probs\n",
       "1959            0    0.651244\n",
       "1176            0    0.999929\n",
       "1988            0    0.829151\n",
       "2084            0    0.999004\n",
       "1302            0    0.996717\n",
       "1900            0    0.744780\n",
       "1519            0    0.987128"
      ]
     },
     "execution_count": 435,
     "metadata": {},
     "output_type": "execute_result"
    }
   ],
   "source": [
    "false_pos_2 = pred_df2[(pred_df2['true_values'] == 0) & (pred_df2['pred_probs'] > .5)]\n",
    "false_pos_2"
   ]
  },
  {
   "cell_type": "code",
   "execution_count": 436,
   "id": "ac5633db",
   "metadata": {},
   "outputs": [
    {
     "data": {
      "text/plain": [
       "829    we have a performance benchmarking environment...\n",
       "605    hey guys, i work for a small msp that supports...\n",
       "409    good afternoon tfts! got a short and sweet one...\n",
       "788    i do support for a web application. the app it...\n",
       "184    in the grim, dark future of the 21st millenniu...\n",
       "808    i fell into a role assisting our service desk ...\n",
       "599    my father recently passed away, and he worked ...\n",
       "256    our company consists of 8 different locations,...\n",
       "757    quick family tech support with a life lesson.\\...\n",
       "907    this is my first post ever on reddit, so pleas...\n",
       "331    one of our clients called in complaining that ...\n",
       "Name: clean_selftext, dtype: object"
      ]
     },
     "execution_count": 436,
     "metadata": {},
     "output_type": "execute_result"
    }
   ],
   "source": [
    "X2[false_neg_2.index]"
   ]
  },
  {
   "cell_type": "code",
   "execution_count": 437,
   "id": "a828a827",
   "metadata": {},
   "outputs": [
    {
     "data": {
      "text/plain": [
       "1959    my career so far... \\n\\n* 2008 - 2013 ($11.50 ...\n",
       "1176    i work with an it service provider. we have cl...\n",
       "1988    on 2/7 i started a new remote it position wher...\n",
       "2084    i'm l1 helpdesk and i feel like i'm learning n...\n",
       "1302    i’m currently a sr desktop support tech, but a...\n",
       "1900    sorry for the wall of text:\\n\\n&#x200b;\\n\\nhi ...\n",
       "1519    **tldr:** coding/scripting, server administrat...\n",
       "Name: clean_selftext, dtype: object"
      ]
     },
     "execution_count": 437,
     "metadata": {},
     "output_type": "execute_result"
    }
   ],
   "source": [
    "X2[false_pos_2.index]"
   ]
  },
  {
   "cell_type": "markdown",
   "id": "3cd89d97",
   "metadata": {},
   "source": [
    "Lets look at some of the qualities of these posts to see if anything stands out"
   ]
  },
  {
   "cell_type": "code",
   "execution_count": 438,
   "id": "72965f98",
   "metadata": {},
   "outputs": [
    {
     "data": {
      "text/plain": [
       "829    256\n",
       "605    199\n",
       "409    241\n",
       "788    138\n",
       "184    149\n",
       "808    197\n",
       "599     32\n",
       "256    228\n",
       "757    212\n",
       "907    179\n",
       "331    136\n",
       "Name: clean_selftext, dtype: int64"
      ]
     },
     "execution_count": 438,
     "metadata": {},
     "output_type": "execute_result"
    }
   ],
   "source": [
    "X2[false_neg_2.index].str.split().str.len()"
   ]
  },
  {
   "cell_type": "code",
   "execution_count": 445,
   "id": "b242f7f2",
   "metadata": {},
   "outputs": [
    {
     "data": {
      "text/plain": [
       "(178.8181818181818, 189.7974518461002)"
      ]
     },
     "execution_count": 445,
     "metadata": {},
     "output_type": "execute_result"
    }
   ],
   "source": [
    "X2[false_neg_2.index].str.split().str.len().mean(), 3 * X2[false_neg_2.index].str.split().str.len().std(), "
   ]
  },
  {
   "cell_type": "code",
   "execution_count": 442,
   "id": "6ac50bd3",
   "metadata": {},
   "outputs": [
    {
     "data": {
      "text/plain": [
       "1959    675\n",
       "1176    675\n",
       "1988    439\n",
       "2084    441\n",
       "1302    488\n",
       "1900    438\n",
       "1519    818\n",
       "Name: clean_selftext, dtype: int64"
      ]
     },
     "execution_count": 442,
     "metadata": {},
     "output_type": "execute_result"
    }
   ],
   "source": [
    "X2[false_pos_2.index].str.split().str.len()"
   ]
  },
  {
   "cell_type": "code",
   "execution_count": 444,
   "id": "ad0e2e13",
   "metadata": {},
   "outputs": [
    {
     "data": {
      "text/plain": [
       "(567.7142857142857, 460.65295272812796)"
      ]
     },
     "execution_count": 444,
     "metadata": {},
     "output_type": "execute_result"
    }
   ],
   "source": [
    "X2[false_pos_2.index].str.split().str.len().mean(), 3 * X2[false_pos_2.index].str.split().str.len().std(), "
   ]
  },
  {
   "cell_type": "code",
   "execution_count": 447,
   "id": "57e18709",
   "metadata": {},
   "outputs": [
    {
     "data": {
      "text/plain": [
       "(334.2098470363289, 326.4834626744227)"
      ]
     },
     "execution_count": 447,
     "metadata": {},
     "output_type": "execute_result"
    }
   ],
   "source": [
    "X2.str.split().str.len().mean(), X2.str.split().str.len().std()"
   ]
  },
  {
   "cell_type": "markdown",
   "id": "d2bf8044",
   "metadata": {},
   "source": [
    "This one had 99.9% confidence that this was from r/TalesFromTechSupport, how did it get it wrong...?"
   ]
  },
  {
   "cell_type": "code",
   "execution_count": 448,
   "id": "9732d94b",
   "metadata": {},
   "outputs": [
    {
     "data": {
      "text/plain": [
       "\"i'm l1 helpdesk and i feel like i'm learning nothing which is ironic considering i'm supposed to be wearing many hats. here are a few examples  of the environment and why i'm learning very little and also why i'm stressed out to capacity \\n\\na user calls to say she needs access to an old account. i look the account up in ad and it's disabled. command prompt says the password expired in 2019. there's no knowledge base or any documentation so i don't even know where to begin. this particular day there was no one to ask directly. other days the answers i get are brief because there's 4 technicians and 4000 users.  i tell her i'll try to find someone from the team who can help. later, i see a note from the network admin about accessing a different email address and this old account is getting its emails forwarded to this other address. the caller calls back after seeing  this email and says it's still not accessible, she needs access to the actual account and a whole bunch of other questions i can't answer because i don't know. she sounds like she's on the verge of tears because she can't do her job without access. i reach out to the network admin with the hope he will contact her. but now i feel bad because i couldn't do anything to help\\n\\n another failed call. \\n\\n\\nnext we have what should have been a simple call but again without any resources i'm essentially helpless. i do have notes but they only go so far. anyway this guy just wants a password reset. now we all know that's easy. find the user in ad and reset  his password, right? wrong\\n\\nthe infrastructure of this place is a nightmare. even if that was the solution first you have to find out what location they're in because there's a remote server list depending on if they're on our server or not. but there's no way to know if their location matches the locations mentioned in the remote  server list \\n\\nthen the question is what password are they resetting? email? desktop? laptop? does reseating one change them all? are they on vpn? anyway i try just to reset it in ad but it has no affect. later a l3 contacts the user with instructions on how to change his password. and they basically say to login and go to settings and from there you can....wait....login? how do they login if they don't know their password? \\n\\ni ask the l3 this in chat. he says nothing.\\n\\ni don't know how much longer i can do this\""
      ]
     },
     "execution_count": 448,
     "metadata": {},
     "output_type": "execute_result"
    }
   ],
   "source": [
    "X2[2084]"
   ]
  },
  {
   "cell_type": "markdown",
   "id": "7fd0ab58",
   "metadata": {},
   "source": [
    "Okay, well, that makes a lot more sense. This user posted on the r/ITCareerQuestions forum, but this kind of post doesn't actually ask a question, and is by all indications much more a TFIT post than a ITCQ post. \n",
    "\n",
    "This actually demonstrates directly an applicable use of this type of model: if the poster had written this piece irrespective of the subreddit/forum they were going to post to, this model could have made a recommendation to them of where this post would be best fit, and everyone would have a better experience with regards to this post. This can apply to subject matter area labels within the workplace just as directly. It seems it would just be a matter of having an appropriate number of models trained according to the areas of interest/specialization, and a team would be able to automatically categorize any text produced within the company by relevance, even if the originating other is not present. "
   ]
  },
  {
   "cell_type": "code",
   "execution_count": 449,
   "id": "0e039fa6",
   "metadata": {},
   "outputs": [
    {
     "data": {
      "text/plain": [
       "'my father recently passed away, and he worked in it support. he requested to have ctrl\\\\+alt\\\\+del on his tombstone, i thought you guys would appreciate it. rip dad you lovely geek.\\n\\n[https://imgur.com/u1qnbo8](https://imgur.com/u1qnbo8)'"
      ]
     },
     "execution_count": 449,
     "metadata": {},
     "output_type": "execute_result"
    }
   ],
   "source": [
    "X2[599]"
   ]
  },
  {
   "cell_type": "markdown",
   "id": "6ce15b6c",
   "metadata": {},
   "source": [
    "That's touching and sad..."
   ]
  },
  {
   "cell_type": "code",
   "execution_count": 450,
   "id": "c40fea66",
   "metadata": {},
   "outputs": [
    {
     "data": {
      "text/plain": [
       "'i’m currently a sr desktop support tech, but also do admin work such as budget, purchasing, dealing with vendors such as dell, fortinet, shi, etc. and also i am in charge of our office365 rollout, plus 2 additional phone systems in 2 new locations, and also point on training the lower tech. this team is me, one tech, and a contractor. everything i’m in charge of project wise i’ve learned as i went huge in trial and error. \\n\\nmy issue is i love my job, i love the admin work, i absolutely hate end user help. i’m tier 2-3 and tier 1 when my tech can’t figure it out. i’m just so sick of people. maybe it’s just the people i work with. they are wonderful people, great people to be around but they seriously need to take intro to internet and office suite classes. i’m so tired of the full blown ticket listed as emergency, when it’s simply showing them how to use the bookmark bar…again. or adding a shortcut to sites most used on the desktop. or my favorite “it doesn’t work!” ok what doesn’t work? “all of it.” like the fucker is on so it works what’s the problem. and the steps of babying these people to get out what they need just drives me ape shit. \\n\\nobviously, i’m not a very good people person. i’m never rude to anyone even when i’m showing my tech the millionth time how to do something and he still doesn’t seem to take notes. i just absorb the anger and release it later. but it’s like this every damn day. my husband thinks i’m an idiot for wanting to change my career to medical assistant as that’s an even more customer service field. \\n\\nif i get a job in a noc or as network/system admin would i deal more with hw/sw? \\n\\ni’m thinking if i just change employers it would help. i love the medical field was originally going into it, but injured myself and i couldn’t stand or walk due to severe lower back pain where i needed a walker damn near wheelchair for a good 3 years before i cut all pain meds, muscle relaxers but 1, and began a physical therapy i created myself and after 2 years lost 80lbs and can walk a hell of a lot better. it ain’t perfect but it’s much better. so i went into it cuz my doc really thought i was going to be paralyzed and wheelchair bound. but i do love it. it’s a lot of fun, it’s just the people are oh my god! so fucking stupid. and they’ve done this job for 5-10 some 17-25 years and yet the basics is not there. and they refuse to learn how to do it. as i’ve shown them how so many times. \\n\\ni’m not sure if it’s just this job environment or if it’s like that everywhere?'"
      ]
     },
     "execution_count": 450,
     "metadata": {},
     "output_type": "execute_result"
    }
   ],
   "source": [
    "X2[1302] # This one scored 0.996717"
   ]
  },
  {
   "cell_type": "markdown",
   "id": "08134c15",
   "metadata": {},
   "source": [
    "Okay, this one seems like it just doesn't have that many typical words that are found in typical ITCQ posts. This is an experienced professional that is frustrated with their particular situation, and is more venting than anything. With the lack of the typical ITCQ words, and a number of words that do relate to TFTS through her recounting of her experience, this is probably why it received such a high score for TFTS."
   ]
  },
  {
   "cell_type": "code",
   "execution_count": 451,
   "id": "1bfd7ec5",
   "metadata": {},
   "outputs": [
    {
     "data": {
      "text/plain": [
       "'i work with an it service provider. we have clients from a one person accountant firm to company\\'s with 600 employees. we support remotely and we have field engineers for callouts/installs. i\\'m a field engineer.\\n\\nmy history is that i had zero experience in it before i started. i watched a few youtube videos on how to build a pc. that was it. anyhow, i managed to get a company to take a chance on me and 2 years later i\\'m still there.\\n\\nbut there is a but. i\\'m really good at grunt work, the installing of new machines, profile transfers, data, software and troubleshooting, talking to clients, being on time, well presented, my administration is all great but the company keeps loading the high pressure jobs on me. that are way above my skill and knowledge. all with the usual line of \"ah if you got any problems, just call one of the senior guys\". oh also, when i\\'m not on the road with clients i\\'m on the helpdesk doing the basic support requests.\\n\\nthe problem is, we have a huge new client who has spent £100,000\\'s on their entire it infrastructure and i was sent in to be their it guy for a week while they were opening. their network has vlans in play, managed switches and a multitude of equipment i can\\'t pronounce or understand. their managers are coming to me looking for things to be done and i don\\'t even recognize the words they are using so trying to relay these questions to the senior guys in my company is incredibly difficult.\\n\\ni\\'ve got engineers from other contractors too that are looking for the \"it guy\" as they need something and i\\'m completely 100% out of my depth. again they are saying words that i don\\'t understand.\\n\\nit got so bad last week that the contractors were laughing at me and were making jokes like \"well there\\'s no point asking the it guy and they would all laugh. at that stage i just left the site and sat in my van for 2hrs. feeling ashamed and embarrassed.\\n\\nall of this is compounded by me going on call. it\\'s 6am to 10pm for 7 days. i\\'m on call every 6 weeks.\\nagain, they just railroaded me into being on call. like my boss just walked up to me on a thursday and said, \"your going on call on sunday\". that was that. i told him i\\'m not ready but he wasn\\'t interested. on call is everything from account unlocks to entire systems being down and your the guy to sort it. now, monday to friday 8am to 5.30 the guys on the desk sort out any problems but anything not cleared before 5.30 gets passed on to the on-call guy. i\\'m by far the most inexperienced engineer they have yet there are guys who don\\'t do on-call. they just refused. so i\\'m looking at the better, more experienced engineer\\'s who technically would be better suited to being on call than me and yet they aren\\'t on the rota. i just got dropped into it.\\n\\ni\\'m nowhere near the level to be dealing with network outages and yet they just pile it onto me. the week before my on-call i\\'m stressed out just thinking of it. it genuinely affects my ability to even carry out my own work. the week on call is an absolute nightmare just waiting for the calls that may or may not come. i\\'m stressed off my tits really for two weeks. its too much for me.\\n\\ni guess what im looking for is advice from people who have had similar experiences. does any of this ever get easier? should i approach my manager and explain what happened last week? i just don\\'t know.\\n\\nregarding being on call, everybody hates it and there is real animosity to the guys who don\\'t do it and i don\\'t wanna be the guy that isn\\'t pulling his weight. \\n\\nsorry for the long ramble. i just need to talk to someone about it'"
      ]
     },
     "execution_count": 451,
     "metadata": {},
     "output_type": "execute_result"
    }
   ],
   "source": [
    "X2[1176]  # This one scored 0.999929"
   ]
  },
  {
   "cell_type": "markdown",
   "id": "a536023a",
   "metadata": {},
   "source": [
    " Another example of a post likely being posted in the wrong forum (although they do at least ask some questions at the end). The model is proving useful in highlighting mismatches and would at least be valuable as a recommender."
   ]
  },
  {
   "cell_type": "code",
   "execution_count": 453,
   "id": "0abfda73",
   "metadata": {},
   "outputs": [
    {
     "data": {
      "text/plain": [
       "'**tldr:** coding/scripting, server administration, networking fundamentals, and building sample/test projects in the cloud are important skills!  \\n\\n\\nhi all, i’ve just celebrated my one year of working at a cloud company, and i thought i’d put together a post that gives it generalists or new it people an idea of the skills and knowledge to go after if you want to work in a cloud position.  \\n**just a disclaimer:** when i say “cloud position”, i am referring to a technical one. there are actually tons of different paths to the cloud such as sales and project management, but i don’t have experience with those sections of the cloud, so i won’t be discussing them. this post is for those that want to be engineers in the cloud, and perform technical duties.\\n\\n**my path/history in case anyone wants to know:** desktop support > application support > server support > cloud support engineer > technical account manager\\n\\n**intended audience of this post:** it generalists that haven’t found a specialization. this includes positions such as: **help desk/service desk, tech support, desktop support, jr sys admin, sys admin, etc.**\\n\\n**people that could still benefit from this post in some way:** those that are looking to make a move to it, are new to the field, or are already in semi-specializes roles like dba, network engineer/admin, etc.\\n\\n  \\n***the meat of the post***\\n\\nso here are the skills i recommend you work on if you want to work in a cloud position.\\n\\n**just fyi:** these are not in any particular order:\\n\\n1. **coding/scripting:** now that i work in the cloud, i see this skill being used all the time. learn a coding language or scripting language and get comfortable with reading code and being able to know what the basic gist of the code is. if you get a technical position working with cloud and don’t know how to code or how to read code, you’re not going to have a fun time.\\n2. **server administration:** this will be skills such as learning **powershell** for windows servers, **bash/shell** for linux/unix servers, and knowing the role that servers play in the internet and in enterprise setups. you most likely will be using configuration management tools to run commands over many servers at one time, either to perform maintenance tasks, to extract information from an app on the server, or the server itself, and knowing the syntax for doing these tasks will make things way easier.   \\nserver administration knowledge will also give you an idea of what’s going on with architecture, and how the flow of data is looking within your environment.\\n   1. **windows server vs linux/unix:** linux/unix is more common and is the operating system that practically runs the world, but knowing the windows stuff could give you some nice specialist knowledge.\\n   2. server administration will also teach a super duper important sub-skill: **logging and monitoring.** when you work in the cloud and work with tons and tons of virtual machines or other cloud compute services, databases, etc, you’ll want to know if anything goes wrong with them and be able to pull up logs to see what’s going on with them.\\n   3. **note:** i am going to put database knowledge in this category as a bonus, because most apps in the cloud are going to have some sort of database they record data into, and it would be useful to know **sql** and understand how databases work.\\n3. **networking fundamentals:** for this skill, i am referring to understanding the flow of data within a computing environment, and the internet. an example would be knowing how a 3-tier web app works, or understanding what goes on behind the scenes when you input a website into your browser. where does the information go? what networking/server devices play a role in the data exchange? this skill is all about understanding network traffic and how it flows. \\n4. **building in the cloud:** what i don’t mean by this - you just spinning up a vm in the cloud and installing a wordpress site on it. while that is a good first step, what i mean for this skill is to try and build whole app architectures in the cloud, or even go next-level and try to build an app with **container services, serverless services, or managed services (or a combination!)**. now, you don’t have to make these architectures large, they can be small so that you don’t incur too much cost in your cloud test environment.\\n   1. go search the internet for cloud projects you can do, try them all and truly research and understand not only how to build it, **but why it’s built the way it is**, what’s going on behind the scenes, and **how could you make it better**.\\n   2. getting certifications for the big cloud providers does give you a good start with the cloud, but supplement with getting some **hands on and building stuff**.'"
      ]
     },
     "execution_count": 453,
     "metadata": {},
     "output_type": "execute_result"
    }
   ],
   "source": [
    "X2[1519] # This one scored 0.987128"
   ]
  },
  {
   "cell_type": "markdown",
   "id": "01239d09",
   "metadata": {},
   "source": [
    "This one is a bit different from the others. This one is proffering advice as opposed to asking questions, but is still relevant to the forum. Perhaps if we had another model that was trained on 'Advice' or 'IT Advice' or something of the sort, we would be able to usefully group these types of posts beyond the loan recommendation that this model would make."
   ]
  },
  {
   "cell_type": "code",
   "execution_count": 466,
   "id": "b314785d",
   "metadata": {},
   "outputs": [
    {
     "data": {
      "text/plain": [
       "'our company consists of 8 different locations, corporate included (which i work at). we have a really old crm tool that is about 20 years old and written in delphi. it\\'s currently being held together by masking tape and thumb tacks. it\\'s really buggy, and the code is atrocious. luckily, the entire program is being redesigned in c#, but we still take reasonable small requests on the current buggy one.\\n\\nthis program currently has little security on it. you either have access to the whole thing or you don\\'t. apparently, someone made a mistake in one text field or accidentally changed it when they weren\\'t supposed to. because of this one small harmless incident, one of the engineering managers (civil engineering) sent us a request with the other engineering managers cc\\'d. apparently they want to \"password protect\" this field so that a little text window comes up asking for the \"password\" to change it.\\n\\nyes. one field. out of the dozens and dozens of fields and different screens in this entire application. all because of one mistake someone made. i\\'ve heard that some of the engineering managers at this company are micromanagers, and this ticket shows that.\\n\\nwe have our weekly it meeting. i have a feeling my boss is gonna laugh at this ticket.\\n\\nso, sysadmins/programmers. what tickets have you received that made people look like micromanagers?'"
      ]
     },
     "execution_count": 466,
     "metadata": {},
     "output_type": "execute_result"
    }
   ],
   "source": [
    "X2[256] # 0.015106"
   ]
  },
  {
   "cell_type": "markdown",
   "id": "ae00cb75",
   "metadata": {},
   "source": [
    "Surprising that this one has such a low score. It does have a question, and is low on technical jargon, so that could be a contributing reason..."
   ]
  },
  {
   "cell_type": "code",
   "execution_count": 467,
   "id": "23bde66f",
   "metadata": {},
   "outputs": [
    {
     "data": {
      "text/plain": [
       "'quick family tech support with a life lesson.\\n\\nnote: my parents are on linux because why buy windows to browse the internet?\\n\\n> father: can i install [this] program on linux?\\n\\n> me: *ignores question* show me.\\n\\n> father: *clicks show all downloads*\\n\\ni see \"program_installer (4).exe\" (not the real installer name)... only 3 versions, which means he downloaded this same program twice before this. turns out that was in december.\\n\\n> me: how did you come up with this program? \\n\\n> father: i saw it on facebook and i thought it looked simple and easy to learn.\\n\\nhe said something about not taking hours to learn or something, poorly jabbing at linux because he thinks it annoys me when it\\'s really his willful ignorance and his treatment of me that annoys me.\\n\\n> me: *starts looking up alternatives but finds nothing as \"simple\" as he wants.*\\n\\n> father: so i take that as a no? (in reference to if this program will work on linux.)\\n\\n> me: maybe in wine if need be but what do you want to do with this program?\\n\\n> father: well... i don\\'t know.\\n\\ntl;dr; always ask what they want to accomplish with said [whatever] first.\\n\\nedit: word.\\n\\nedit: clarify \"program_installer\" is not the real name.'"
      ]
     },
     "execution_count": 467,
     "metadata": {},
     "output_type": "execute_result"
    }
   ],
   "source": [
    "X2[757] # 0.029156"
   ]
  },
  {
   "cell_type": "markdown",
   "id": "25d27288",
   "metadata": {},
   "source": [
    "Seems like the number of questions in the post may have something to do with the low score, hard to tell..."
   ]
  },
  {
   "cell_type": "code",
   "execution_count": 470,
   "id": "49175257",
   "metadata": {},
   "outputs": [
    {
     "data": {
      "text/plain": [
       "29     0.936692\n",
       "210    0.999939\n",
       "584    0.999220\n",
       "51     0.934684\n",
       "767    0.999926\n",
       "         ...   \n",
       "752    1.000000\n",
       "611    0.958052\n",
       "990    1.000000\n",
       "942    1.000000\n",
       "530    0.997154\n",
       "Name: pred_probs, Length: 273, dtype: float64"
      ]
     },
     "execution_count": 470,
     "metadata": {},
     "output_type": "execute_result"
    }
   ],
   "source": [
    "pred_df2[(pred_df2['true_values'] == 1)]['pred_probs']"
   ]
  },
  {
   "cell_type": "code",
   "execution_count": 506,
   "id": "6601f2c8",
   "metadata": {},
   "outputs": [
    {
     "data": {
      "image/png": "[encoded data removed]",
      "text/plain": [
       "<Figure size 720x432 with 1 Axes>"
      ]
     },
     "metadata": {},
     "output_type": "display_data"
    }
   ],
   "source": [
    "plt.figure(figsize=(10,6))\n",
    "sns.set_theme(style=\"ticks\")\n",
    "\n",
    "ax = sns.boxenplot(x=pred_df2[(pred_df2['true_values'] == 1)]['pred_probs'])\n",
    "ax.set_xlabel('Predicted Probabilites', fontsize=14)\n",
    "ax.set_title('Probability Distributions for Actual Trues (vs r/ITCareerQuestions)', fontdict=\n",
    "             {'fontsize': 16, \n",
    "              'fontweight': 2,\n",
    "#               'color': ,\n",
    "              'verticalalignment': 'baseline',\n",
    "              'horizontalalignment': 'center'}\n",
    "            )\n",
    "ax.set_xticks((0.0, .1, .2, .3, .4, .5, .6, .7, .8, .9, 1.0))\n",
    "plt.axvline(.5, color='r')\n",
    "sns.despine(trim=True);"
   ]
  },
  {
   "cell_type": "code",
   "execution_count": 507,
   "id": "7beb47c4",
   "metadata": {},
   "outputs": [
    {
     "data": {
      "image/png": "[encoded data removed]",
      "text/plain": [
       "<Figure size 720x432 with 1 Axes>"
      ]
     },
     "metadata": {},
     "output_type": "display_data"
    }
   ],
   "source": [
    "plt.figure(figsize=(10,6))\n",
    "sns.set_theme(style=\"ticks\")\n",
    "\n",
    "ax = sns.boxenplot(x=pred_df2[(pred_df2['true_values'] == 0)]['pred_probs'])\n",
    "ax.set_xlabel('Predicted Probabilites', fontsize=14)\n",
    "ax.set_title('Probability Distributions for Actual Falses (vs. r/ITCareerQuestions)', fontdict=\n",
    "             {'fontsize': 16, \n",
    "              'fontweight': 2,\n",
    "#               'color': ,\n",
    "              'verticalalignment': 'baseline',\n",
    "              'horizontalalignment': 'center'}\n",
    "            )\n",
    "ax.set_xticks((0.0, .1, .2, .3, .4, .5, .6, .7, .8, .9, 1.0))\n",
    "plt.axvline(.5, color='r')\n",
    "sns.despine(trim=True);"
   ]
  },
  {
   "cell_type": "code",
   "execution_count": null,
   "id": "39bfcc4c",
   "metadata": {},
   "outputs": [],
   "source": []
  }
 ],
 "metadata": {
  "kernelspec": {
   "display_name": "Python 3 (ipykernel)",
   "language": "python",
   "name": "python3"
  },
  "language_info": {
   "codemirror_mode": {
    "name": "ipython",
    "version": 3
   },
   "file_extension": ".py",
   "mimetype": "text/x-python",
   "name": "python",
   "nbconvert_exporter": "python",
   "pygments_lexer": "ipython3",
   "version": "3.7.11"
  }
 },
 "nbformat": 4,
 "nbformat_minor": 5
}
